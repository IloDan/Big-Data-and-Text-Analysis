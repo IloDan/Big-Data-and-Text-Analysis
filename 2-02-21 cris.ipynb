{
 "cells": [
  {
   "cell_type": "code",
   "execution_count": 1,
   "metadata": {},
   "outputs": [
    {
     "name": "stderr",
     "output_type": "stream",
     "text": [
      "c:\\Users\\dany0\\anaconda3\\lib\\site-packages\\scipy\\__init__.py:146: UserWarning: A NumPy version >=1.16.5 and <1.23.0 is required for this version of SciPy (detected version 1.24.3\n",
      "  warnings.warn(f\"A NumPy version >={np_minversion} and <{np_maxversion}\"\n"
     ]
    }
   ],
   "source": [
    "import pandas as pd\n",
    "import numpy as np\n",
    "import matplotlib.pyplot as plt\n",
    "import seaborn as sns\n",
    "import sklearn as sk"
   ]
  },
  {
   "cell_type": "code",
   "execution_count": 2,
   "metadata": {},
   "outputs": [
    {
     "data": {
      "text/html": [
       "<div>\n",
       "<style scoped>\n",
       "    .dataframe tbody tr th:only-of-type {\n",
       "        vertical-align: middle;\n",
       "    }\n",
       "\n",
       "    .dataframe tbody tr th {\n",
       "        vertical-align: top;\n",
       "    }\n",
       "\n",
       "    .dataframe thead th {\n",
       "        text-align: right;\n",
       "    }\n",
       "</style>\n",
       "<table border=\"1\" class=\"dataframe\">\n",
       "  <thead>\n",
       "    <tr style=\"text-align: right;\">\n",
       "      <th></th>\n",
       "      <th>age</th>\n",
       "      <th>anaemia</th>\n",
       "      <th>creatinine_phosphokinase</th>\n",
       "      <th>diabetes</th>\n",
       "      <th>ejection_fraction</th>\n",
       "      <th>high_blood_pressure</th>\n",
       "      <th>platelets</th>\n",
       "      <th>serum_creatinine</th>\n",
       "      <th>serum_sodium</th>\n",
       "      <th>sex</th>\n",
       "      <th>smoking</th>\n",
       "      <th>time</th>\n",
       "      <th>DEATH_EVENT</th>\n",
       "    </tr>\n",
       "  </thead>\n",
       "  <tbody>\n",
       "    <tr>\n",
       "      <th>0</th>\n",
       "      <td>75.0</td>\n",
       "      <td>0</td>\n",
       "      <td>582</td>\n",
       "      <td>0</td>\n",
       "      <td>20</td>\n",
       "      <td>1</td>\n",
       "      <td>265000.00</td>\n",
       "      <td>1.9</td>\n",
       "      <td>130</td>\n",
       "      <td>1</td>\n",
       "      <td>0</td>\n",
       "      <td>4</td>\n",
       "      <td>1</td>\n",
       "    </tr>\n",
       "    <tr>\n",
       "      <th>1</th>\n",
       "      <td>55.0</td>\n",
       "      <td>0</td>\n",
       "      <td>7861</td>\n",
       "      <td>0</td>\n",
       "      <td>38</td>\n",
       "      <td>0</td>\n",
       "      <td>263358.03</td>\n",
       "      <td>1.1</td>\n",
       "      <td>136</td>\n",
       "      <td>1</td>\n",
       "      <td>0</td>\n",
       "      <td>6</td>\n",
       "      <td>1</td>\n",
       "    </tr>\n",
       "    <tr>\n",
       "      <th>2</th>\n",
       "      <td>65.0</td>\n",
       "      <td>0</td>\n",
       "      <td>146</td>\n",
       "      <td>0</td>\n",
       "      <td>20</td>\n",
       "      <td>0</td>\n",
       "      <td>162000.00</td>\n",
       "      <td>1.3</td>\n",
       "      <td>129</td>\n",
       "      <td>1</td>\n",
       "      <td>1</td>\n",
       "      <td>7</td>\n",
       "      <td>1</td>\n",
       "    </tr>\n",
       "    <tr>\n",
       "      <th>3</th>\n",
       "      <td>50.0</td>\n",
       "      <td>1</td>\n",
       "      <td>111</td>\n",
       "      <td>0</td>\n",
       "      <td>20</td>\n",
       "      <td>0</td>\n",
       "      <td>210000.00</td>\n",
       "      <td>1.9</td>\n",
       "      <td>137</td>\n",
       "      <td>1</td>\n",
       "      <td>0</td>\n",
       "      <td>7</td>\n",
       "      <td>1</td>\n",
       "    </tr>\n",
       "    <tr>\n",
       "      <th>4</th>\n",
       "      <td>65.0</td>\n",
       "      <td>1</td>\n",
       "      <td>160</td>\n",
       "      <td>1</td>\n",
       "      <td>20</td>\n",
       "      <td>0</td>\n",
       "      <td>327000.00</td>\n",
       "      <td>2.7</td>\n",
       "      <td>116</td>\n",
       "      <td>0</td>\n",
       "      <td>0</td>\n",
       "      <td>8</td>\n",
       "      <td>1</td>\n",
       "    </tr>\n",
       "    <tr>\n",
       "      <th>...</th>\n",
       "      <td>...</td>\n",
       "      <td>...</td>\n",
       "      <td>...</td>\n",
       "      <td>...</td>\n",
       "      <td>...</td>\n",
       "      <td>...</td>\n",
       "      <td>...</td>\n",
       "      <td>...</td>\n",
       "      <td>...</td>\n",
       "      <td>...</td>\n",
       "      <td>...</td>\n",
       "      <td>...</td>\n",
       "      <td>...</td>\n",
       "    </tr>\n",
       "    <tr>\n",
       "      <th>294</th>\n",
       "      <td>62.0</td>\n",
       "      <td>0</td>\n",
       "      <td>61</td>\n",
       "      <td>1</td>\n",
       "      <td>38</td>\n",
       "      <td>1</td>\n",
       "      <td>155000.00</td>\n",
       "      <td>1.1</td>\n",
       "      <td>143</td>\n",
       "      <td>1</td>\n",
       "      <td>1</td>\n",
       "      <td>270</td>\n",
       "      <td>0</td>\n",
       "    </tr>\n",
       "    <tr>\n",
       "      <th>295</th>\n",
       "      <td>55.0</td>\n",
       "      <td>0</td>\n",
       "      <td>1820</td>\n",
       "      <td>0</td>\n",
       "      <td>38</td>\n",
       "      <td>0</td>\n",
       "      <td>270000.00</td>\n",
       "      <td>1.2</td>\n",
       "      <td>139</td>\n",
       "      <td>0</td>\n",
       "      <td>0</td>\n",
       "      <td>271</td>\n",
       "      <td>0</td>\n",
       "    </tr>\n",
       "    <tr>\n",
       "      <th>296</th>\n",
       "      <td>45.0</td>\n",
       "      <td>0</td>\n",
       "      <td>2060</td>\n",
       "      <td>1</td>\n",
       "      <td>60</td>\n",
       "      <td>0</td>\n",
       "      <td>742000.00</td>\n",
       "      <td>0.8</td>\n",
       "      <td>138</td>\n",
       "      <td>0</td>\n",
       "      <td>0</td>\n",
       "      <td>278</td>\n",
       "      <td>0</td>\n",
       "    </tr>\n",
       "    <tr>\n",
       "      <th>297</th>\n",
       "      <td>45.0</td>\n",
       "      <td>0</td>\n",
       "      <td>2413</td>\n",
       "      <td>0</td>\n",
       "      <td>38</td>\n",
       "      <td>0</td>\n",
       "      <td>140000.00</td>\n",
       "      <td>1.4</td>\n",
       "      <td>140</td>\n",
       "      <td>1</td>\n",
       "      <td>1</td>\n",
       "      <td>280</td>\n",
       "      <td>0</td>\n",
       "    </tr>\n",
       "    <tr>\n",
       "      <th>298</th>\n",
       "      <td>50.0</td>\n",
       "      <td>0</td>\n",
       "      <td>196</td>\n",
       "      <td>0</td>\n",
       "      <td>45</td>\n",
       "      <td>0</td>\n",
       "      <td>395000.00</td>\n",
       "      <td>1.6</td>\n",
       "      <td>136</td>\n",
       "      <td>1</td>\n",
       "      <td>1</td>\n",
       "      <td>285</td>\n",
       "      <td>0</td>\n",
       "    </tr>\n",
       "  </tbody>\n",
       "</table>\n",
       "<p>299 rows × 13 columns</p>\n",
       "</div>"
      ],
      "text/plain": [
       "      age  anaemia  creatinine_phosphokinase  diabetes  ejection_fraction  \\\n",
       "0    75.0        0                       582         0                 20   \n",
       "1    55.0        0                      7861         0                 38   \n",
       "2    65.0        0                       146         0                 20   \n",
       "3    50.0        1                       111         0                 20   \n",
       "4    65.0        1                       160         1                 20   \n",
       "..    ...      ...                       ...       ...                ...   \n",
       "294  62.0        0                        61         1                 38   \n",
       "295  55.0        0                      1820         0                 38   \n",
       "296  45.0        0                      2060         1                 60   \n",
       "297  45.0        0                      2413         0                 38   \n",
       "298  50.0        0                       196         0                 45   \n",
       "\n",
       "     high_blood_pressure  platelets  serum_creatinine  serum_sodium  sex  \\\n",
       "0                      1  265000.00               1.9           130    1   \n",
       "1                      0  263358.03               1.1           136    1   \n",
       "2                      0  162000.00               1.3           129    1   \n",
       "3                      0  210000.00               1.9           137    1   \n",
       "4                      0  327000.00               2.7           116    0   \n",
       "..                   ...        ...               ...           ...  ...   \n",
       "294                    1  155000.00               1.1           143    1   \n",
       "295                    0  270000.00               1.2           139    0   \n",
       "296                    0  742000.00               0.8           138    0   \n",
       "297                    0  140000.00               1.4           140    1   \n",
       "298                    0  395000.00               1.6           136    1   \n",
       "\n",
       "     smoking  time  DEATH_EVENT  \n",
       "0          0     4            1  \n",
       "1          0     6            1  \n",
       "2          1     7            1  \n",
       "3          0     7            1  \n",
       "4          0     8            1  \n",
       "..       ...   ...          ...  \n",
       "294        1   270            0  \n",
       "295        0   271            0  \n",
       "296        0   278            0  \n",
       "297        1   280            0  \n",
       "298        1   285            0  \n",
       "\n",
       "[299 rows x 13 columns]"
      ]
     },
     "execution_count": 2,
     "metadata": {},
     "output_type": "execute_result"
    }
   ],
   "source": [
    "df = pd.read_csv('./Clinical/heart_failure_clinical_records_dataset.csv', sep=',')\n",
    "df"
   ]
  },
  {
   "cell_type": "code",
   "execution_count": 3,
   "metadata": {},
   "outputs": [
    {
     "data": {
      "text/plain": [
       "age                         0\n",
       "anaemia                     0\n",
       "creatinine_phosphokinase    0\n",
       "diabetes                    0\n",
       "ejection_fraction           0\n",
       "high_blood_pressure         0\n",
       "platelets                   0\n",
       "serum_creatinine            0\n",
       "serum_sodium                0\n",
       "sex                         0\n",
       "smoking                     0\n",
       "time                        0\n",
       "DEATH_EVENT                 0\n",
       "dtype: int64"
      ]
     },
     "execution_count": 3,
     "metadata": {},
     "output_type": "execute_result"
    }
   ],
   "source": [
    "df.isnull().sum()"
   ]
  },
  {
   "cell_type": "code",
   "execution_count": 4,
   "metadata": {},
   "outputs": [
    {
     "data": {
      "text/plain": [
       "<AxesSubplot:ylabel='count'>"
      ]
     },
     "execution_count": 4,
     "metadata": {},
     "output_type": "execute_result"
    },
    {
     "data": {
      "image/png": "[encoded data removed]",
      "text/plain": [
       "<Figure size 432x288 with 1 Axes>"
      ]
     },
     "metadata": {},
     "output_type": "display_data"
    }
   ],
   "source": [
    "df['DEATH_EVENT'].value_counts().plot(kind='pie', autopct='%.2f%%')\n"
   ]
  },
  {
   "cell_type": "code",
   "execution_count": 5,
   "metadata": {},
   "outputs": [
    {
     "data": {
      "text/plain": [
       "<AxesSubplot:ylabel='Frequency'>"
      ]
     },
     "execution_count": 5,
     "metadata": {},
     "output_type": "execute_result"
    },
    {
     "data": {
      "image/png": "[encoded data removed]",
      "text/plain": [
       "<Figure size 432x288 with 1 Axes>"
      ]
     },
     "metadata": {
      "needs_background": "light"
     },
     "output_type": "display_data"
    }
   ],
   "source": [
    "df['age'].plot(kind='hist', bins=100)"
   ]
  },
  {
   "cell_type": "code",
   "execution_count": 6,
   "metadata": {},
   "outputs": [
    {
     "data": {
      "text/plain": [
       "<AxesSubplot:xlabel='age'>"
      ]
     },
     "execution_count": 6,
     "metadata": {},
     "output_type": "execute_result"
    },
    {
     "data": {
      "image/png": "[encoded data removed]",
      "text/plain": [
       "<Figure size 1440x720 with 1 Axes>"
      ]
     },
     "metadata": {
      "needs_background": "light"
     },
     "output_type": "display_data"
    }
   ],
   "source": [
    "df['age'].value_counts(sort=False).plot(kind='bar', figsize=(20,10))"
   ]
  },
  {
   "attachments": {},
   "cell_type": "markdown",
   "metadata": {},
   "source": [
    "donne -> sex = 0\n",
    "maschi-> man = 1\n",
    "\n",
    "- si poteva fare con pivout table\n",
    "- \n"
   ]
  },
  {
   "cell_type": "code",
   "execution_count": 7,
   "metadata": {},
   "outputs": [
    {
     "name": "stdout",
     "output_type": "stream",
     "text": [
      "la percentuale di morte delle donne è:  DEATH_EVENT\n",
      "1    0.32381\n",
      "Name: count, dtype: float64\n",
      "la percentuale di morte degli uomini è:  DEATH_EVENT\n",
      "1    0.319588\n",
      "Name: count, dtype: float64\n"
     ]
    },
    {
     "data": {
      "image/png": "[encoded data removed]",
      "text/plain": [
       "<Figure size 432x288 with 1 Axes>"
      ]
     },
     "metadata": {
      "needs_background": "light"
     },
     "output_type": "display_data"
    }
   ],
   "source": [
    "# seleziono i soli record con morte dei pazienti\n",
    "df_death = df.loc[df['DEATH_EVENT'] == 1]\n",
    "death = df_death.groupby('sex')['DEATH_EVENT'].value_counts()\n",
    "death.plot(kind='bar')\n",
    "\n",
    "#normalizzo i maschi morti per il totale dei maschi\n",
    "#normalizzo le femmine morte per il totale delle femmine\n",
    "\n",
    "total_man = df['sex'].value_counts()[1]\n",
    "total_femm = df['sex'].value_counts()[0]\n",
    "\n",
    "fem_death = death[0]/total_femm\n",
    "man_death = death[1]/total_man\n",
    "\n",
    "print('la percentuale di morte delle donne è: ', fem_death)   \n",
    "print('la percentuale di morte degli uomini è: ', man_death)\n",
    "\n"
   ]
  },
  {
   "attachments": {},
   "cell_type": "markdown",
   "metadata": {},
   "source": [
    "In valore assoluto sono morte più donne che uomini, ma in proporzione al numero di donne e uomini, la percentuale di morte per i due sessi e pressochè la stessa.\n"
   ]
  },
  {
   "attachments": {},
   "cell_type": "markdown",
   "metadata": {},
   "source": [
    "# Parte 2\n"
   ]
  },
  {
   "cell_type": "code",
   "execution_count": 8,
   "metadata": {},
   "outputs": [],
   "source": [
    "\n",
    "\n",
    "dt = pd.read_csv('./Clinical/heart_failure_clinical_records_dataset.csv', sep=',')\n",
    "\n",
    "\n"
   ]
  },
  {
   "cell_type": "code",
   "execution_count": 9,
   "metadata": {},
   "outputs": [
    {
     "name": "stdout",
     "output_type": "stream",
     "text": [
      "(299, 12) (299,)\n",
      "(199, 12) (199,)\n",
      "(100, 12) (100,)\n"
     ]
    }
   ],
   "source": [
    "from sklearn.model_selection import train_test_split\n",
    "\n",
    "X = dt.drop('DEATH_EVENT', axis=1)\n",
    "y = dt['DEATH_EVENT']\n",
    "X_train, X_test, y_train, y_test = train_test_split(X, y, test_size=1/3)\n",
    "print(X.shape, y.shape)\n",
    "print(X_train.shape, y_train.shape)\n",
    "print(X_test.shape, y_test.shape)"
   ]
  },
  {
   "cell_type": "code",
   "execution_count": 10,
   "metadata": {},
   "outputs": [],
   "source": [
    "from sklearn.tree import DecisionTreeClassifier\n",
    "from sklearn.linear_model import LogisticRegression\n",
    "from sklearn.metrics import accuracy_score\n",
    "from sklearn.metrics import confusion_matrix\n",
    "from sklearn.metrics import classification_report\n",
    "\n"
   ]
  },
  {
   "cell_type": "code",
   "execution_count": 11,
   "metadata": {},
   "outputs": [],
   "source": [
    "#funzione per calcolare confusion matrix e il report\n",
    "def plot_confusion_matrix(confusion_matrix):\n",
    "    cm = confusion_matrix\n",
    "    # Calcolo dei conteggi non normalizzati\n",
    "    group_counts = [\"{0:0.0f}\\n({1:0.2%})\".format(value, value/np.sum(cm)) for value in cm.flatten()]\n",
    "\n",
    "    # Calcolo dei conteggi normalizzati\n",
    "    group_percentages = [\"{0:.2%}\\n({1:0.0f})\".format(value, value*np.sum(cm)) for value in cm.flatten()/np.sum(cm)]\n",
    "\n",
    "    # Trasformazione dei conteggi in una matrice 2x2\n",
    "    labels = np.asarray(group_counts).reshape(2, 2)\n",
    "\n",
    "    plot = sns.heatmap(cm, annot = labels, fmt='', cmap='Blues')\n",
    "    plot.set_title('Confusion Matrix')\n",
    "    plot.set_ylabel('True class')\n",
    "    plot.set_xlabel('Predicted class')\n",
    "    "
   ]
  },
  {
   "cell_type": "code",
   "execution_count": 12,
   "metadata": {},
   "outputs": [
    {
     "name": "stdout",
     "output_type": "stream",
     "text": [
      "acc train 1.0\n",
      "acc test 0.71\n"
     ]
    }
   ],
   "source": [
    "dtc = DecisionTreeClassifier()\n",
    "dtc.fit(X_train, y_train)\n",
    "y_pred_train = dtc.predict(X_train)\n",
    "acc_train = accuracy_score(y_train, y_pred_train)\n",
    "y_pred = dtc.predict(X_test)\n",
    "acc_test = accuracy_score(y_test, y_pred)\n",
    "print('acc train', acc_train)\n",
    "print('acc test', acc_test)\n",
    "cm_dtc = confusion_matrix(y_test, y_pred)"
   ]
  },
  {
   "cell_type": "code",
   "execution_count": 13,
   "metadata": {},
   "outputs": [
    {
     "name": "stdout",
     "output_type": "stream",
     "text": [
      "              precision    recall  f1-score   support\n",
      "\n",
      "           0       0.72      0.85      0.78        61\n",
      "           1       0.68      0.49      0.57        39\n",
      "\n",
      "    accuracy                           0.71       100\n",
      "   macro avg       0.70      0.67      0.67       100\n",
      "weighted avg       0.71      0.71      0.70       100\n",
      "\n"
     ]
    },
    {
     "data": {
      "image/png": "[encoded data removed]",
      "text/plain": [
       "<Figure size 432x288 with 2 Axes>"
      ]
     },
     "metadata": {
      "needs_background": "light"
     },
     "output_type": "display_data"
    }
   ],
   "source": [
    "plot_confusion_matrix(cm_dtc)\n",
    "print(classification_report(y_test, y_pred))\n"
   ]
  },
  {
   "cell_type": "code",
   "execution_count": 14,
   "metadata": {},
   "outputs": [
    {
     "name": "stdout",
     "output_type": "stream",
     "text": [
      "acc train:  0.8793969849246231\n",
      "acc:  0.72\n",
      "              precision    recall  f1-score   support\n",
      "\n",
      "           0       0.73      0.87      0.79        61\n",
      "           1       0.70      0.49      0.58        39\n",
      "\n",
      "    accuracy                           0.72       100\n",
      "   macro avg       0.71      0.68      0.68       100\n",
      "weighted avg       0.72      0.72      0.71       100\n",
      "\n"
     ]
    },
    {
     "data": {
      "image/png": "[encoded data removed]",
      "text/plain": [
       "<Figure size 432x288 with 2 Axes>"
      ]
     },
     "metadata": {
      "needs_background": "light"
     },
     "output_type": "display_data"
    }
   ],
   "source": [
    "lr_2 = LogisticRegression(solver='liblinear')\n",
    "lr_2.fit(X_train, y_train)\n",
    "y_pred_test_lr = lr_2.predict(X_test)\n",
    "y_pred_train_lr = lr_2.predict(X_train)\n",
    "acc_train_lr = accuracy_score(y_train, y_pred_train_lr)\n",
    "print('acc train: ', acc_train_lr)\n",
    "acc_test_lr = accuracy_score( y_test, y_pred_test_lr)\n",
    "print('acc: ', acc_test_lr)\n",
    "cm_lr = confusion_matrix(y_test, y_pred_test_lr)\n",
    "plot_confusion_matrix(cm_lr)\n",
    "print(classification_report(y_test, y_pred_test_lr))\n"
   ]
  },
  {
   "cell_type": "markdown",
   "metadata": {},
   "source": []
  },
  {
   "cell_type": "code",
   "execution_count": 15,
   "metadata": {},
   "outputs": [
    {
     "name": "stdout",
     "output_type": "stream",
     "text": [
      "acc train 0.7135678391959799\n",
      "acc test 0.61\n"
     ]
    },
    {
     "data": {
      "image/png": "[encoded data removed]",
      "text/plain": [
       "<Figure size 432x288 with 2 Axes>"
      ]
     },
     "metadata": {
      "needs_background": "light"
     },
     "output_type": "display_data"
    }
   ],
   "source": [
    "from sklearn.dummy import DummyClassifier\n",
    "\n",
    "dummy = DummyClassifier(strategy='most_frequent', random_state=0)\n",
    "dummy.fit(X_train, y_train)\n",
    "y_pred_train = dummy.predict(X_train)\n",
    "acc_train = accuracy_score(y_train, y_pred_train)\n",
    "y_pred_test = dummy.predict(X_test)\n",
    "acc_test = accuracy_score(y_test, y_pred_test)\n",
    "print('acc train', acc_train)\n",
    "print('acc test', acc_test)\n",
    "\n",
    "cm_dummy = confusion_matrix(y_test, y_pred)\n",
    "plot_confusion_matrix(cm_dummy)"
   ]
  },
  {
   "cell_type": "code",
   "execution_count": 16,
   "metadata": {},
   "outputs": [
    {
     "name": "stdout",
     "output_type": "stream",
     "text": [
      "accuracy per ogni fold [0.38333333 0.88333333 0.71666667 0.58333333 0.66101695]\n",
      "accuracy media 0.6455367231638418\n",
      "Accuracy con incertezza: 0.65 (+/- 0.33)\n"
     ]
    }
   ],
   "source": [
    "from sklearn.model_selection import cross_val_score\n",
    "\n",
    "# faccio il cross validation sul decision tree dtc con 10 fold \n",
    "\n",
    "cross_val = cross_val_score(dtc, X, y, cv = 5)\n",
    "print('accuracy per ogni fold', cross_val)\n",
    "print('accuracy media', cross_val.mean())\n",
    "print(\"Accuracy con incertezza: %0.2f (+/- %0.2f)\" % (cross_val.mean(), cross_val.std() * 2))"
   ]
  },
  {
   "attachments": {},
   "cell_type": "markdown",
   "metadata": {},
   "source": [
    "3. Considerare il dataset originale, eliminare l’attributo time, scalare il valore degli attributi a \n",
    "un intervallo (0,1) e allenare sui dati un modello di LinearRegression (https://scikit-\n",
    "learn.org/stable/modules/generated/sklearn.linear_model.LinearRegression.html#sklearn.linear\n",
    "_model.LinearRegression). \n"
   ]
  },
  {
   "cell_type": "markdown",
   "metadata": {},
   "source": []
  },
  {
   "cell_type": "code",
   "execution_count": 17,
   "metadata": {},
   "outputs": [
    {
     "name": "stdout",
     "output_type": "stream",
     "text": [
      "    age  anaemia  creatinine_phosphokinase  diabetes  ejection_fraction  \\\n",
      "0  75.0        0                       582         0                 20   \n",
      "1  55.0        0                      7861         0                 38   \n",
      "2  65.0        0                       146         0                 20   \n",
      "3  50.0        1                       111         0                 20   \n",
      "4  65.0        1                       160         1                 20   \n",
      "\n",
      "   high_blood_pressure  platelets  serum_creatinine  serum_sodium  sex  \\\n",
      "0                    1  265000.00               1.9           130    1   \n",
      "1                    0  263358.03               1.1           136    1   \n",
      "2                    0  162000.00               1.3           129    1   \n",
      "3                    0  210000.00               1.9           137    1   \n",
      "4                    0  327000.00               2.7           116    0   \n",
      "\n",
      "   smoking  \n",
      "0        0  \n",
      "1        0  \n",
      "2        1  \n",
      "3        0  \n",
      "4        0  \n"
     ]
    },
    {
     "data": {
      "text/html": [
       "<div>\n",
       "<style scoped>\n",
       "    .dataframe tbody tr th:only-of-type {\n",
       "        vertical-align: middle;\n",
       "    }\n",
       "\n",
       "    .dataframe tbody tr th {\n",
       "        vertical-align: top;\n",
       "    }\n",
       "\n",
       "    .dataframe thead th {\n",
       "        text-align: right;\n",
       "    }\n",
       "</style>\n",
       "<table border=\"1\" class=\"dataframe\">\n",
       "  <thead>\n",
       "    <tr style=\"text-align: right;\">\n",
       "      <th></th>\n",
       "      <th>age</th>\n",
       "      <th>anaemia</th>\n",
       "      <th>creatinine_phosphokinase</th>\n",
       "      <th>diabetes</th>\n",
       "      <th>ejection_fraction</th>\n",
       "      <th>high_blood_pressure</th>\n",
       "      <th>platelets</th>\n",
       "      <th>serum_creatinine</th>\n",
       "      <th>serum_sodium</th>\n",
       "      <th>sex</th>\n",
       "      <th>smoking</th>\n",
       "    </tr>\n",
       "  </thead>\n",
       "  <tbody>\n",
       "    <tr>\n",
       "      <th>0</th>\n",
       "      <td>0.789474</td>\n",
       "      <td>0.0</td>\n",
       "      <td>0.074036</td>\n",
       "      <td>0.0</td>\n",
       "      <td>0.2500</td>\n",
       "      <td>1.0</td>\n",
       "      <td>0.311765</td>\n",
       "      <td>0.202128</td>\n",
       "      <td>0.878378</td>\n",
       "      <td>1.0</td>\n",
       "      <td>0.0</td>\n",
       "    </tr>\n",
       "    <tr>\n",
       "      <th>1</th>\n",
       "      <td>0.578947</td>\n",
       "      <td>0.0</td>\n",
       "      <td>1.000000</td>\n",
       "      <td>0.0</td>\n",
       "      <td>0.4750</td>\n",
       "      <td>0.0</td>\n",
       "      <td>0.309833</td>\n",
       "      <td>0.117021</td>\n",
       "      <td>0.918919</td>\n",
       "      <td>1.0</td>\n",
       "      <td>0.0</td>\n",
       "    </tr>\n",
       "    <tr>\n",
       "      <th>2</th>\n",
       "      <td>0.684211</td>\n",
       "      <td>0.0</td>\n",
       "      <td>0.018573</td>\n",
       "      <td>0.0</td>\n",
       "      <td>0.2500</td>\n",
       "      <td>0.0</td>\n",
       "      <td>0.190588</td>\n",
       "      <td>0.138298</td>\n",
       "      <td>0.871622</td>\n",
       "      <td>1.0</td>\n",
       "      <td>1.0</td>\n",
       "    </tr>\n",
       "    <tr>\n",
       "      <th>3</th>\n",
       "      <td>0.526316</td>\n",
       "      <td>1.0</td>\n",
       "      <td>0.014120</td>\n",
       "      <td>0.0</td>\n",
       "      <td>0.2500</td>\n",
       "      <td>0.0</td>\n",
       "      <td>0.247059</td>\n",
       "      <td>0.202128</td>\n",
       "      <td>0.925676</td>\n",
       "      <td>1.0</td>\n",
       "      <td>0.0</td>\n",
       "    </tr>\n",
       "    <tr>\n",
       "      <th>4</th>\n",
       "      <td>0.684211</td>\n",
       "      <td>1.0</td>\n",
       "      <td>0.020354</td>\n",
       "      <td>1.0</td>\n",
       "      <td>0.2500</td>\n",
       "      <td>0.0</td>\n",
       "      <td>0.384706</td>\n",
       "      <td>0.287234</td>\n",
       "      <td>0.783784</td>\n",
       "      <td>0.0</td>\n",
       "      <td>0.0</td>\n",
       "    </tr>\n",
       "    <tr>\n",
       "      <th>...</th>\n",
       "      <td>...</td>\n",
       "      <td>...</td>\n",
       "      <td>...</td>\n",
       "      <td>...</td>\n",
       "      <td>...</td>\n",
       "      <td>...</td>\n",
       "      <td>...</td>\n",
       "      <td>...</td>\n",
       "      <td>...</td>\n",
       "      <td>...</td>\n",
       "      <td>...</td>\n",
       "    </tr>\n",
       "    <tr>\n",
       "      <th>294</th>\n",
       "      <td>0.652632</td>\n",
       "      <td>0.0</td>\n",
       "      <td>0.007760</td>\n",
       "      <td>1.0</td>\n",
       "      <td>0.4750</td>\n",
       "      <td>1.0</td>\n",
       "      <td>0.182353</td>\n",
       "      <td>0.117021</td>\n",
       "      <td>0.966216</td>\n",
       "      <td>1.0</td>\n",
       "      <td>1.0</td>\n",
       "    </tr>\n",
       "    <tr>\n",
       "      <th>295</th>\n",
       "      <td>0.578947</td>\n",
       "      <td>0.0</td>\n",
       "      <td>0.231523</td>\n",
       "      <td>0.0</td>\n",
       "      <td>0.4750</td>\n",
       "      <td>0.0</td>\n",
       "      <td>0.317647</td>\n",
       "      <td>0.127660</td>\n",
       "      <td>0.939189</td>\n",
       "      <td>0.0</td>\n",
       "      <td>0.0</td>\n",
       "    </tr>\n",
       "    <tr>\n",
       "      <th>296</th>\n",
       "      <td>0.473684</td>\n",
       "      <td>0.0</td>\n",
       "      <td>0.262053</td>\n",
       "      <td>1.0</td>\n",
       "      <td>0.7500</td>\n",
       "      <td>0.0</td>\n",
       "      <td>0.872941</td>\n",
       "      <td>0.085106</td>\n",
       "      <td>0.932432</td>\n",
       "      <td>0.0</td>\n",
       "      <td>0.0</td>\n",
       "    </tr>\n",
       "    <tr>\n",
       "      <th>297</th>\n",
       "      <td>0.473684</td>\n",
       "      <td>0.0</td>\n",
       "      <td>0.306958</td>\n",
       "      <td>0.0</td>\n",
       "      <td>0.4750</td>\n",
       "      <td>0.0</td>\n",
       "      <td>0.164706</td>\n",
       "      <td>0.148936</td>\n",
       "      <td>0.945946</td>\n",
       "      <td>1.0</td>\n",
       "      <td>1.0</td>\n",
       "    </tr>\n",
       "    <tr>\n",
       "      <th>298</th>\n",
       "      <td>0.526316</td>\n",
       "      <td>0.0</td>\n",
       "      <td>0.024933</td>\n",
       "      <td>0.0</td>\n",
       "      <td>0.5625</td>\n",
       "      <td>0.0</td>\n",
       "      <td>0.464706</td>\n",
       "      <td>0.170213</td>\n",
       "      <td>0.918919</td>\n",
       "      <td>1.0</td>\n",
       "      <td>1.0</td>\n",
       "    </tr>\n",
       "  </tbody>\n",
       "</table>\n",
       "<p>299 rows × 11 columns</p>\n",
       "</div>"
      ],
      "text/plain": [
       "          age  anaemia  creatinine_phosphokinase  diabetes  ejection_fraction  \\\n",
       "0    0.789474      0.0                  0.074036       0.0             0.2500   \n",
       "1    0.578947      0.0                  1.000000       0.0             0.4750   \n",
       "2    0.684211      0.0                  0.018573       0.0             0.2500   \n",
       "3    0.526316      1.0                  0.014120       0.0             0.2500   \n",
       "4    0.684211      1.0                  0.020354       1.0             0.2500   \n",
       "..        ...      ...                       ...       ...                ...   \n",
       "294  0.652632      0.0                  0.007760       1.0             0.4750   \n",
       "295  0.578947      0.0                  0.231523       0.0             0.4750   \n",
       "296  0.473684      0.0                  0.262053       1.0             0.7500   \n",
       "297  0.473684      0.0                  0.306958       0.0             0.4750   \n",
       "298  0.526316      0.0                  0.024933       0.0             0.5625   \n",
       "\n",
       "     high_blood_pressure  platelets  serum_creatinine  serum_sodium  sex  \\\n",
       "0                    1.0   0.311765          0.202128      0.878378  1.0   \n",
       "1                    0.0   0.309833          0.117021      0.918919  1.0   \n",
       "2                    0.0   0.190588          0.138298      0.871622  1.0   \n",
       "3                    0.0   0.247059          0.202128      0.925676  1.0   \n",
       "4                    0.0   0.384706          0.287234      0.783784  0.0   \n",
       "..                   ...        ...               ...           ...  ...   \n",
       "294                  1.0   0.182353          0.117021      0.966216  1.0   \n",
       "295                  0.0   0.317647          0.127660      0.939189  0.0   \n",
       "296                  0.0   0.872941          0.085106      0.932432  0.0   \n",
       "297                  0.0   0.164706          0.148936      0.945946  1.0   \n",
       "298                  0.0   0.464706          0.170213      0.918919  1.0   \n",
       "\n",
       "     smoking  \n",
       "0        0.0  \n",
       "1        0.0  \n",
       "2        1.0  \n",
       "3        0.0  \n",
       "4        0.0  \n",
       "..       ...  \n",
       "294      1.0  \n",
       "295      0.0  \n",
       "296      0.0  \n",
       "297      1.0  \n",
       "298      1.0  \n",
       "\n",
       "[299 rows x 11 columns]"
      ]
     },
     "execution_count": 17,
     "metadata": {},
     "output_type": "execute_result"
    }
   ],
   "source": [
    "data = X.drop(['time'], axis=1)\n",
    "print(data.head())\n",
    "\n",
    "from sklearn.preprocessing import MaxAbsScaler\n",
    "scaler = MaxAbsScaler()\n",
    "scaler.fit(data)\n",
    "data_sd = scaler.transform(data)\n",
    "data_sd = pd.DataFrame(data_sd, columns=data.columns)\n",
    "data_sd\n",
    "\n",
    "\n"
   ]
  },
  {
   "cell_type": "code",
   "execution_count": 18,
   "metadata": {},
   "outputs": [
    {
     "name": "stdout",
     "output_type": "stream",
     "text": [
      "acc:  0.7290969899665551\n"
     ]
    }
   ],
   "source": [
    "model_lr = LogisticRegression(solver='liblinear')\n",
    "model_lr.fit(data_sd, y)\n",
    "y_pred = model_lr.predict(data_sd)\n",
    "acc = accuracy_score(y, y_pred)\n",
    "print('acc: ', acc)\n",
    "# parametri del modello\n",
    "\n"
   ]
  },
  {
   "attachments": {},
   "cell_type": "markdown",
   "metadata": {},
   "source": [
    "Analizzare poi i coefficienti del modello e individuare i 5 attributi che \n",
    "in valore assoluto hanno il valore più elevato."
   ]
  },
  {
   "cell_type": "code",
   "execution_count": 19,
   "metadata": {},
   "outputs": [
    {
     "name": "stdout",
     "output_type": "stream",
     "text": [
      "[[2.01318584 0.24462602 0.74604004 0.04939139 2.58391406 0.30950824\n",
      "  0.40467403 2.29227062 0.92379368 0.14343324 0.00437057]]\n",
      "<class 'numpy.ndarray'>\n",
      "[[2.0131858360242534, 0.24462601661319666, 0.746040036625189, 0.04939138985475511, 2.5839140598615704, 0.30950824070787897, 0.404674031193045, 2.292270615711022, 0.9237936782318436, 0.14343323838597552, 0.00437057231123711]]\n"
     ]
    }
   ],
   "source": [
    "print(model_lr.coef_.__abs__())\n",
    "#\n",
    "print(type(model_lr.coef_.__abs__()))\n",
    "coeff = model_lr.coef_.__abs__().tolist()\n",
    "print(coeff)\n",
    "coeff_df = pd.DataFrame(coeff, columns = data.columns)\n",
    "\n"
   ]
  },
  {
   "cell_type": "markdown",
   "metadata": {},
   "source": [
    " Costruire un nuovo dataset composto unicamente \n",
    "di quei 5 attributi, e usare la tecnica 5 Fold cross validation per valutare se l’accuratezza del \n",
    "modello Decision Tree  migliora. (punti 5)"
   ]
  },
  {
   "cell_type": "code",
   "execution_count": 20,
   "metadata": {},
   "outputs": [
    {
     "data": {
      "text/html": [
       "<div>\n",
       "<style scoped>\n",
       "    .dataframe tbody tr th:only-of-type {\n",
       "        vertical-align: middle;\n",
       "    }\n",
       "\n",
       "    .dataframe tbody tr th {\n",
       "        vertical-align: top;\n",
       "    }\n",
       "\n",
       "    .dataframe thead th {\n",
       "        text-align: right;\n",
       "    }\n",
       "</style>\n",
       "<table border=\"1\" class=\"dataframe\">\n",
       "  <thead>\n",
       "    <tr style=\"text-align: right;\">\n",
       "      <th></th>\n",
       "      <th>ejection_fraction</th>\n",
       "      <th>serum_creatinine</th>\n",
       "      <th>age</th>\n",
       "      <th>serum_sodium</th>\n",
       "      <th>creatinine_phosphokinase</th>\n",
       "      <th>platelets</th>\n",
       "      <th>high_blood_pressure</th>\n",
       "      <th>anaemia</th>\n",
       "      <th>sex</th>\n",
       "      <th>diabetes</th>\n",
       "      <th>smoking</th>\n",
       "    </tr>\n",
       "  </thead>\n",
       "  <tbody>\n",
       "    <tr>\n",
       "      <th>0</th>\n",
       "      <td>2.583914</td>\n",
       "      <td>2.292271</td>\n",
       "      <td>2.013186</td>\n",
       "      <td>0.923794</td>\n",
       "      <td>0.74604</td>\n",
       "      <td>0.404674</td>\n",
       "      <td>0.309508</td>\n",
       "      <td>0.244626</td>\n",
       "      <td>0.143433</td>\n",
       "      <td>0.049391</td>\n",
       "      <td>0.004371</td>\n",
       "    </tr>\n",
       "  </tbody>\n",
       "</table>\n",
       "</div>"
      ],
      "text/plain": [
       "   ejection_fraction  serum_creatinine       age  serum_sodium  \\\n",
       "0           2.583914          2.292271  2.013186      0.923794   \n",
       "\n",
       "   creatinine_phosphokinase  platelets  high_blood_pressure   anaemia  \\\n",
       "0                   0.74604   0.404674             0.309508  0.244626   \n",
       "\n",
       "        sex  diabetes   smoking  \n",
       "0  0.143433  0.049391  0.004371  "
      ]
     },
     "execution_count": 20,
     "metadata": {},
     "output_type": "execute_result"
    }
   ],
   "source": [
    "#ORDINO LE COLONNE DEL DATAFRAME IN BASE AI COEFFICIENTI\n",
    "coeff_df.sort_values(by=0, axis=1, ascending=False, inplace=True)\n",
    "coeff_df"
   ]
  },
  {
   "cell_type": "code",
   "execution_count": 21,
   "metadata": {},
   "outputs": [
    {
     "data": {
      "text/html": [
       "<div>\n",
       "<style scoped>\n",
       "    .dataframe tbody tr th:only-of-type {\n",
       "        vertical-align: middle;\n",
       "    }\n",
       "\n",
       "    .dataframe tbody tr th {\n",
       "        vertical-align: top;\n",
       "    }\n",
       "\n",
       "    .dataframe thead th {\n",
       "        text-align: right;\n",
       "    }\n",
       "</style>\n",
       "<table border=\"1\" class=\"dataframe\">\n",
       "  <thead>\n",
       "    <tr style=\"text-align: right;\">\n",
       "      <th></th>\n",
       "      <th>ejection_fraction</th>\n",
       "      <th>age</th>\n",
       "      <th>serum_sodium</th>\n",
       "      <th>serum_creatinine</th>\n",
       "      <th>creatinine_phosphokinase</th>\n",
       "    </tr>\n",
       "  </thead>\n",
       "  <tbody>\n",
       "    <tr>\n",
       "      <th>0</th>\n",
       "      <td>0.2500</td>\n",
       "      <td>0.789474</td>\n",
       "      <td>0.878378</td>\n",
       "      <td>0.202128</td>\n",
       "      <td>0.074036</td>\n",
       "    </tr>\n",
       "    <tr>\n",
       "      <th>1</th>\n",
       "      <td>0.4750</td>\n",
       "      <td>0.578947</td>\n",
       "      <td>0.918919</td>\n",
       "      <td>0.117021</td>\n",
       "      <td>1.000000</td>\n",
       "    </tr>\n",
       "    <tr>\n",
       "      <th>2</th>\n",
       "      <td>0.2500</td>\n",
       "      <td>0.684211</td>\n",
       "      <td>0.871622</td>\n",
       "      <td>0.138298</td>\n",
       "      <td>0.018573</td>\n",
       "    </tr>\n",
       "    <tr>\n",
       "      <th>3</th>\n",
       "      <td>0.2500</td>\n",
       "      <td>0.526316</td>\n",
       "      <td>0.925676</td>\n",
       "      <td>0.202128</td>\n",
       "      <td>0.014120</td>\n",
       "    </tr>\n",
       "    <tr>\n",
       "      <th>4</th>\n",
       "      <td>0.2500</td>\n",
       "      <td>0.684211</td>\n",
       "      <td>0.783784</td>\n",
       "      <td>0.287234</td>\n",
       "      <td>0.020354</td>\n",
       "    </tr>\n",
       "    <tr>\n",
       "      <th>...</th>\n",
       "      <td>...</td>\n",
       "      <td>...</td>\n",
       "      <td>...</td>\n",
       "      <td>...</td>\n",
       "      <td>...</td>\n",
       "    </tr>\n",
       "    <tr>\n",
       "      <th>294</th>\n",
       "      <td>0.4750</td>\n",
       "      <td>0.652632</td>\n",
       "      <td>0.966216</td>\n",
       "      <td>0.117021</td>\n",
       "      <td>0.007760</td>\n",
       "    </tr>\n",
       "    <tr>\n",
       "      <th>295</th>\n",
       "      <td>0.4750</td>\n",
       "      <td>0.578947</td>\n",
       "      <td>0.939189</td>\n",
       "      <td>0.127660</td>\n",
       "      <td>0.231523</td>\n",
       "    </tr>\n",
       "    <tr>\n",
       "      <th>296</th>\n",
       "      <td>0.7500</td>\n",
       "      <td>0.473684</td>\n",
       "      <td>0.932432</td>\n",
       "      <td>0.085106</td>\n",
       "      <td>0.262053</td>\n",
       "    </tr>\n",
       "    <tr>\n",
       "      <th>297</th>\n",
       "      <td>0.4750</td>\n",
       "      <td>0.473684</td>\n",
       "      <td>0.945946</td>\n",
       "      <td>0.148936</td>\n",
       "      <td>0.306958</td>\n",
       "    </tr>\n",
       "    <tr>\n",
       "      <th>298</th>\n",
       "      <td>0.5625</td>\n",
       "      <td>0.526316</td>\n",
       "      <td>0.918919</td>\n",
       "      <td>0.170213</td>\n",
       "      <td>0.024933</td>\n",
       "    </tr>\n",
       "  </tbody>\n",
       "</table>\n",
       "<p>299 rows × 5 columns</p>\n",
       "</div>"
      ],
      "text/plain": [
       "     ejection_fraction       age  serum_sodium  serum_creatinine  \\\n",
       "0               0.2500  0.789474      0.878378          0.202128   \n",
       "1               0.4750  0.578947      0.918919          0.117021   \n",
       "2               0.2500  0.684211      0.871622          0.138298   \n",
       "3               0.2500  0.526316      0.925676          0.202128   \n",
       "4               0.2500  0.684211      0.783784          0.287234   \n",
       "..                 ...       ...           ...               ...   \n",
       "294             0.4750  0.652632      0.966216          0.117021   \n",
       "295             0.4750  0.578947      0.939189          0.127660   \n",
       "296             0.7500  0.473684      0.932432          0.085106   \n",
       "297             0.4750  0.473684      0.945946          0.148936   \n",
       "298             0.5625  0.526316      0.918919          0.170213   \n",
       "\n",
       "     creatinine_phosphokinase  \n",
       "0                    0.074036  \n",
       "1                    1.000000  \n",
       "2                    0.018573  \n",
       "3                    0.014120  \n",
       "4                    0.020354  \n",
       "..                        ...  \n",
       "294                  0.007760  \n",
       "295                  0.231523  \n",
       "296                  0.262053  \n",
       "297                  0.306958  \n",
       "298                  0.024933  \n",
       "\n",
       "[299 rows x 5 columns]"
      ]
     },
     "execution_count": 21,
     "metadata": {},
     "output_type": "execute_result"
    }
   ],
   "source": [
    "\n",
    "#seleziono da data gli attributi corrispondenti ai coefficienti max in abs: colonne = eject_fraction, age, serum_sodium, serum_creatinine, high_blood_pressure ordinate per nome\n",
    "data_lr_2 = data_sd.loc[:, ['ejection_fraction', 'age', 'serum_sodium', 'serum_creatinine', 'creatinine_phosphokinase']]\n",
    "data_lr_2 \n",
    "\n",
    "\n",
    "\n"
   ]
  },
  {
   "cell_type": "code",
   "execution_count": 22,
   "metadata": {},
   "outputs": [
    {
     "name": "stdout",
     "output_type": "stream",
     "text": [
      "accuracy per ogni fold [0.8        0.7        0.66666667 0.66666667 0.73333333 0.66666667\n",
      " 0.7        0.7        0.7        0.72413793]\n",
      "accuracy media 0.7057471264367816\n",
      "Accuracy con incertezza: 0.71 (+/- 0.08)\n"
     ]
    }
   ],
   "source": [
    "\n",
    "# faccio il cross validation sul decision tree dtc con 5 fold\n",
    "cross_val = cross_val_score(model_lr, data_lr_2, y, cv = 10)\n",
    "print('accuracy per ogni fold', cross_val)\n",
    "print('accuracy media', cross_val.mean())\n",
    "print(\"Accuracy con incertezza: %0.2f (+/- %0.2f)\" % (cross_val.mean(), cross_val.std() * 2))"
   ]
  },
  {
   "cell_type": "markdown",
   "metadata": {},
   "source": []
  },
  {
   "cell_type": "code",
   "execution_count": 23,
   "metadata": {},
   "outputs": [],
   "source": [
    "from sklearn.pipeline import Pipeline\n",
    "from sklearn.preprocessing import KBinsDiscretizer\n",
    "from sklearn.decomposition import PCA\n",
    "from sklearn.preprocessing import MinMaxScaler\n",
    "from sklearn.preprocessing import Normalizer\n",
    "from sklearn.compose import ColumnTransformer\n",
    "from sklearn.model_selection import GridSearchCV\n",
    "\n"
   ]
  },
  {
   "attachments": {},
   "cell_type": "markdown",
   "metadata": {},
   "source": [
    "4. Considerare il dataset originale, eliminare l’attributo time,  e creare una pipeline in cui il \n",
    "valore degli attributi age e platelets sia discretizzato in 6 intervalli e gli attributi non booleani \n",
    "vengano ricondotti a valori nell’intervallo (0,1) e normalizzati con la funzione Normalizer. Si \n",
    "applichi poi un modello DecisionTree e si valuti l’accuratezza. (punti 4) "
   ]
  },
  {
   "cell_type": "code",
   "execution_count": 24,
   "metadata": {},
   "outputs": [
    {
     "data": {
      "text/html": [
       "<div>\n",
       "<style scoped>\n",
       "    .dataframe tbody tr th:only-of-type {\n",
       "        vertical-align: middle;\n",
       "    }\n",
       "\n",
       "    .dataframe tbody tr th {\n",
       "        vertical-align: top;\n",
       "    }\n",
       "\n",
       "    .dataframe thead th {\n",
       "        text-align: right;\n",
       "    }\n",
       "</style>\n",
       "<table border=\"1\" class=\"dataframe\">\n",
       "  <thead>\n",
       "    <tr style=\"text-align: right;\">\n",
       "      <th></th>\n",
       "      <th>age</th>\n",
       "      <th>anaemia</th>\n",
       "      <th>creatinine_phosphokinase</th>\n",
       "      <th>diabetes</th>\n",
       "      <th>ejection_fraction</th>\n",
       "      <th>high_blood_pressure</th>\n",
       "      <th>platelets</th>\n",
       "      <th>serum_creatinine</th>\n",
       "      <th>serum_sodium</th>\n",
       "      <th>sex</th>\n",
       "      <th>smoking</th>\n",
       "      <th>time</th>\n",
       "      <th>DEATH_EVENT</th>\n",
       "    </tr>\n",
       "  </thead>\n",
       "  <tbody>\n",
       "    <tr>\n",
       "      <th>0</th>\n",
       "      <td>75.0</td>\n",
       "      <td>0</td>\n",
       "      <td>582</td>\n",
       "      <td>0</td>\n",
       "      <td>20</td>\n",
       "      <td>1</td>\n",
       "      <td>265000.00</td>\n",
       "      <td>1.9</td>\n",
       "      <td>130</td>\n",
       "      <td>1</td>\n",
       "      <td>0</td>\n",
       "      <td>4</td>\n",
       "      <td>1</td>\n",
       "    </tr>\n",
       "    <tr>\n",
       "      <th>1</th>\n",
       "      <td>55.0</td>\n",
       "      <td>0</td>\n",
       "      <td>7861</td>\n",
       "      <td>0</td>\n",
       "      <td>38</td>\n",
       "      <td>0</td>\n",
       "      <td>263358.03</td>\n",
       "      <td>1.1</td>\n",
       "      <td>136</td>\n",
       "      <td>1</td>\n",
       "      <td>0</td>\n",
       "      <td>6</td>\n",
       "      <td>1</td>\n",
       "    </tr>\n",
       "    <tr>\n",
       "      <th>2</th>\n",
       "      <td>65.0</td>\n",
       "      <td>0</td>\n",
       "      <td>146</td>\n",
       "      <td>0</td>\n",
       "      <td>20</td>\n",
       "      <td>0</td>\n",
       "      <td>162000.00</td>\n",
       "      <td>1.3</td>\n",
       "      <td>129</td>\n",
       "      <td>1</td>\n",
       "      <td>1</td>\n",
       "      <td>7</td>\n",
       "      <td>1</td>\n",
       "    </tr>\n",
       "    <tr>\n",
       "      <th>3</th>\n",
       "      <td>50.0</td>\n",
       "      <td>1</td>\n",
       "      <td>111</td>\n",
       "      <td>0</td>\n",
       "      <td>20</td>\n",
       "      <td>0</td>\n",
       "      <td>210000.00</td>\n",
       "      <td>1.9</td>\n",
       "      <td>137</td>\n",
       "      <td>1</td>\n",
       "      <td>0</td>\n",
       "      <td>7</td>\n",
       "      <td>1</td>\n",
       "    </tr>\n",
       "    <tr>\n",
       "      <th>4</th>\n",
       "      <td>65.0</td>\n",
       "      <td>1</td>\n",
       "      <td>160</td>\n",
       "      <td>1</td>\n",
       "      <td>20</td>\n",
       "      <td>0</td>\n",
       "      <td>327000.00</td>\n",
       "      <td>2.7</td>\n",
       "      <td>116</td>\n",
       "      <td>0</td>\n",
       "      <td>0</td>\n",
       "      <td>8</td>\n",
       "      <td>1</td>\n",
       "    </tr>\n",
       "  </tbody>\n",
       "</table>\n",
       "</div>"
      ],
      "text/plain": [
       "    age  anaemia  creatinine_phosphokinase  diabetes  ejection_fraction  \\\n",
       "0  75.0        0                       582         0                 20   \n",
       "1  55.0        0                      7861         0                 38   \n",
       "2  65.0        0                       146         0                 20   \n",
       "3  50.0        1                       111         0                 20   \n",
       "4  65.0        1                       160         1                 20   \n",
       "\n",
       "   high_blood_pressure  platelets  serum_creatinine  serum_sodium  sex  \\\n",
       "0                    1  265000.00               1.9           130    1   \n",
       "1                    0  263358.03               1.1           136    1   \n",
       "2                    0  162000.00               1.3           129    1   \n",
       "3                    0  210000.00               1.9           137    1   \n",
       "4                    0  327000.00               2.7           116    0   \n",
       "\n",
       "   smoking  time  DEATH_EVENT  \n",
       "0        0     4            1  \n",
       "1        0     6            1  \n",
       "2        1     7            1  \n",
       "3        0     7            1  \n",
       "4        0     8            1  "
      ]
     },
     "execution_count": 24,
     "metadata": {},
     "output_type": "execute_result"
    }
   ],
   "source": [
    "dataset = pd.read_csv('./Clinical/heart_failure_clinical_records_dataset.csv')\n",
    "Y = dataset['DEATH_EVENT']\n",
    "X = dataset.drop(['DEATH_EVENT'], axis=1)\n",
    "X_train, X_test, y_train, y_test = train_test_split(X, Y, test_size=0.2, random_state=0)\n",
    "dataset.head()"
   ]
  },
  {
   "cell_type": "code",
   "execution_count": 25,
   "metadata": {},
   "outputs": [],
   "source": [
    "# creare una pipeline in cui \n",
    "# il valore degli attributi age e platelets sia discretizzato in 6 intervalli\n",
    "# gli attributi non booleani vengano ricondotti a valori nell’intervallo (0,1) e normalizzati con la funzione Normalizer\n",
    "\n",
    "\n",
    "discr = KBinsDiscretizer(n_bins=6, encode='ordinal', strategy='uniform')\n",
    "# MinMaxScaler ridimensiona i dati in un intervallo specifico (di solito tra 0 e 1)\n",
    "scaler = MinMaxScaler()\n",
    "# mentre Normalizer normalizza i dati in modo che ogni riga abbia una lunghezza unitaria. La scelta tra le due tecniche dipenderà dalla natura dei dati e dall'obiettivo dell'analisi.\n",
    "norm = Normalizer()\n",
    "\n",
    "#appplico le trasformazioni ai soli di interesse, ovvero age e platelets per discr, gli attributi non booleani per scaler e norm\n",
    "prep = ColumnTransformer(transformers= [('discr', discr, ['age', 'platelets']),\n",
    "    ('scaler', scaler, ['ejection_fraction', 'serum_creatinine', 'serum_sodium', 'creatinine_phosphokinase']),\n",
    "    ], remainder='passthrough')"
   ]
  },
  {
   "cell_type": "code",
   "execution_count": 26,
   "metadata": {},
   "outputs": [
    {
     "data": {
      "text/plain": [
       "Pipeline(steps=[('prep',\n",
       "                 ColumnTransformer(remainder='passthrough',\n",
       "                                   transformers=[('discr',\n",
       "                                                  KBinsDiscretizer(encode='ordinal',\n",
       "                                                                   n_bins=6,\n",
       "                                                                   strategy='uniform'),\n",
       "                                                  ['age', 'platelets']),\n",
       "                                                 ('scaler', MinMaxScaler(),\n",
       "                                                  ['ejection_fraction',\n",
       "                                                   'serum_creatinine',\n",
       "                                                   'serum_sodium',\n",
       "                                                   'creatinine_phosphokinase'])])),\n",
       "                ('model', DecisionTreeClassifier())])"
      ]
     },
     "execution_count": 26,
     "metadata": {},
     "output_type": "execute_result"
    }
   ],
   "source": [
    "model = DecisionTreeClassifier()\n",
    "\n",
    "#Definisco la pipeline con le trasformazioni e il modello\n",
    "pipeline = Pipeline(steps=[('prep', prep),\n",
    "                            ('model', model)])\n",
    "pipeline.fit(X_train, y_train)\n"
   ]
  },
  {
   "cell_type": "code",
   "execution_count": 27,
   "metadata": {},
   "outputs": [
    {
     "name": "stdout",
     "output_type": "stream",
     "text": [
      "acc train:  1.0\n",
      "acc:  0.7833333333333333\n"
     ]
    }
   ],
   "source": [
    "pipeline.fit(X_train, y_train)\n",
    "y_pred_train = pipeline.predict(X_train)\n",
    "acc_train = accuracy_score(y_train, y_pred_train)\n",
    "print('acc train: ', acc_train)\n",
    "y_pred = pipeline.predict(X_test)\n",
    "acc = accuracy_score(y_test, y_pred)\n",
    "print('acc: ', acc)\n"
   ]
  },
  {
   "attachments": {},
   "cell_type": "markdown",
   "metadata": {},
   "source": [
    "5. Applicare una funzione per l’ottimizzazione dei parametri sia del modello di classificazione sia della pipeline verificare se l’accuratezza migliora. (punti 3)."
   ]
  },
  {
   "cell_type": "code",
   "execution_count": 28,
   "metadata": {},
   "outputs": [
    {
     "name": "stdout",
     "output_type": "stream",
     "text": [
      "best parameters:  {'model__criterion': 'entropy', 'model__max_depth': 5, 'prep__discr__n_bins': 10, 'prep__discr__strategy': 'quantile'}\n",
      "with accuracy:  0.815868794326241\n",
      "\n",
      "acc sul train della pipeline con i parametri ottimizzati:  0.9288702928870293\n",
      "acc della pipeline con i parametri ottimizzati: :  0.9\n"
     ]
    }
   ],
   "source": [
    "# definisco i parametri da ottimizzare, ne metto un per il modello\n",
    "# e uno per lo step di discretizzazione della pipeline\n",
    "param_grid = { \n",
    "    'model__criterion' : ['gini', 'entropy'],\n",
    "    'model__max_depth' : [5, 7, 10],\n",
    "    'prep__discr__strategy': ['uniform', 'quantile'],\n",
    "    'prep__discr__n_bins': [ 4, 6, 10],\n",
    "}\n",
    "\n",
    "# definisco la griglia di ricerca\n",
    "clf = GridSearchCV(pipeline, param_grid, cv=5) # verbose mostra i risultati di ogni fold\n",
    "\n",
    "# eseguo la ricerca dei parametri\n",
    "clf.fit(X_train, y_train)\n",
    "\n",
    "# stampo tutti gli score per ogni combinazione di parametri\n",
    "# print(\"Grid scores on development set:\")\n",
    "# print()\n",
    "# means = clf.cv_results_['mean_test_score']\n",
    "# stds = clf.cv_results_['std_test_score']\n",
    "# for mean, std, params in zip(means, stds, clf.cv_results_['params']):\n",
    "#     print(\"%0.3f (+/-%0.03f) for %r\"\n",
    "#             % (mean, std * 2, params))\n",
    "# print()\n",
    "\n",
    "#stampo i parametri migliori\n",
    "print('best parameters: ', clf.best_params_)\n",
    "print('with accuracy: ', clf.best_score_)\n",
    "print()\n",
    "\n",
    "# settiamo i paramatri della pipeline \n",
    "# con i parametri migliori ottenuti dal grid search\n",
    "pipeline.set_params(**clf.best_params_)\n",
    "\n",
    "# addestriamo la pipeline con i parametri ottimizzati\n",
    "# ne calcoliamo l'accuratezza sul train e sul test set\n",
    "pipeline.fit(X_train, y_train)\n",
    "y_pred_train = pipeline.predict(X_train)\n",
    "acc_train = accuracy_score(y_train, y_pred_train)\n",
    "print('acc sul train della pipeline con i parametri ottimizzati: ', acc_train)\n",
    "y_pred = pipeline.predict(X_test)\n",
    "acc = accuracy_score(y_test, y_pred)\n",
    "print('acc della pipeline con i parametri ottimizzati: : ', acc)\n",
    "\n",
    "\n",
    "\n",
    "\n"
   ]
  },
  {
   "attachments": {},
   "cell_type": "markdown",
   "metadata": {},
   "source": [
    "6. Creare una pipeline che aggiunga alle features della pipeline del punto 4, le feature che \n",
    "derivano dalla applicazione di una PCA (https://scikit-\n",
    "learn.org/stable/modules/generated/sklearn.decomposition.PCA.html mantenendo due \n",
    "dimensioni) e le feature che derivano dalla applicazione della funzione SelectKBest \n",
    "(https://scikit-\n",
    "learn.org/stable/modules/generated/sklearn.feature_selection.SelectKBest.html?highlight=selec\n",
    "tkbest#sklearn.feature_selection.SelectKBest scegliendo K=2). (punti 3). \n"
   ]
  },
  {
   "cell_type": "code",
   "execution_count": 29,
   "metadata": {},
   "outputs": [
    {
     "data": {
      "text/html": [
       "<div>\n",
       "<style scoped>\n",
       "    .dataframe tbody tr th:only-of-type {\n",
       "        vertical-align: middle;\n",
       "    }\n",
       "\n",
       "    .dataframe tbody tr th {\n",
       "        vertical-align: top;\n",
       "    }\n",
       "\n",
       "    .dataframe thead th {\n",
       "        text-align: right;\n",
       "    }\n",
       "</style>\n",
       "<table border=\"1\" class=\"dataframe\">\n",
       "  <thead>\n",
       "    <tr style=\"text-align: right;\">\n",
       "      <th></th>\n",
       "      <th>age</th>\n",
       "      <th>anaemia</th>\n",
       "      <th>creatinine_phosphokinase</th>\n",
       "      <th>diabetes</th>\n",
       "      <th>ejection_fraction</th>\n",
       "      <th>high_blood_pressure</th>\n",
       "      <th>platelets</th>\n",
       "      <th>serum_creatinine</th>\n",
       "      <th>serum_sodium</th>\n",
       "      <th>sex</th>\n",
       "      <th>smoking</th>\n",
       "      <th>time</th>\n",
       "      <th>DEATH_EVENT</th>\n",
       "    </tr>\n",
       "  </thead>\n",
       "  <tbody>\n",
       "    <tr>\n",
       "      <th>0</th>\n",
       "      <td>75.0</td>\n",
       "      <td>0</td>\n",
       "      <td>582</td>\n",
       "      <td>0</td>\n",
       "      <td>20</td>\n",
       "      <td>1</td>\n",
       "      <td>265000.00</td>\n",
       "      <td>1.9</td>\n",
       "      <td>130</td>\n",
       "      <td>1</td>\n",
       "      <td>0</td>\n",
       "      <td>4</td>\n",
       "      <td>1</td>\n",
       "    </tr>\n",
       "    <tr>\n",
       "      <th>1</th>\n",
       "      <td>55.0</td>\n",
       "      <td>0</td>\n",
       "      <td>7861</td>\n",
       "      <td>0</td>\n",
       "      <td>38</td>\n",
       "      <td>0</td>\n",
       "      <td>263358.03</td>\n",
       "      <td>1.1</td>\n",
       "      <td>136</td>\n",
       "      <td>1</td>\n",
       "      <td>0</td>\n",
       "      <td>6</td>\n",
       "      <td>1</td>\n",
       "    </tr>\n",
       "    <tr>\n",
       "      <th>2</th>\n",
       "      <td>65.0</td>\n",
       "      <td>0</td>\n",
       "      <td>146</td>\n",
       "      <td>0</td>\n",
       "      <td>20</td>\n",
       "      <td>0</td>\n",
       "      <td>162000.00</td>\n",
       "      <td>1.3</td>\n",
       "      <td>129</td>\n",
       "      <td>1</td>\n",
       "      <td>1</td>\n",
       "      <td>7</td>\n",
       "      <td>1</td>\n",
       "    </tr>\n",
       "    <tr>\n",
       "      <th>3</th>\n",
       "      <td>50.0</td>\n",
       "      <td>1</td>\n",
       "      <td>111</td>\n",
       "      <td>0</td>\n",
       "      <td>20</td>\n",
       "      <td>0</td>\n",
       "      <td>210000.00</td>\n",
       "      <td>1.9</td>\n",
       "      <td>137</td>\n",
       "      <td>1</td>\n",
       "      <td>0</td>\n",
       "      <td>7</td>\n",
       "      <td>1</td>\n",
       "    </tr>\n",
       "    <tr>\n",
       "      <th>4</th>\n",
       "      <td>65.0</td>\n",
       "      <td>1</td>\n",
       "      <td>160</td>\n",
       "      <td>1</td>\n",
       "      <td>20</td>\n",
       "      <td>0</td>\n",
       "      <td>327000.00</td>\n",
       "      <td>2.7</td>\n",
       "      <td>116</td>\n",
       "      <td>0</td>\n",
       "      <td>0</td>\n",
       "      <td>8</td>\n",
       "      <td>1</td>\n",
       "    </tr>\n",
       "  </tbody>\n",
       "</table>\n",
       "</div>"
      ],
      "text/plain": [
       "    age  anaemia  creatinine_phosphokinase  diabetes  ejection_fraction  \\\n",
       "0  75.0        0                       582         0                 20   \n",
       "1  55.0        0                      7861         0                 38   \n",
       "2  65.0        0                       146         0                 20   \n",
       "3  50.0        1                       111         0                 20   \n",
       "4  65.0        1                       160         1                 20   \n",
       "\n",
       "   high_blood_pressure  platelets  serum_creatinine  serum_sodium  sex  \\\n",
       "0                    1  265000.00               1.9           130    1   \n",
       "1                    0  263358.03               1.1           136    1   \n",
       "2                    0  162000.00               1.3           129    1   \n",
       "3                    0  210000.00               1.9           137    1   \n",
       "4                    0  327000.00               2.7           116    0   \n",
       "\n",
       "   smoking  time  DEATH_EVENT  \n",
       "0        0     4            1  \n",
       "1        0     6            1  \n",
       "2        1     7            1  \n",
       "3        0     7            1  \n",
       "4        0     8            1  "
      ]
     },
     "execution_count": 29,
     "metadata": {},
     "output_type": "execute_result"
    }
   ],
   "source": [
    "dataset = pd.read_csv('./Clinical/heart_failure_clinical_records_dataset.csv')\n",
    "Y = dataset['DEATH_EVENT']\n",
    "X = dataset.drop(['DEATH_EVENT'], axis=1)\n",
    "X = X.drop(['time'], axis=1)\n",
    "X_train, X_test, y_train, y_test = train_test_split(X, Y, test_size=0.2, random_state=0)\n",
    "dataset.head()"
   ]
  },
  {
   "cell_type": "code",
   "execution_count": 30,
   "metadata": {},
   "outputs": [],
   "source": [
    "# feature union prende come input due o più trasformazioni e le applica in parallelo\n",
    "# I trasformazione\n",
    "# si rifa il column trasformer come prima\n",
    "# II trasformazione\n",
    "# si fa una pca con 2 componenti\n",
    "# III trasformazione\n",
    "# si fa una SelectKBest con k=2\n",
    "# si fa il feature union tra pca e selectkbest e il dataset originale\n",
    "# per aumentare il numero di attributi\n",
    "# pipeline con column trasformer, feature union e modello\n",
    "\n",
    "from sklearn.pipeline import FeatureUnion\n",
    "from sklearn.decomposition import PCA\n",
    "from sklearn.feature_selection import SelectKBest\n",
    "\n",
    "#creo il column transformer come prima\n",
    "\n",
    "discr = KBinsDiscretizer(n_bins=6, encode='ordinal', strategy='uniform')\n",
    "scaler = MinMaxScaler(feature_range=(0, 1))\n",
    "norm = Normalizer()\n",
    "\n",
    "#appplico le trasformazioni ai soli di interesse, ovvero age e platelets per discr, gli attributi non booleani per scaler e norm\n",
    "prep = ColumnTransformer(transformers= [('discr', discr, ['age', 'platelets']),\n",
    "    ('scaler', scaler, ['ejection_fraction', 'serum_creatinine', 'serum_sodium', 'creatinine_phosphokinase']),\n",
    "    ], remainder='passthrough')\n",
    "\n",
    "\n",
    "\n",
    "\n",
    "pca = PCA(n_components=2)\n",
    "kbest = SelectKBest(k=2)\n",
    "\n",
    "#creo la feature union\n",
    "# serve nire lefeature della pca e skbest con il dataset X\n",
    "combined_features = combined_features = FeatureUnion([('pca', pca), ('kbest', kbest)])\n",
    "\n",
    "\n"
   ]
  },
  {
   "cell_type": "code",
   "execution_count": 31,
   "metadata": {},
   "outputs": [
    {
     "name": "stdout",
     "output_type": "stream",
     "text": [
      "(299, 11)\n"
     ]
    }
   ],
   "source": [
    "print(X.shape)\n",
    "X_features = combined_features.fit_transform(X, y)\n",
    "# X ha 12 attributi, dopo la feature union ne ha 16\n",
    "X_f = pd.DataFrame(X_features.shape) \n"
   ]
  },
  {
   "cell_type": "code",
   "execution_count": 32,
   "metadata": {},
   "outputs": [
    {
     "name": "stdout",
     "output_type": "stream",
     "text": [
      "acc train:  1.0\n",
      "acc:  0.6666666666666666\n"
     ]
    }
   ],
   "source": [
    "# pipeline con column trasformer, feature union e modello\n",
    "\n",
    "model = DecisionTreeClassifier()\n",
    "\n",
    "pipeline = Pipeline(steps=[('prep', prep),\n",
    "                            ('features', combined_features),\n",
    "                            ('model', model)])\n",
    "pipeline.fit(X_train, y_train)\n",
    "y_pred_train = pipeline.predict(X_train)\n",
    "acc_train = accuracy_score(y_train, y_pred_train)\n",
    "print('acc train: ', acc_train)\n",
    "y_pred = pipeline.predict(X_test)\n",
    "acc = accuracy_score(y_test, y_pred)\n",
    "print('acc: ', acc)"
   ]
  }
 ],
 "metadata": {
  "kernelspec": {
   "display_name": "base",
   "language": "python",
   "name": "python3"
  },
  "language_info": {
   "codemirror_mode": {
    "name": "ipython",
    "version": 3
   },
   "file_extension": ".py",
   "mimetype": "text/x-python",
   "name": "python",
   "nbconvert_exporter": "python",
   "pygments_lexer": "ipython3",
   "version": "3.9.12"
  },
  "orig_nbformat": 4
 },
 "nbformat": 4,
 "nbformat_minor": 2
}
