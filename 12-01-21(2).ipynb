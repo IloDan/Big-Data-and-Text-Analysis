{
 "cells": [
  {
   "cell_type": "code",
   "execution_count": 85,
   "metadata": {},
   "outputs": [
    {
     "data": {
      "text/html": [
       "<div>\n",
       "<style scoped>\n",
       "    .dataframe tbody tr th:only-of-type {\n",
       "        vertical-align: middle;\n",
       "    }\n",
       "\n",
       "    .dataframe tbody tr th {\n",
       "        vertical-align: top;\n",
       "    }\n",
       "\n",
       "    .dataframe thead th {\n",
       "        text-align: right;\n",
       "    }\n",
       "</style>\n",
       "<table border=\"1\" class=\"dataframe\">\n",
       "  <thead>\n",
       "    <tr style=\"text-align: right;\">\n",
       "      <th></th>\n",
       "      <th>HAEMATOCRIT</th>\n",
       "      <th>HAEMOGLOBINS</th>\n",
       "      <th>ERYTHROCYTE</th>\n",
       "      <th>LEUCOCYTE</th>\n",
       "      <th>THROMBOCYTE</th>\n",
       "      <th>MCH</th>\n",
       "      <th>MCHC</th>\n",
       "      <th>MCV</th>\n",
       "      <th>AGE</th>\n",
       "      <th>SEX</th>\n",
       "      <th>SOURCE</th>\n",
       "    </tr>\n",
       "  </thead>\n",
       "  <tbody>\n",
       "    <tr>\n",
       "      <th>0</th>\n",
       "      <td>33.8</td>\n",
       "      <td>11.1</td>\n",
       "      <td>4.18</td>\n",
       "      <td>4.6</td>\n",
       "      <td>150</td>\n",
       "      <td>26.6</td>\n",
       "      <td>32.8</td>\n",
       "      <td>80.9</td>\n",
       "      <td>33</td>\n",
       "      <td>F</td>\n",
       "      <td>1</td>\n",
       "    </tr>\n",
       "    <tr>\n",
       "      <th>1</th>\n",
       "      <td>44.6</td>\n",
       "      <td>14.0</td>\n",
       "      <td>6.86</td>\n",
       "      <td>6.3</td>\n",
       "      <td>232</td>\n",
       "      <td>20.4</td>\n",
       "      <td>31.4</td>\n",
       "      <td>65.0</td>\n",
       "      <td>36</td>\n",
       "      <td>M</td>\n",
       "      <td>0</td>\n",
       "    </tr>\n",
       "    <tr>\n",
       "      <th>2</th>\n",
       "      <td>42.9</td>\n",
       "      <td>14.0</td>\n",
       "      <td>4.57</td>\n",
       "      <td>6.2</td>\n",
       "      <td>336</td>\n",
       "      <td>30.6</td>\n",
       "      <td>32.6</td>\n",
       "      <td>93.9</td>\n",
       "      <td>70</td>\n",
       "      <td>F</td>\n",
       "      <td>0</td>\n",
       "    </tr>\n",
       "    <tr>\n",
       "      <th>3</th>\n",
       "      <td>41.9</td>\n",
       "      <td>14.4</td>\n",
       "      <td>4.67</td>\n",
       "      <td>3.5</td>\n",
       "      <td>276</td>\n",
       "      <td>30.8</td>\n",
       "      <td>34.4</td>\n",
       "      <td>89.7</td>\n",
       "      <td>18</td>\n",
       "      <td>F</td>\n",
       "      <td>0</td>\n",
       "    </tr>\n",
       "    <tr>\n",
       "      <th>4</th>\n",
       "      <td>40.6</td>\n",
       "      <td>13.3</td>\n",
       "      <td>4.85</td>\n",
       "      <td>14.9</td>\n",
       "      <td>711</td>\n",
       "      <td>27.4</td>\n",
       "      <td>32.8</td>\n",
       "      <td>83.7</td>\n",
       "      <td>36</td>\n",
       "      <td>M</td>\n",
       "      <td>0</td>\n",
       "    </tr>\n",
       "  </tbody>\n",
       "</table>\n",
       "</div>"
      ],
      "text/plain": [
       "   HAEMATOCRIT  HAEMOGLOBINS  ERYTHROCYTE  LEUCOCYTE  THROMBOCYTE   MCH  MCHC  \\\n",
       "0         33.8          11.1         4.18        4.6          150  26.6  32.8   \n",
       "1         44.6          14.0         6.86        6.3          232  20.4  31.4   \n",
       "2         42.9          14.0         4.57        6.2          336  30.6  32.6   \n",
       "3         41.9          14.4         4.67        3.5          276  30.8  34.4   \n",
       "4         40.6          13.3         4.85       14.9          711  27.4  32.8   \n",
       "\n",
       "    MCV  AGE SEX  SOURCE  \n",
       "0  80.9   33   F       1  \n",
       "1  65.0   36   M       0  \n",
       "2  93.9   70   F       0  \n",
       "3  89.7   18   F       0  \n",
       "4  83.7   36   M       0  "
      ]
     },
     "execution_count": 85,
     "metadata": {},
     "output_type": "execute_result"
    }
   ],
   "source": [
    "import pandas as pd\n",
    "import numpy as np\n",
    "import seaborn as sns\n",
    "import matplotlib.pyplot as plt\n",
    "df = pd.read_csv('./PatientTreatment/training_set.csv')\n",
    "df.head()"
   ]
  },
  {
   "cell_type": "code",
   "execution_count": 86,
   "metadata": {},
   "outputs": [
    {
     "name": "stdout",
     "output_type": "stream",
     "text": [
      "Number of instances:  3309\n",
      "There are missing values:  False\n",
      "0    1992\n",
      "1    1317\n",
      "Name: SOURCE, dtype: int64\n",
      "95\n"
     ]
    }
   ],
   "source": [
    "print(\"Number of instances: \", len(df))\n",
    "print(\"There are missing values: \", df.isnull().values.any())\n",
    "print(df['SOURCE'].value_counts())\n",
    "print(len(df['AGE'].unique()))"
   ]
  },
  {
   "cell_type": "code",
   "execution_count": 87,
   "metadata": {},
   "outputs": [
    {
     "data": {
      "text/plain": [
       "<AxesSubplot:>"
      ]
     },
     "execution_count": 87,
     "metadata": {},
     "output_type": "execute_result"
    },
    {
     "data": {
      "image/png": "[encoded data removed]",
      "text/plain": [
       "<Figure size 432x288 with 1 Axes>"
      ]
     },
     "metadata": {
      "needs_background": "light"
     },
     "output_type": "display_data"
    }
   ],
   "source": [
    "df['AGE'].hist(bins=98)"
   ]
  },
  {
   "cell_type": "code",
   "execution_count": 88,
   "metadata": {},
   "outputs": [],
   "source": [
    "age_group = pd.cut(df['AGE'], bins=10)"
   ]
  },
  {
   "cell_type": "code",
   "execution_count": 89,
   "metadata": {},
   "outputs": [
    {
     "data": {
      "image/png": "[encoded data removed]",
      "text/plain": [
       "<Figure size 432x288 with 1 Axes>"
      ]
     },
     "metadata": {
      "needs_background": "light"
     },
     "output_type": "display_data"
    }
   ],
   "source": [
    "df['AGE_GROUP'] = age_group\n",
    "sns.countplot(x='AGE_GROUP', hue='SOURCE', data=df)\n",
    "plt.xticks(rotation=90)\n",
    "plt.show()\n",
    "\n"
   ]
  },
  {
   "cell_type": "code",
   "execution_count": 90,
   "metadata": {},
   "outputs": [
    {
     "data": {
      "text/plain": [
       "<AxesSubplot:xlabel='SEX', ylabel='count'>"
      ]
     },
     "execution_count": 90,
     "metadata": {},
     "output_type": "execute_result"
    },
    {
     "data": {
      "image/png": "[encoded data removed]",
      "text/plain": [
       "<Figure size 432x288 with 1 Axes>"
      ]
     },
     "metadata": {
      "needs_background": "light"
     },
     "output_type": "display_data"
    }
   ],
   "source": [
    "sns.countplot(x='SEX', hue='SOURCE', data=df)"
   ]
  },
  {
   "cell_type": "code",
   "execution_count": 91,
   "metadata": {},
   "outputs": [
    {
     "data": {
      "text/plain": [
       "<AxesSubplot:>"
      ]
     },
     "execution_count": 91,
     "metadata": {},
     "output_type": "execute_result"
    },
    {
     "data": {
      "image/png": "[encoded data removed]",
      "text/plain": [
       "<Figure size 432x288 with 1 Axes>"
      ]
     },
     "metadata": {
      "needs_background": "light"
     },
     "output_type": "display_data"
    }
   ],
   "source": [
    "df.loc[df['SOURCE']==1, 'SEX'].value_counts().plot(kind='bar')"
   ]
  },
  {
   "cell_type": "code",
   "execution_count": 92,
   "metadata": {},
   "outputs": [
    {
     "data": {
      "text/html": [
       "<div>\n",
       "<style scoped>\n",
       "    .dataframe tbody tr th:only-of-type {\n",
       "        vertical-align: middle;\n",
       "    }\n",
       "\n",
       "    .dataframe tbody tr th {\n",
       "        vertical-align: top;\n",
       "    }\n",
       "\n",
       "    .dataframe thead th {\n",
       "        text-align: right;\n",
       "    }\n",
       "</style>\n",
       "<table border=\"1\" class=\"dataframe\">\n",
       "  <thead>\n",
       "    <tr style=\"text-align: right;\">\n",
       "      <th>SEX</th>\n",
       "      <th>F</th>\n",
       "      <th>M</th>\n",
       "    </tr>\n",
       "    <tr>\n",
       "      <th>AGE_GROUP</th>\n",
       "      <th></th>\n",
       "      <th></th>\n",
       "    </tr>\n",
       "  </thead>\n",
       "  <tbody>\n",
       "    <tr>\n",
       "      <th>(0.902, 10.8]</th>\n",
       "      <td>96</td>\n",
       "      <td>105</td>\n",
       "    </tr>\n",
       "    <tr>\n",
       "      <th>(10.8, 20.6]</th>\n",
       "      <td>92</td>\n",
       "      <td>108</td>\n",
       "    </tr>\n",
       "    <tr>\n",
       "      <th>(20.6, 30.4]</th>\n",
       "      <td>247</td>\n",
       "      <td>245</td>\n",
       "    </tr>\n",
       "    <tr>\n",
       "      <th>(30.4, 40.2]</th>\n",
       "      <td>228</td>\n",
       "      <td>211</td>\n",
       "    </tr>\n",
       "    <tr>\n",
       "      <th>(40.2, 50.0]</th>\n",
       "      <td>209</td>\n",
       "      <td>236</td>\n",
       "    </tr>\n",
       "    <tr>\n",
       "      <th>(50.0, 59.8]</th>\n",
       "      <td>193</td>\n",
       "      <td>259</td>\n",
       "    </tr>\n",
       "    <tr>\n",
       "      <th>(59.8, 69.6]</th>\n",
       "      <td>242</td>\n",
       "      <td>291</td>\n",
       "    </tr>\n",
       "    <tr>\n",
       "      <th>(69.6, 79.4]</th>\n",
       "      <td>153</td>\n",
       "      <td>211</td>\n",
       "    </tr>\n",
       "    <tr>\n",
       "      <th>(79.4, 89.2]</th>\n",
       "      <td>83</td>\n",
       "      <td>73</td>\n",
       "    </tr>\n",
       "    <tr>\n",
       "      <th>(89.2, 99.0]</th>\n",
       "      <td>23</td>\n",
       "      <td>4</td>\n",
       "    </tr>\n",
       "  </tbody>\n",
       "</table>\n",
       "</div>"
      ],
      "text/plain": [
       "SEX              F    M\n",
       "AGE_GROUP              \n",
       "(0.902, 10.8]   96  105\n",
       "(10.8, 20.6]    92  108\n",
       "(20.6, 30.4]   247  245\n",
       "(30.4, 40.2]   228  211\n",
       "(40.2, 50.0]   209  236\n",
       "(50.0, 59.8]   193  259\n",
       "(59.8, 69.6]   242  291\n",
       "(69.6, 79.4]   153  211\n",
       "(79.4, 89.2]    83   73\n",
       "(89.2, 99.0]    23    4"
      ]
     },
     "execution_count": 92,
     "metadata": {},
     "output_type": "execute_result"
    }
   ],
   "source": [
    "pd.pivot_table(df, values='SOURCE', columns='SEX', index='AGE_GROUP', aggfunc='count')"
   ]
  },
  {
   "cell_type": "code",
   "execution_count": 93,
   "metadata": {},
   "outputs": [
    {
     "data": {
      "text/html": [
       "<div>\n",
       "<style scoped>\n",
       "    .dataframe tbody tr th:only-of-type {\n",
       "        vertical-align: middle;\n",
       "    }\n",
       "\n",
       "    .dataframe tbody tr th {\n",
       "        vertical-align: top;\n",
       "    }\n",
       "\n",
       "    .dataframe thead th {\n",
       "        text-align: right;\n",
       "    }\n",
       "</style>\n",
       "<table border=\"1\" class=\"dataframe\">\n",
       "  <thead>\n",
       "    <tr style=\"text-align: right;\">\n",
       "      <th></th>\n",
       "      <th>HAEMATOCRIT</th>\n",
       "      <th>HAEMOGLOBINS</th>\n",
       "      <th>ERYTHROCYTE</th>\n",
       "      <th>LEUCOCYTE</th>\n",
       "      <th>THROMBOCYTE</th>\n",
       "      <th>MCH</th>\n",
       "      <th>MCHC</th>\n",
       "      <th>MCV</th>\n",
       "      <th>AGE</th>\n",
       "      <th>SEX</th>\n",
       "      <th>SOURCE</th>\n",
       "    </tr>\n",
       "  </thead>\n",
       "  <tbody>\n",
       "    <tr>\n",
       "      <th>0</th>\n",
       "      <td>33.8</td>\n",
       "      <td>11.1</td>\n",
       "      <td>4.18</td>\n",
       "      <td>4.6</td>\n",
       "      <td>150</td>\n",
       "      <td>26.6</td>\n",
       "      <td>32.8</td>\n",
       "      <td>80.9</td>\n",
       "      <td>33</td>\n",
       "      <td>F</td>\n",
       "      <td>1</td>\n",
       "    </tr>\n",
       "    <tr>\n",
       "      <th>1</th>\n",
       "      <td>44.6</td>\n",
       "      <td>14.0</td>\n",
       "      <td>6.86</td>\n",
       "      <td>6.3</td>\n",
       "      <td>232</td>\n",
       "      <td>20.4</td>\n",
       "      <td>31.4</td>\n",
       "      <td>65.0</td>\n",
       "      <td>36</td>\n",
       "      <td>M</td>\n",
       "      <td>0</td>\n",
       "    </tr>\n",
       "    <tr>\n",
       "      <th>2</th>\n",
       "      <td>42.9</td>\n",
       "      <td>14.0</td>\n",
       "      <td>4.57</td>\n",
       "      <td>6.2</td>\n",
       "      <td>336</td>\n",
       "      <td>30.6</td>\n",
       "      <td>32.6</td>\n",
       "      <td>93.9</td>\n",
       "      <td>70</td>\n",
       "      <td>F</td>\n",
       "      <td>0</td>\n",
       "    </tr>\n",
       "    <tr>\n",
       "      <th>3</th>\n",
       "      <td>41.9</td>\n",
       "      <td>14.4</td>\n",
       "      <td>4.67</td>\n",
       "      <td>3.5</td>\n",
       "      <td>276</td>\n",
       "      <td>30.8</td>\n",
       "      <td>34.4</td>\n",
       "      <td>89.7</td>\n",
       "      <td>18</td>\n",
       "      <td>F</td>\n",
       "      <td>0</td>\n",
       "    </tr>\n",
       "    <tr>\n",
       "      <th>4</th>\n",
       "      <td>40.6</td>\n",
       "      <td>13.3</td>\n",
       "      <td>4.85</td>\n",
       "      <td>14.9</td>\n",
       "      <td>711</td>\n",
       "      <td>27.4</td>\n",
       "      <td>32.8</td>\n",
       "      <td>83.7</td>\n",
       "      <td>36</td>\n",
       "      <td>M</td>\n",
       "      <td>0</td>\n",
       "    </tr>\n",
       "    <tr>\n",
       "      <th>...</th>\n",
       "      <td>...</td>\n",
       "      <td>...</td>\n",
       "      <td>...</td>\n",
       "      <td>...</td>\n",
       "      <td>...</td>\n",
       "      <td>...</td>\n",
       "      <td>...</td>\n",
       "      <td>...</td>\n",
       "      <td>...</td>\n",
       "      <td>...</td>\n",
       "      <td>...</td>\n",
       "    </tr>\n",
       "    <tr>\n",
       "      <th>3304</th>\n",
       "      <td>39.0</td>\n",
       "      <td>13.2</td>\n",
       "      <td>4.45</td>\n",
       "      <td>4.0</td>\n",
       "      <td>50</td>\n",
       "      <td>29.7</td>\n",
       "      <td>33.8</td>\n",
       "      <td>87.6</td>\n",
       "      <td>45</td>\n",
       "      <td>M</td>\n",
       "      <td>1</td>\n",
       "    </tr>\n",
       "    <tr>\n",
       "      <th>3305</th>\n",
       "      <td>25.4</td>\n",
       "      <td>8.2</td>\n",
       "      <td>3.27</td>\n",
       "      <td>5.4</td>\n",
       "      <td>90</td>\n",
       "      <td>25.1</td>\n",
       "      <td>32.3</td>\n",
       "      <td>77.7</td>\n",
       "      <td>1</td>\n",
       "      <td>F</td>\n",
       "      <td>1</td>\n",
       "    </tr>\n",
       "    <tr>\n",
       "      <th>3306</th>\n",
       "      <td>38.2</td>\n",
       "      <td>12.4</td>\n",
       "      <td>4.40</td>\n",
       "      <td>8.4</td>\n",
       "      <td>328</td>\n",
       "      <td>28.2</td>\n",
       "      <td>32.5</td>\n",
       "      <td>86.8</td>\n",
       "      <td>64</td>\n",
       "      <td>M</td>\n",
       "      <td>0</td>\n",
       "    </tr>\n",
       "    <tr>\n",
       "      <th>3307</th>\n",
       "      <td>43.4</td>\n",
       "      <td>15.2</td>\n",
       "      <td>5.29</td>\n",
       "      <td>10.1</td>\n",
       "      <td>326</td>\n",
       "      <td>28.7</td>\n",
       "      <td>35.0</td>\n",
       "      <td>82.0</td>\n",
       "      <td>33</td>\n",
       "      <td>M</td>\n",
       "      <td>0</td>\n",
       "    </tr>\n",
       "    <tr>\n",
       "      <th>3308</th>\n",
       "      <td>32.4</td>\n",
       "      <td>10.7</td>\n",
       "      <td>3.66</td>\n",
       "      <td>9.4</td>\n",
       "      <td>214</td>\n",
       "      <td>29.2</td>\n",
       "      <td>33.0</td>\n",
       "      <td>88.5</td>\n",
       "      <td>72</td>\n",
       "      <td>F</td>\n",
       "      <td>1</td>\n",
       "    </tr>\n",
       "  </tbody>\n",
       "</table>\n",
       "<p>3309 rows × 11 columns</p>\n",
       "</div>"
      ],
      "text/plain": [
       "      HAEMATOCRIT  HAEMOGLOBINS  ERYTHROCYTE  LEUCOCYTE  THROMBOCYTE   MCH  \\\n",
       "0            33.8          11.1         4.18        4.6          150  26.6   \n",
       "1            44.6          14.0         6.86        6.3          232  20.4   \n",
       "2            42.9          14.0         4.57        6.2          336  30.6   \n",
       "3            41.9          14.4         4.67        3.5          276  30.8   \n",
       "4            40.6          13.3         4.85       14.9          711  27.4   \n",
       "...           ...           ...          ...        ...          ...   ...   \n",
       "3304         39.0          13.2         4.45        4.0           50  29.7   \n",
       "3305         25.4           8.2         3.27        5.4           90  25.1   \n",
       "3306         38.2          12.4         4.40        8.4          328  28.2   \n",
       "3307         43.4          15.2         5.29       10.1          326  28.7   \n",
       "3308         32.4          10.7         3.66        9.4          214  29.2   \n",
       "\n",
       "      MCHC   MCV  AGE SEX  SOURCE  \n",
       "0     32.8  80.9   33   F       1  \n",
       "1     31.4  65.0   36   M       0  \n",
       "2     32.6  93.9   70   F       0  \n",
       "3     34.4  89.7   18   F       0  \n",
       "4     32.8  83.7   36   M       0  \n",
       "...    ...   ...  ...  ..     ...  \n",
       "3304  33.8  87.6   45   M       1  \n",
       "3305  32.3  77.7    1   F       1  \n",
       "3306  32.5  86.8   64   M       0  \n",
       "3307  35.0  82.0   33   M       0  \n",
       "3308  33.0  88.5   72   F       1  \n",
       "\n",
       "[3309 rows x 11 columns]"
      ]
     },
     "execution_count": 93,
     "metadata": {},
     "output_type": "execute_result"
    }
   ],
   "source": [
    "df = pd.read_csv('./PatientTreatment/training_set.csv')\n",
    "df"
   ]
  },
  {
   "cell_type": "code",
   "execution_count": 94,
   "metadata": {},
   "outputs": [],
   "source": [
    "import sklearn.preprocessing as preprocessing\n",
    "from sklearn.model_selection import train_test_split\n",
    "from sklearn.linear_model import LogisticRegression\n",
    "from sklearn.tree import DecisionTreeClassifier\n",
    "from sklearn.dummy import DummyClassifier\n",
    "from sklearn.metrics import accuracy_score, confusion_matrix\n",
    "\n",
    "le = preprocessing.LabelEncoder()\n",
    "df['SEX']= le.fit_transform(df['SEX'])\n",
    "data_text= df.drop('SOURCE', axis=1)\n",
    "data_label = df['SOURCE']\n",
    "\n",
    "X_train, X_test, y_train, y_test = train_test_split(data_text, data_label, test_size=0.2, random_state=42)"
   ]
  },
  {
   "cell_type": "code",
   "execution_count": 95,
   "metadata": {},
   "outputs": [
    {
     "name": "stdout",
     "output_type": "stream",
     "text": [
      "Accuracy score of Decision Tree train:  1.0\n",
      "Accuracy score of Decision Tree:  0.6691842900302115\n",
      "Accuracy score of Logistic Regression train:  0.7193048734416321\n",
      "Accuracy score of Logistic Regression:  0.6978851963746223\n",
      "Accuracy score of Dummy Classifier train:  0.6044578768417076\n",
      "Accuracy score of Dummy Classifier:  0.5921450151057401\n"
     ]
    },
    {
     "data": {
      "image/png": "[encoded data removed]",
      "text/plain": [
       "<Figure size 432x288 with 2 Axes>"
      ]
     },
     "metadata": {
      "needs_background": "light"
     },
     "output_type": "display_data"
    },
    {
     "data": {
      "image/png": "[encoded data removed]",
      "text/plain": [
       "<Figure size 432x288 with 2 Axes>"
      ]
     },
     "metadata": {
      "needs_background": "light"
     },
     "output_type": "display_data"
    },
    {
     "data": {
      "image/png": "[encoded data removed]",
      "text/plain": [
       "<Figure size 432x288 with 2 Axes>"
      ]
     },
     "metadata": {
      "needs_background": "light"
     },
     "output_type": "display_data"
    }
   ],
   "source": [
    "tree = DecisionTreeClassifier()\n",
    "logReg = LogisticRegression(solver='liblinear')\n",
    "dummy = DummyClassifier(strategy='most_frequent')\n",
    "\n",
    "tree.fit(X_train, y_train)\n",
    "y_pred_tree = tree.predict(X_test)\n",
    "print(\"Accuracy score of Decision Tree train: \", accuracy_score(y_train, tree.predict(X_train)))\n",
    "print(\"Accuracy score of Decision Tree: \", accuracy_score(y_test, y_pred_tree))\n",
    "\n",
    "logReg.fit(X_train, y_train)\n",
    "y_pred_log = logReg.predict(X_test)\n",
    "print(\"Accuracy score of Logistic Regression train: \", accuracy_score(y_train, logReg.predict(X_train)))\n",
    "print(\"Accuracy score of Logistic Regression: \", accuracy_score(y_test, y_pred_log))\n",
    "\n",
    "dummy.fit(X_train, y_train)\n",
    "y_pred_dummy = dummy.predict(X_test)\n",
    "print(\"Accuracy score of Dummy Classifier train: \", accuracy_score(y_train, dummy.predict(X_train)))\n",
    "print(\"Accuracy score of Dummy Classifier: \", accuracy_score(y_test, y_pred_dummy))\n",
    "\n",
    "cm_tree = confusion_matrix(y_test, y_pred_tree, labels = tree.classes_, normalize='true')\n",
    "cm_log = confusion_matrix(y_test, y_pred_log, normalize='true')\n",
    "cm_dummy = confusion_matrix(y_test, y_pred_dummy, normalize='true')\n",
    "\n",
    "sns.heatmap(cm_tree, annot=True, cmap='Blues')\n",
    "plt.title('Confusion Matrix of Decision Tree')\n",
    "plt.show()\n",
    "sns.heatmap(cm_log, annot=True, cmap='Blues')\n",
    "plt.title('Confusion Matrix of Logistic Regression')\n",
    "plt.show()\n",
    "sns.heatmap(cm_dummy, annot=True, cmap='Blues')\n",
    "plt.title('Confusion Matrix of Dummy Classifier')\n",
    "plt.show()"
   ]
  },
  {
   "cell_type": "code",
   "execution_count": 96,
   "metadata": {},
   "outputs": [
    {
     "name": "stdout",
     "output_type": "stream",
     "text": [
      "Accuracy score of Decision Tree: 0.67 (+/- 0.05)\n",
      "Accuracy score of Logistic Regression: 0.72 (+/- 0.04)\n",
      "Accuracy score of Dummy Classifier: 0.60 (+/- 0.00)\n"
     ]
    }
   ],
   "source": [
    "from sklearn.model_selection import cross_val_score\n",
    "\n",
    "scores_tree = cross_val_score(tree, data_text, data_label, cv=10)\n",
    "scores_log = cross_val_score(logReg, data_text, data_label, cv=10)\n",
    "scores_dummy = cross_val_score(dummy, data_text, data_label, cv=10)\n",
    "\n",
    "print(\"Accuracy score of Decision Tree: %0.2f (+/- %0.2f)\" % (scores_tree.mean(), scores_tree.std() * 2))\n",
    "print(\"Accuracy score of Logistic Regression: %0.2f (+/- %0.2f)\" % (scores_log.mean(), scores_log.std() * 2))\n",
    "print(\"Accuracy score of Dummy Classifier: %0.2f (+/- %0.2f)\" % (scores_dummy.mean(), scores_dummy.std() * 2))\n"
   ]
  },
  {
   "cell_type": "code",
   "execution_count": 97,
   "metadata": {},
   "outputs": [
    {
     "name": "stdout",
     "output_type": "stream",
     "text": [
      "Accuracy score of Decision Tree: 0.67 (+/- 0.06)\n"
     ]
    }
   ],
   "source": [
    "tree= DecisionTreeClassifier(criterion='entropy', max_features=10, min_samples_split=10)\n",
    "scores = cross_val_score(tree, data_text, data_label, cv=10)\n",
    "print(\"Accuracy score of Decision Tree: %0.2f (+/- %0.2f)\" % (scores.mean(), scores.std() * 2))\n"
   ]
  },
  {
   "cell_type": "code",
   "execution_count": 98,
   "metadata": {},
   "outputs": [
    {
     "name": "stdout",
     "output_type": "stream",
     "text": [
      "Accuracy score of Decision Tree: 0.66 (+/- 0.07)\n"
     ]
    }
   ],
   "source": [
    "discretiz= preprocessing.KBinsDiscretizer(n_bins=10, encode='ordinal', strategy='uniform')\n",
    "max_abs_scaler = preprocessing.MaxAbsScaler()\n",
    "\n",
    "\n",
    "data_text['AGE']= discretiz.fit_transform(data_text['AGE'].values.reshape(-1,1))\n",
    "data_text['THROMBOCYTE']= discretiz.fit_transform(data_text['THROMBOCYTE'].values.reshape(-1,1))\n",
    "data_text = max_abs_scaler.fit_transform(data_text)"
   ]
  },
  {
   "cell_type": "code",
   "execution_count": 99,
   "metadata": {},
   "outputs": [
    {
     "name": "stdout",
     "output_type": "stream",
     "text": [
      "Accuracy score of Decision Tree: 0.66 (+/- 0.07)\n",
      "Accuracy score of Logistic Regression: 0.70 (+/- 0.04)\n"
     ]
    }
   ],
   "source": [
    "scores_tree = cross_val_score(tree, data_text, data_label, cv=10)\n",
    "print(\"Accuracy score of Decision Tree: %0.2f (+/- %0.2f)\" % (scores.mean(), scores.std() * 2))\n",
    "scores_log = cross_val_score(logReg, data_text, data_label, cv=10)\n",
    "print(\"Accuracy score of Logistic Regression: %0.2f (+/- %0.2f)\" % (scores_log.mean(), scores_log.std() * 2))"
   ]
  },
  {
   "cell_type": "code",
   "execution_count": null,
   "metadata": {},
   "outputs": [],
   "source": [
    "from sklearn.compose import ColumnTransformer\n",
    "\n",
    "ct = ColumnTransformer([('age_discr', preprocessing.KBinsDiscretizer(n_bins=4, encode='ordinal', strategy='uniform'), ('THROMBOCYTE_discr', preprocessing.KBinsDiscretizer(n_bins=10, encode='ordinal', strategy='uniform')))], remainder='passthrough')\n",
    "pipeline"
   ]
  }
 ],
 "metadata": {
  "kernelspec": {
   "display_name": "base",
   "language": "python",
   "name": "python3"
  },
  "language_info": {
   "codemirror_mode": {
    "name": "ipython",
    "version": 3
   },
   "file_extension": ".py",
   "mimetype": "text/x-python",
   "name": "python",
   "nbconvert_exporter": "python",
   "pygments_lexer": "ipython3",
   "version": "3.9.12"
  },
  "orig_nbformat": 4
 },
 "nbformat": 4,
 "nbformat_minor": 2
}
