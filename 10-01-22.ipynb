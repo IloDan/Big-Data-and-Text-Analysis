{
 "cells": [
  {
   "cell_type": "code",
   "execution_count": 2,
   "metadata": {},
   "outputs": [
    {
     "name": "stderr",
     "output_type": "stream",
     "text": [
      "c:\\Users\\dany0\\anaconda3\\lib\\site-packages\\scipy\\__init__.py:146: UserWarning: A NumPy version >=1.16.5 and <1.23.0 is required for this version of SciPy (detected version 1.24.3\n",
      "  warnings.warn(f\"A NumPy version >={np_minversion} and <{np_maxversion}\"\n"
     ]
    },
    {
     "data": {
      "text/html": [
       "<div>\n",
       "<style scoped>\n",
       "    .dataframe tbody tr th:only-of-type {\n",
       "        vertical-align: middle;\n",
       "    }\n",
       "\n",
       "    .dataframe tbody tr th {\n",
       "        vertical-align: top;\n",
       "    }\n",
       "\n",
       "    .dataframe thead th {\n",
       "        text-align: right;\n",
       "    }\n",
       "</style>\n",
       "<table border=\"1\" class=\"dataframe\">\n",
       "  <thead>\n",
       "    <tr style=\"text-align: right;\">\n",
       "      <th></th>\n",
       "      <th>claim_number</th>\n",
       "      <th>age_of_driver</th>\n",
       "      <th>gender</th>\n",
       "      <th>marital_status</th>\n",
       "      <th>annual_income</th>\n",
       "      <th>high_education_ind</th>\n",
       "      <th>address_change_ind</th>\n",
       "      <th>living_status</th>\n",
       "      <th>claim_day_of_week</th>\n",
       "      <th>accident_site</th>\n",
       "      <th>past_num_of_claims</th>\n",
       "      <th>channel</th>\n",
       "      <th>claim_est_payout</th>\n",
       "      <th>age_of_vehicle</th>\n",
       "      <th>vehicle_category</th>\n",
       "      <th>vehicle_price</th>\n",
       "      <th>vehicle_color</th>\n",
       "      <th>vehicle_weight</th>\n",
       "      <th>fraud</th>\n",
       "    </tr>\n",
       "  </thead>\n",
       "  <tbody>\n",
       "    <tr>\n",
       "      <th>0</th>\n",
       "      <td>1</td>\n",
       "      <td>46</td>\n",
       "      <td>M</td>\n",
       "      <td>1.0</td>\n",
       "      <td>38301</td>\n",
       "      <td>1</td>\n",
       "      <td>1</td>\n",
       "      <td>Rent</td>\n",
       "      <td>Friday</td>\n",
       "      <td>Local</td>\n",
       "      <td>1</td>\n",
       "      <td>Broker</td>\n",
       "      <td>7530.940993</td>\n",
       "      <td>9.0</td>\n",
       "      <td>Compact</td>\n",
       "      <td>12885.45235</td>\n",
       "      <td>white</td>\n",
       "      <td>16161.33381</td>\n",
       "      <td>0</td>\n",
       "    </tr>\n",
       "    <tr>\n",
       "      <th>1</th>\n",
       "      <td>3</td>\n",
       "      <td>21</td>\n",
       "      <td>F</td>\n",
       "      <td>0.0</td>\n",
       "      <td>30445</td>\n",
       "      <td>0</td>\n",
       "      <td>1</td>\n",
       "      <td>Rent</td>\n",
       "      <td>Thursday</td>\n",
       "      <td>Highway</td>\n",
       "      <td>1</td>\n",
       "      <td>Online</td>\n",
       "      <td>2966.024895</td>\n",
       "      <td>4.0</td>\n",
       "      <td>Large</td>\n",
       "      <td>29429.45218</td>\n",
       "      <td>white</td>\n",
       "      <td>28691.96422</td>\n",
       "      <td>0</td>\n",
       "    </tr>\n",
       "    <tr>\n",
       "      <th>2</th>\n",
       "      <td>4</td>\n",
       "      <td>49</td>\n",
       "      <td>F</td>\n",
       "      <td>0.0</td>\n",
       "      <td>38923</td>\n",
       "      <td>0</td>\n",
       "      <td>1</td>\n",
       "      <td>Own</td>\n",
       "      <td>Tuesday</td>\n",
       "      <td>Local</td>\n",
       "      <td>0</td>\n",
       "      <td>Broker</td>\n",
       "      <td>6283.888333</td>\n",
       "      <td>3.0</td>\n",
       "      <td>Compact</td>\n",
       "      <td>21701.18195</td>\n",
       "      <td>white</td>\n",
       "      <td>22090.94758</td>\n",
       "      <td>1</td>\n",
       "    </tr>\n",
       "    <tr>\n",
       "      <th>3</th>\n",
       "      <td>5</td>\n",
       "      <td>58</td>\n",
       "      <td>F</td>\n",
       "      <td>1.0</td>\n",
       "      <td>40605</td>\n",
       "      <td>1</td>\n",
       "      <td>0</td>\n",
       "      <td>Own</td>\n",
       "      <td>Thursday</td>\n",
       "      <td>Local</td>\n",
       "      <td>3</td>\n",
       "      <td>Broker</td>\n",
       "      <td>6169.747994</td>\n",
       "      <td>4.0</td>\n",
       "      <td>Medium</td>\n",
       "      <td>13198.27344</td>\n",
       "      <td>other</td>\n",
       "      <td>38329.58106</td>\n",
       "      <td>1</td>\n",
       "    </tr>\n",
       "    <tr>\n",
       "      <th>4</th>\n",
       "      <td>6</td>\n",
       "      <td>38</td>\n",
       "      <td>M</td>\n",
       "      <td>1.0</td>\n",
       "      <td>36380</td>\n",
       "      <td>1</td>\n",
       "      <td>0</td>\n",
       "      <td>Rent</td>\n",
       "      <td>Tuesday</td>\n",
       "      <td>Highway</td>\n",
       "      <td>0</td>\n",
       "      <td>Broker</td>\n",
       "      <td>4541.387150</td>\n",
       "      <td>7.0</td>\n",
       "      <td>Medium</td>\n",
       "      <td>38060.21122</td>\n",
       "      <td>gray</td>\n",
       "      <td>25876.56319</td>\n",
       "      <td>0</td>\n",
       "    </tr>\n",
       "  </tbody>\n",
       "</table>\n",
       "</div>"
      ],
      "text/plain": [
       "   claim_number  age_of_driver gender  marital_status  annual_income  \\\n",
       "0             1             46      M             1.0          38301   \n",
       "1             3             21      F             0.0          30445   \n",
       "2             4             49      F             0.0          38923   \n",
       "3             5             58      F             1.0          40605   \n",
       "4             6             38      M             1.0          36380   \n",
       "\n",
       "   high_education_ind  address_change_ind living_status claim_day_of_week  \\\n",
       "0                   1                   1          Rent            Friday   \n",
       "1                   0                   1          Rent          Thursday   \n",
       "2                   0                   1           Own           Tuesday   \n",
       "3                   1                   0           Own          Thursday   \n",
       "4                   1                   0          Rent           Tuesday   \n",
       "\n",
       "  accident_site  past_num_of_claims channel  claim_est_payout  age_of_vehicle  \\\n",
       "0         Local                   1  Broker       7530.940993             9.0   \n",
       "1       Highway                   1  Online       2966.024895             4.0   \n",
       "2         Local                   0  Broker       6283.888333             3.0   \n",
       "3         Local                   3  Broker       6169.747994             4.0   \n",
       "4       Highway                   0  Broker       4541.387150             7.0   \n",
       "\n",
       "  vehicle_category  vehicle_price vehicle_color  vehicle_weight  fraud  \n",
       "0          Compact    12885.45235         white     16161.33381      0  \n",
       "1            Large    29429.45218         white     28691.96422      0  \n",
       "2          Compact    21701.18195         white     22090.94758      1  \n",
       "3           Medium    13198.27344         other     38329.58106      1  \n",
       "4           Medium    38060.21122          gray     25876.56319      0  "
      ]
     },
     "execution_count": 2,
     "metadata": {},
     "output_type": "execute_result"
    }
   ],
   "source": [
    "import pandas as pd\n",
    "import numpy as np\n",
    "import matplotlib.pyplot as plt\n",
    "import seaborn as sns\n",
    "\n",
    "df=pd.read_csv('./ClaimCars/training_set_fd.csv', delimiter=';')\n",
    "df.head()"
   ]
  },
  {
   "cell_type": "code",
   "execution_count": 3,
   "metadata": {},
   "outputs": [
    {
     "name": "stdout",
     "output_type": "stream",
     "text": [
      "<class 'pandas.core.frame.DataFrame'>\n",
      "RangeIndex: 17998 entries, 0 to 17997\n",
      "Data columns (total 19 columns):\n",
      " #   Column              Non-Null Count  Dtype  \n",
      "---  ------              --------------  -----  \n",
      " 0   claim_number        17998 non-null  int64  \n",
      " 1   age_of_driver       17998 non-null  int64  \n",
      " 2   gender              17998 non-null  object \n",
      " 3   marital_status      17993 non-null  float64\n",
      " 4   annual_income       17998 non-null  int64  \n",
      " 5   high_education_ind  17998 non-null  int64  \n",
      " 6   address_change_ind  17998 non-null  int64  \n",
      " 7   living_status       17998 non-null  object \n",
      " 8   claim_day_of_week   17998 non-null  object \n",
      " 9   accident_site       17998 non-null  object \n",
      " 10  past_num_of_claims  17998 non-null  int64  \n",
      " 11  channel             17998 non-null  object \n",
      " 12  claim_est_payout    17981 non-null  float64\n",
      " 13  age_of_vehicle      17990 non-null  float64\n",
      " 14  vehicle_category    17998 non-null  object \n",
      " 15  vehicle_price       17998 non-null  float64\n",
      " 16  vehicle_color       17998 non-null  object \n",
      " 17  vehicle_weight      17998 non-null  float64\n",
      " 18  fraud               17998 non-null  int64  \n",
      "dtypes: float64(5), int64(7), object(7)\n",
      "memory usage: 2.6+ MB\n"
     ]
    }
   ],
   "source": [
    "df.info()"
   ]
  },
  {
   "cell_type": "code",
   "execution_count": 4,
   "metadata": {},
   "outputs": [
    {
     "name": "stdout",
     "output_type": "stream",
     "text": [
      "Numero istanze dataset:  17998\n",
      "Sono presenti missing values?  True\n",
      "Numero di missing values:  30\n",
      "Numero di missing values per attributo:  claim_number           0\n",
      "age_of_driver          0\n",
      "gender                 0\n",
      "marital_status         5\n",
      "annual_income          0\n",
      "high_education_ind     0\n",
      "address_change_ind     0\n",
      "living_status          0\n",
      "claim_day_of_week      0\n",
      "accident_site          0\n",
      "past_num_of_claims     0\n",
      "channel                0\n",
      "claim_est_payout      17\n",
      "age_of_vehicle         8\n",
      "vehicle_category       0\n",
      "vehicle_price          0\n",
      "vehicle_color          0\n",
      "vehicle_weight         0\n",
      "fraud                  0\n",
      "dtype: int64\n",
      "Il dataset è bilanciato rispetto a 'fraud'?  False\n"
     ]
    },
    {
     "data": {
      "text/plain": [
       "<AxesSubplot:title={'center':'Count (fraud)'}>"
      ]
     },
     "execution_count": 4,
     "metadata": {},
     "output_type": "execute_result"
    },
    {
     "data": {
      "image/png": "[encoded data removed]",
      "text/plain": [
       "<Figure size 432x288 with 1 Axes>"
      ]
     },
     "metadata": {
      "needs_background": "light"
     },
     "output_type": "display_data"
    }
   ],
   "source": [
    "print(\"Numero istanze dataset: \", len(df))\n",
    "print(\"Sono presenti missing values? \", df.isnull().values.any())\n",
    "print(\"Numero di missing values: \", df.isnull().sum().sum())\n",
    "print(\"Numero di missing values per attributo: \", df.isnull().sum())\n",
    "print(\"Il dataset è bilanciato rispetto a 'fraud'? \", df['fraud'].value_counts()[0] == df['fraud'].value_counts()[1])\n",
    "df['fraud'].value_counts().plot(kind='bar', title='Count (fraud)')"
   ]
  },
  {
   "cell_type": "code",
   "execution_count": 5,
   "metadata": {},
   "outputs": [],
   "source": [
    "df_age=df.loc[df['age_of_driver']<91]\n",
    "age_group = pd.cut(df_age['age_of_driver'], bins=[17, 21, 25, 30,40, 50, 90])"
   ]
  },
  {
   "cell_type": "code",
   "execution_count": 6,
   "metadata": {},
   "outputs": [
    {
     "data": {
      "text/plain": [
       "(40, 50]    5768\n",
       "(30, 40]    5064\n",
       "(50, 90]    4712\n",
       "(25, 30]    1584\n",
       "(21, 25]     716\n",
       "(17, 21]     128\n",
       "Name: age_of_driver, dtype: int64"
      ]
     },
     "execution_count": 6,
     "metadata": {},
     "output_type": "execute_result"
    }
   ],
   "source": [
    "age_group.value_counts()"
   ]
  },
  {
   "cell_type": "code",
   "execution_count": 7,
   "metadata": {},
   "outputs": [
    {
     "data": {
      "text/plain": [
       "<AxesSubplot:>"
      ]
     },
     "execution_count": 7,
     "metadata": {},
     "output_type": "execute_result"
    },
    {
     "data": {
      "image/png": "[encoded data removed]",
      "text/plain": [
       "<Figure size 432x288 with 1 Axes>"
      ]
     },
     "metadata": {
      "needs_background": "light"
     },
     "output_type": "display_data"
    }
   ],
   "source": [
    "df_age['age_of_driver'].hist(bins=100)"
   ]
  },
  {
   "cell_type": "code",
   "execution_count": 8,
   "metadata": {},
   "outputs": [
    {
     "name": "stderr",
     "output_type": "stream",
     "text": [
      "C:\\Users\\dany0\\AppData\\Local\\Temp\\ipykernel_11272\\1632709738.py:2: SettingWithCopyWarning: \n",
      "A value is trying to be set on a copy of a slice from a DataFrame.\n",
      "Try using .loc[row_indexer,col_indexer] = value instead\n",
      "\n",
      "See the caveats in the documentation: https://pandas.pydata.org/pandas-docs/stable/user_guide/indexing.html#returning-a-view-versus-a-copy\n",
      "  df_age['age_group'] = age_group\n"
     ]
    },
    {
     "data": {
      "text/html": [
       "<div>\n",
       "<style scoped>\n",
       "    .dataframe tbody tr th:only-of-type {\n",
       "        vertical-align: middle;\n",
       "    }\n",
       "\n",
       "    .dataframe tbody tr th {\n",
       "        vertical-align: top;\n",
       "    }\n",
       "\n",
       "    .dataframe thead th {\n",
       "        text-align: right;\n",
       "    }\n",
       "</style>\n",
       "<table border=\"1\" class=\"dataframe\">\n",
       "  <thead>\n",
       "    <tr style=\"text-align: right;\">\n",
       "      <th>fraud</th>\n",
       "      <th>0</th>\n",
       "      <th>1</th>\n",
       "    </tr>\n",
       "    <tr>\n",
       "      <th>age_group</th>\n",
       "      <th></th>\n",
       "      <th></th>\n",
       "    </tr>\n",
       "  </thead>\n",
       "  <tbody>\n",
       "    <tr>\n",
       "      <th>(17, 21]</th>\n",
       "      <td>0.781250</td>\n",
       "      <td>0.218750</td>\n",
       "    </tr>\n",
       "    <tr>\n",
       "      <th>(21, 25]</th>\n",
       "      <td>0.857542</td>\n",
       "      <td>0.142458</td>\n",
       "    </tr>\n",
       "    <tr>\n",
       "      <th>(25, 30]</th>\n",
       "      <td>0.843434</td>\n",
       "      <td>0.156566</td>\n",
       "    </tr>\n",
       "    <tr>\n",
       "      <th>(30, 40]</th>\n",
       "      <td>0.829581</td>\n",
       "      <td>0.170419</td>\n",
       "    </tr>\n",
       "    <tr>\n",
       "      <th>(40, 50]</th>\n",
       "      <td>0.805652</td>\n",
       "      <td>0.194348</td>\n",
       "    </tr>\n",
       "    <tr>\n",
       "      <th>(50, 90]</th>\n",
       "      <td>0.904711</td>\n",
       "      <td>0.095289</td>\n",
       "    </tr>\n",
       "  </tbody>\n",
       "</table>\n",
       "</div>"
      ],
      "text/plain": [
       "fraud             0         1\n",
       "age_group                    \n",
       "(17, 21]   0.781250  0.218750\n",
       "(21, 25]   0.857542  0.142458\n",
       "(25, 30]   0.843434  0.156566\n",
       "(30, 40]   0.829581  0.170419\n",
       "(40, 50]   0.805652  0.194348\n",
       "(50, 90]   0.904711  0.095289"
      ]
     },
     "execution_count": 8,
     "metadata": {},
     "output_type": "execute_result"
    },
    {
     "data": {
      "image/png": "[encoded data removed]",
      "text/plain": [
       "<Figure size 432x288 with 1 Axes>"
      ]
     },
     "metadata": {
      "needs_background": "light"
     },
     "output_type": "display_data"
    }
   ],
   "source": [
    "sns.countplot(x=age_group, hue='fraud', data=df_age)\n",
    "df_age['age_group'] = age_group\n",
    "df_age.groupby('age_group')['fraud'].value_counts(normalize=True).unstack()"
   ]
  },
  {
   "cell_type": "code",
   "execution_count": 44,
   "metadata": {},
   "outputs": [
    {
     "name": "stdout",
     "output_type": "stream",
     "text": [
      "Percentuale frodi donne sotto i 40 anni:  0.17992766726943943\n",
      "Percentuale frodi uomini sotto i 40 anni:  0.1487977369165488\n",
      "Percentuale frodi donne sopra i 40 anni:  0.16974661840350544\n",
      "Percentuale frodi uomini sopra i 40 anni:  0.1360381861575179\n"
     ]
    }
   ],
   "source": [
    "df_under= df.loc[df['age_of_driver']<40]\n",
    "df_over= df.loc[df['age_of_driver']>=40]\n",
    "df_under_fro = df_under.loc[df['fraud']==1].groupby('gender').count()['claim_number']\n",
    "df_over_fro = df_over.loc[df['fraud']==1].groupby('gender').count()['claim_number']\n",
    "df_u_f = df_under_fro['F']/df_under[df_under['gender']=='F'].count()['gender']\n",
    "df_u_m = df_under_fro['M']/df_under[df_under['gender']=='M'].count()['gender']\n",
    "df_o_f = df_over_fro['F']/df_over[df_over['gender']=='F'].count()['gender']\n",
    "df_o_m = df_over_fro['M']/df_over[df_over['gender']=='M'].count()['gender']\n",
    "print(\"Percentuale frodi donne sotto i 40 anni: \", df_u_f)\n",
    "print(\"Percentuale frodi uomini sotto i 40 anni: \", df_u_m)\n",
    "print(\"Percentuale frodi donne sopra i 40 anni: \", df_o_f)\n",
    "print(\"Percentuale frodi uomini sopra i 40 anni: \", df_o_m)"
   ]
  },
  {
   "cell_type": "code",
   "execution_count": 47,
   "metadata": {},
   "outputs": [
    {
     "name": "stdout",
     "output_type": "stream",
     "text": [
      "fraud          0         1\n",
      "gender                    \n",
      "F       0.820072  0.179928\n",
      "M       0.851202  0.148798\n",
      "fraud          0         1\n",
      "gender                    \n",
      "F       0.830253  0.169747\n",
      "M       0.863962  0.136038\n"
     ]
    }
   ],
   "source": [
    "print(df_under.groupby('gender')['fraud'].value_counts(normalize=True).unstack())\n",
    "print(df_over.groupby('gender')['fraud'].value_counts(normalize=True).unstack())"
   ]
  },
  {
   "cell_type": "code",
   "execution_count": 10,
   "metadata": {},
   "outputs": [
    {
     "data": {
      "text/plain": [
       "<AxesSubplot:>"
      ]
     },
     "execution_count": 10,
     "metadata": {},
     "output_type": "execute_result"
    },
    {
     "data": {
      "image/png": "[encoded data removed]",
      "text/plain": [
       "<Figure size 432x288 with 1 Axes>"
      ]
     },
     "metadata": {
      "needs_background": "light"
     },
     "output_type": "display_data"
    }
   ],
   "source": [
    "df['claim_est_payout'].hist(bins=100)\n",
    "df.loc[df['fraud']==0]['claim_est_payout'].hist(bins=100)\n",
    "df.loc[df['fraud']==1]['claim_est_payout'].hist(bins=100)\n"
   ]
  },
  {
   "cell_type": "code",
   "execution_count": 11,
   "metadata": {},
   "outputs": [],
   "source": [
    "df =  pd.read_csv('./ClaimCars/training_set_fd.csv', delimiter=';')\n",
    "df = df.dropna()\n",
    "data_text=df.drop(['claim_number', 'vehicle_color', 'vehicle_weight', 'marital_status', 'fraud'], axis=1)\n",
    "data_label=df['fraud']"
   ]
  },
  {
   "cell_type": "code",
   "execution_count": 12,
   "metadata": {},
   "outputs": [
    {
     "data": {
      "text/html": [
       "<div>\n",
       "<style scoped>\n",
       "    .dataframe tbody tr th:only-of-type {\n",
       "        vertical-align: middle;\n",
       "    }\n",
       "\n",
       "    .dataframe tbody tr th {\n",
       "        vertical-align: top;\n",
       "    }\n",
       "\n",
       "    .dataframe thead th {\n",
       "        text-align: right;\n",
       "    }\n",
       "</style>\n",
       "<table border=\"1\" class=\"dataframe\">\n",
       "  <thead>\n",
       "    <tr style=\"text-align: right;\">\n",
       "      <th></th>\n",
       "      <th>age_of_driver</th>\n",
       "      <th>gender</th>\n",
       "      <th>annual_income</th>\n",
       "      <th>high_education_ind</th>\n",
       "      <th>address_change_ind</th>\n",
       "      <th>living_status</th>\n",
       "      <th>claim_day_of_week</th>\n",
       "      <th>accident_site</th>\n",
       "      <th>past_num_of_claims</th>\n",
       "      <th>channel</th>\n",
       "      <th>claim_est_payout</th>\n",
       "      <th>age_of_vehicle</th>\n",
       "      <th>vehicle_category</th>\n",
       "      <th>vehicle_price</th>\n",
       "    </tr>\n",
       "  </thead>\n",
       "  <tbody>\n",
       "    <tr>\n",
       "      <th>0</th>\n",
       "      <td>46</td>\n",
       "      <td>M</td>\n",
       "      <td>38301</td>\n",
       "      <td>1</td>\n",
       "      <td>1</td>\n",
       "      <td>Rent</td>\n",
       "      <td>Friday</td>\n",
       "      <td>Local</td>\n",
       "      <td>1</td>\n",
       "      <td>Broker</td>\n",
       "      <td>7530.940993</td>\n",
       "      <td>9.0</td>\n",
       "      <td>Compact</td>\n",
       "      <td>12885.45235</td>\n",
       "    </tr>\n",
       "    <tr>\n",
       "      <th>1</th>\n",
       "      <td>21</td>\n",
       "      <td>F</td>\n",
       "      <td>30445</td>\n",
       "      <td>0</td>\n",
       "      <td>1</td>\n",
       "      <td>Rent</td>\n",
       "      <td>Thursday</td>\n",
       "      <td>Highway</td>\n",
       "      <td>1</td>\n",
       "      <td>Online</td>\n",
       "      <td>2966.024895</td>\n",
       "      <td>4.0</td>\n",
       "      <td>Large</td>\n",
       "      <td>29429.45218</td>\n",
       "    </tr>\n",
       "    <tr>\n",
       "      <th>2</th>\n",
       "      <td>49</td>\n",
       "      <td>F</td>\n",
       "      <td>38923</td>\n",
       "      <td>0</td>\n",
       "      <td>1</td>\n",
       "      <td>Own</td>\n",
       "      <td>Tuesday</td>\n",
       "      <td>Local</td>\n",
       "      <td>0</td>\n",
       "      <td>Broker</td>\n",
       "      <td>6283.888333</td>\n",
       "      <td>3.0</td>\n",
       "      <td>Compact</td>\n",
       "      <td>21701.18195</td>\n",
       "    </tr>\n",
       "    <tr>\n",
       "      <th>3</th>\n",
       "      <td>58</td>\n",
       "      <td>F</td>\n",
       "      <td>40605</td>\n",
       "      <td>1</td>\n",
       "      <td>0</td>\n",
       "      <td>Own</td>\n",
       "      <td>Thursday</td>\n",
       "      <td>Local</td>\n",
       "      <td>3</td>\n",
       "      <td>Broker</td>\n",
       "      <td>6169.747994</td>\n",
       "      <td>4.0</td>\n",
       "      <td>Medium</td>\n",
       "      <td>13198.27344</td>\n",
       "    </tr>\n",
       "    <tr>\n",
       "      <th>4</th>\n",
       "      <td>38</td>\n",
       "      <td>M</td>\n",
       "      <td>36380</td>\n",
       "      <td>1</td>\n",
       "      <td>0</td>\n",
       "      <td>Rent</td>\n",
       "      <td>Tuesday</td>\n",
       "      <td>Highway</td>\n",
       "      <td>0</td>\n",
       "      <td>Broker</td>\n",
       "      <td>4541.387150</td>\n",
       "      <td>7.0</td>\n",
       "      <td>Medium</td>\n",
       "      <td>38060.21122</td>\n",
       "    </tr>\n",
       "  </tbody>\n",
       "</table>\n",
       "</div>"
      ],
      "text/plain": [
       "   age_of_driver gender  annual_income  high_education_ind  \\\n",
       "0             46      M          38301                   1   \n",
       "1             21      F          30445                   0   \n",
       "2             49      F          38923                   0   \n",
       "3             58      F          40605                   1   \n",
       "4             38      M          36380                   1   \n",
       "\n",
       "   address_change_ind living_status claim_day_of_week accident_site  \\\n",
       "0                   1          Rent            Friday         Local   \n",
       "1                   1          Rent          Thursday       Highway   \n",
       "2                   1           Own           Tuesday         Local   \n",
       "3                   0           Own          Thursday         Local   \n",
       "4                   0          Rent           Tuesday       Highway   \n",
       "\n",
       "   past_num_of_claims channel  claim_est_payout  age_of_vehicle  \\\n",
       "0                   1  Broker       7530.940993             9.0   \n",
       "1                   1  Online       2966.024895             4.0   \n",
       "2                   0  Broker       6283.888333             3.0   \n",
       "3                   3  Broker       6169.747994             4.0   \n",
       "4                   0  Broker       4541.387150             7.0   \n",
       "\n",
       "  vehicle_category  vehicle_price  \n",
       "0          Compact    12885.45235  \n",
       "1            Large    29429.45218  \n",
       "2          Compact    21701.18195  \n",
       "3           Medium    13198.27344  \n",
       "4           Medium    38060.21122  "
      ]
     },
     "execution_count": 12,
     "metadata": {},
     "output_type": "execute_result"
    }
   ],
   "source": [
    "data_text.head()"
   ]
  },
  {
   "cell_type": "code",
   "execution_count": 13,
   "metadata": {},
   "outputs": [
    {
     "data": {
      "text/plain": [
       "(17968, 14)"
      ]
     },
     "execution_count": 13,
     "metadata": {},
     "output_type": "execute_result"
    }
   ],
   "source": [
    "from sklearn.model_selection import train_test_split\n",
    "from sklearn.preprocessing import LabelEncoder\n",
    "\n",
    "le = LabelEncoder()\n",
    "categoricals = data_text.select_dtypes(include='object').columns\n",
    "for col in categoricals:\n",
    "    data_text[col] = le.fit_transform(data_text[col])\n",
    "\n",
    "X_train, X_test, y_train, y_test = train_test_split(data_text, data_label, test_size=1/3)\n",
    "data_text.shape\n"
   ]
  },
  {
   "cell_type": "code",
   "execution_count": 14,
   "metadata": {},
   "outputs": [
    {
     "data": {
      "text/html": [
       "<div>\n",
       "<style scoped>\n",
       "    .dataframe tbody tr th:only-of-type {\n",
       "        vertical-align: middle;\n",
       "    }\n",
       "\n",
       "    .dataframe tbody tr th {\n",
       "        vertical-align: top;\n",
       "    }\n",
       "\n",
       "    .dataframe thead th {\n",
       "        text-align: right;\n",
       "    }\n",
       "</style>\n",
       "<table border=\"1\" class=\"dataframe\">\n",
       "  <thead>\n",
       "    <tr style=\"text-align: right;\">\n",
       "      <th></th>\n",
       "      <th>age_of_driver</th>\n",
       "      <th>gender</th>\n",
       "      <th>annual_income</th>\n",
       "      <th>high_education_ind</th>\n",
       "      <th>address_change_ind</th>\n",
       "      <th>living_status</th>\n",
       "      <th>claim_day_of_week</th>\n",
       "      <th>accident_site</th>\n",
       "      <th>past_num_of_claims</th>\n",
       "      <th>channel</th>\n",
       "      <th>claim_est_payout</th>\n",
       "      <th>age_of_vehicle</th>\n",
       "      <th>vehicle_category</th>\n",
       "      <th>vehicle_price</th>\n",
       "    </tr>\n",
       "  </thead>\n",
       "  <tbody>\n",
       "    <tr>\n",
       "      <th>0</th>\n",
       "      <td>46</td>\n",
       "      <td>1</td>\n",
       "      <td>38301</td>\n",
       "      <td>1</td>\n",
       "      <td>1</td>\n",
       "      <td>1</td>\n",
       "      <td>0</td>\n",
       "      <td>1</td>\n",
       "      <td>1</td>\n",
       "      <td>0</td>\n",
       "      <td>7530.940993</td>\n",
       "      <td>9.0</td>\n",
       "      <td>0</td>\n",
       "      <td>12885.45235</td>\n",
       "    </tr>\n",
       "    <tr>\n",
       "      <th>1</th>\n",
       "      <td>21</td>\n",
       "      <td>0</td>\n",
       "      <td>30445</td>\n",
       "      <td>0</td>\n",
       "      <td>1</td>\n",
       "      <td>1</td>\n",
       "      <td>4</td>\n",
       "      <td>0</td>\n",
       "      <td>1</td>\n",
       "      <td>1</td>\n",
       "      <td>2966.024895</td>\n",
       "      <td>4.0</td>\n",
       "      <td>1</td>\n",
       "      <td>29429.45218</td>\n",
       "    </tr>\n",
       "    <tr>\n",
       "      <th>2</th>\n",
       "      <td>49</td>\n",
       "      <td>0</td>\n",
       "      <td>38923</td>\n",
       "      <td>0</td>\n",
       "      <td>1</td>\n",
       "      <td>0</td>\n",
       "      <td>5</td>\n",
       "      <td>1</td>\n",
       "      <td>0</td>\n",
       "      <td>0</td>\n",
       "      <td>6283.888333</td>\n",
       "      <td>3.0</td>\n",
       "      <td>0</td>\n",
       "      <td>21701.18195</td>\n",
       "    </tr>\n",
       "    <tr>\n",
       "      <th>3</th>\n",
       "      <td>58</td>\n",
       "      <td>0</td>\n",
       "      <td>40605</td>\n",
       "      <td>1</td>\n",
       "      <td>0</td>\n",
       "      <td>0</td>\n",
       "      <td>4</td>\n",
       "      <td>1</td>\n",
       "      <td>3</td>\n",
       "      <td>0</td>\n",
       "      <td>6169.747994</td>\n",
       "      <td>4.0</td>\n",
       "      <td>2</td>\n",
       "      <td>13198.27344</td>\n",
       "    </tr>\n",
       "    <tr>\n",
       "      <th>4</th>\n",
       "      <td>38</td>\n",
       "      <td>1</td>\n",
       "      <td>36380</td>\n",
       "      <td>1</td>\n",
       "      <td>0</td>\n",
       "      <td>1</td>\n",
       "      <td>5</td>\n",
       "      <td>0</td>\n",
       "      <td>0</td>\n",
       "      <td>0</td>\n",
       "      <td>4541.387150</td>\n",
       "      <td>7.0</td>\n",
       "      <td>2</td>\n",
       "      <td>38060.21122</td>\n",
       "    </tr>\n",
       "  </tbody>\n",
       "</table>\n",
       "</div>"
      ],
      "text/plain": [
       "   age_of_driver  gender  annual_income  high_education_ind  \\\n",
       "0             46       1          38301                   1   \n",
       "1             21       0          30445                   0   \n",
       "2             49       0          38923                   0   \n",
       "3             58       0          40605                   1   \n",
       "4             38       1          36380                   1   \n",
       "\n",
       "   address_change_ind  living_status  claim_day_of_week  accident_site  \\\n",
       "0                   1              1                  0              1   \n",
       "1                   1              1                  4              0   \n",
       "2                   1              0                  5              1   \n",
       "3                   0              0                  4              1   \n",
       "4                   0              1                  5              0   \n",
       "\n",
       "   past_num_of_claims  channel  claim_est_payout  age_of_vehicle  \\\n",
       "0                   1        0       7530.940993             9.0   \n",
       "1                   1        1       2966.024895             4.0   \n",
       "2                   0        0       6283.888333             3.0   \n",
       "3                   3        0       6169.747994             4.0   \n",
       "4                   0        0       4541.387150             7.0   \n",
       "\n",
       "   vehicle_category  vehicle_price  \n",
       "0                 0    12885.45235  \n",
       "1                 1    29429.45218  \n",
       "2                 0    21701.18195  \n",
       "3                 2    13198.27344  \n",
       "4                 2    38060.21122  "
      ]
     },
     "execution_count": 14,
     "metadata": {},
     "output_type": "execute_result"
    }
   ],
   "source": [
    "data_text.head()"
   ]
  },
  {
   "cell_type": "code",
   "execution_count": 15,
   "metadata": {},
   "outputs": [],
   "source": [
    "# from sklearn.preprocessing import OrdinalEncoder\n",
    "\n",
    "\n",
    "# enc = OrdinalEncoder()\n",
    "# data = enc.fit_transform(data_text)\n",
    "# data = pd.DataFrame(data, columns=data_text.columns)\n",
    "# data.head()"
   ]
  },
  {
   "cell_type": "code",
   "execution_count": 16,
   "metadata": {},
   "outputs": [
    {
     "name": "stdout",
     "output_type": "stream",
     "text": [
      "Tree:                precision    recall  f1-score   support\n",
      "\n",
      "           0       0.85      0.84      0.85      5021\n",
      "           1       0.23      0.24      0.23       969\n",
      "\n",
      "    accuracy                           0.75      5990\n",
      "   macro avg       0.54      0.54      0.54      5990\n",
      "weighted avg       0.75      0.75      0.75      5990\n",
      "\n",
      "Logreg:                precision    recall  f1-score   support\n",
      "\n",
      "           0       0.84      1.00      0.91      5021\n",
      "           1       0.00      0.00      0.00       969\n",
      "\n",
      "    accuracy                           0.84      5990\n",
      "   macro avg       0.42      0.50      0.46      5990\n",
      "weighted avg       0.70      0.84      0.76      5990\n",
      "\n",
      "Dummy:                precision    recall  f1-score   support\n",
      "\n",
      "           0       0.84      1.00      0.91      5021\n",
      "           1       0.00      0.00      0.00       969\n",
      "\n",
      "    accuracy                           0.84      5990\n",
      "   macro avg       0.42      0.50      0.46      5990\n",
      "weighted avg       0.70      0.84      0.76      5990\n",
      "\n"
     ]
    },
    {
     "name": "stderr",
     "output_type": "stream",
     "text": [
      "c:\\Users\\dany0\\anaconda3\\lib\\site-packages\\sklearn\\metrics\\_classification.py:1318: UndefinedMetricWarning: Precision and F-score are ill-defined and being set to 0.0 in labels with no predicted samples. Use `zero_division` parameter to control this behavior.\n",
      "  _warn_prf(average, modifier, msg_start, len(result))\n",
      "c:\\Users\\dany0\\anaconda3\\lib\\site-packages\\sklearn\\metrics\\_classification.py:1318: UndefinedMetricWarning: Precision and F-score are ill-defined and being set to 0.0 in labels with no predicted samples. Use `zero_division` parameter to control this behavior.\n",
      "  _warn_prf(average, modifier, msg_start, len(result))\n",
      "c:\\Users\\dany0\\anaconda3\\lib\\site-packages\\sklearn\\metrics\\_classification.py:1318: UndefinedMetricWarning: Precision and F-score are ill-defined and being set to 0.0 in labels with no predicted samples. Use `zero_division` parameter to control this behavior.\n",
      "  _warn_prf(average, modifier, msg_start, len(result))\n"
     ]
    },
    {
     "data": {
      "image/png": "[encoded data removed]",
      "text/plain": [
       "<Figure size 432x288 with 2 Axes>"
      ]
     },
     "metadata": {
      "needs_background": "light"
     },
     "output_type": "display_data"
    },
    {
     "data": {
      "image/png": "[encoded data removed]",
      "text/plain": [
       "<Figure size 432x288 with 2 Axes>"
      ]
     },
     "metadata": {
      "needs_background": "light"
     },
     "output_type": "display_data"
    },
    {
     "data": {
      "image/png": "[encoded data removed]",
      "text/plain": [
       "<Figure size 432x288 with 2 Axes>"
      ]
     },
     "metadata": {
      "needs_background": "light"
     },
     "output_type": "display_data"
    }
   ],
   "source": [
    "from sklearn.tree import DecisionTreeClassifier\n",
    "from sklearn.linear_model import LogisticRegression\n",
    "from sklearn.dummy import DummyClassifier\n",
    "from sklearn.metrics import confusion_matrix\n",
    "from sklearn.metrics import classification_report\n",
    "\n",
    "tree = DecisionTreeClassifier()\n",
    "logreg = LogisticRegression(solver='liblinear')\n",
    "dummy = DummyClassifier()\n",
    "tree.fit(X_train, y_train)\n",
    "y_pred_tree = tree.predict(X_test)\n",
    "print(\"Tree: \", classification_report(y_test, y_pred_tree))\n",
    "cm_tree = confusion_matrix(y_test, y_pred_tree, normalize='true')\n",
    "\n",
    "logreg.fit(X_train, y_train)\n",
    "y_pred_logreg = logreg.predict(X_test)\n",
    "print(\"Logreg: \", classification_report(y_test, y_pred_logreg))\n",
    "cm_logreg = confusion_matrix(y_test, y_pred_logreg, normalize='true')\n",
    "\n",
    "dummy.fit(X_train, y_train)\n",
    "y_pred_dummy = dummy.predict(X_test)\n",
    "print(\"Dummy: \", classification_report(y_test, y_pred_dummy))\n",
    "cm_dummy = confusion_matrix(y_test, y_pred_dummy, normalize='true')\n",
    "\n",
    "sns.heatmap(cm_tree, annot=True)\n",
    "plt.title('Confusion matrix tree')  \n",
    "plt.show()\n",
    "sns.heatmap(cm_logreg, annot=True)\n",
    "plt.title('Confusion matrix logreg')\n",
    "plt.show()\n",
    "sns.heatmap(cm_dummy, annot=True)\n",
    "plt.title('Confusion matrix dummy')\n",
    "plt.show()\n",
    "\n"
   ]
  },
  {
   "cell_type": "code",
   "execution_count": 17,
   "metadata": {},
   "outputs": [
    {
     "name": "stdout",
     "output_type": "stream",
     "text": [
      "Tree:  0.21321695560894013\n",
      "Logreg:  0.0\n",
      "Dummy:  0.0\n"
     ]
    }
   ],
   "source": [
    "from sklearn.model_selection import cross_val_score\n",
    "\n",
    "scores_tree = cross_val_score(tree, data_text, data_label, cv=10, scoring='f1')\n",
    "scores_logreg = cross_val_score(logreg, data_text, data_label, cv=10, scoring='f1')\n",
    "scores_dummy = cross_val_score(dummy, data_text, data_label, cv=10, scoring='f1')\n",
    "\n",
    "print(\"Tree: \", scores_tree.mean())\n",
    "print(\"Logreg: \", scores_logreg.mean())\n",
    "print(\"Dummy: \", scores_dummy.mean())\n"
   ]
  },
  {
   "cell_type": "code",
   "execution_count": 18,
   "metadata": {},
   "outputs": [
    {
     "ename": "KeyboardInterrupt",
     "evalue": "",
     "output_type": "error",
     "traceback": [
      "\u001b[1;31m---------------------------------------------------------------------------\u001b[0m",
      "\u001b[1;31mKeyboardInterrupt\u001b[0m                         Traceback (most recent call last)",
      "\u001b[1;32mc:\\Users\\dany0\\OneDrive - Unimore\\AIE\\Big Data\\Prove\\10-01-22.ipynb Cell 17\u001b[0m in \u001b[0;36m<cell line: 7>\u001b[1;34m()\u001b[0m\n\u001b[0;32m      <a href='vscode-notebook-cell:/c%3A/Users/dany0/OneDrive%20-%20Unimore/AIE/Big%20Data/Prove/10-01-22.ipynb#X53sZmlsZQ%3D%3D?line=4'>5</a>\u001b[0m param_grid \u001b[39m=\u001b[39m {\u001b[39m'\u001b[39m\u001b[39mC\u001b[39m\u001b[39m'\u001b[39m: [\u001b[39m10\u001b[39m, \u001b[39m100\u001b[39m], \u001b[39m'\u001b[39m\u001b[39mpenalty\u001b[39m\u001b[39m'\u001b[39m: [\u001b[39m'\u001b[39m\u001b[39ml1\u001b[39m\u001b[39m'\u001b[39m, \u001b[39m'\u001b[39m\u001b[39ml2\u001b[39m\u001b[39m'\u001b[39m]}\n\u001b[0;32m      <a href='vscode-notebook-cell:/c%3A/Users/dany0/OneDrive%20-%20Unimore/AIE/Big%20Data/Prove/10-01-22.ipynb#X53sZmlsZQ%3D%3D?line=5'>6</a>\u001b[0m logreg_cv \u001b[39m=\u001b[39m GridSearchCV(logreg, param_grid, cv\u001b[39m=\u001b[39m\u001b[39m10\u001b[39m, scoring\u001b[39m=\u001b[39m\u001b[39m'\u001b[39m\u001b[39mf1\u001b[39m\u001b[39m'\u001b[39m)\n\u001b[1;32m----> <a href='vscode-notebook-cell:/c%3A/Users/dany0/OneDrive%20-%20Unimore/AIE/Big%20Data/Prove/10-01-22.ipynb#X53sZmlsZQ%3D%3D?line=6'>7</a>\u001b[0m logreg_cv\u001b[39m.\u001b[39;49mfit(data_text, data_label)\n\u001b[0;32m      <a href='vscode-notebook-cell:/c%3A/Users/dany0/OneDrive%20-%20Unimore/AIE/Big%20Data/Prove/10-01-22.ipynb#X53sZmlsZQ%3D%3D?line=7'>8</a>\u001b[0m \u001b[39mprint\u001b[39m(\u001b[39m\"\u001b[39m\u001b[39mTuned hyperparameters: \u001b[39m\u001b[39m\"\u001b[39m, logreg_cv\u001b[39m.\u001b[39mbest_params_)\n\u001b[0;32m      <a href='vscode-notebook-cell:/c%3A/Users/dany0/OneDrive%20-%20Unimore/AIE/Big%20Data/Prove/10-01-22.ipynb#X53sZmlsZQ%3D%3D?line=8'>9</a>\u001b[0m \u001b[39mprint\u001b[39m(\u001b[39m\"\u001b[39m\u001b[39mBest score: \u001b[39m\u001b[39m\"\u001b[39m, logreg_cv\u001b[39m.\u001b[39mbest_score_)\n",
      "File \u001b[1;32mc:\\Users\\dany0\\anaconda3\\lib\\site-packages\\sklearn\\model_selection\\_search.py:891\u001b[0m, in \u001b[0;36mBaseSearchCV.fit\u001b[1;34m(self, X, y, groups, **fit_params)\u001b[0m\n\u001b[0;32m    885\u001b[0m     results \u001b[39m=\u001b[39m \u001b[39mself\u001b[39m\u001b[39m.\u001b[39m_format_results(\n\u001b[0;32m    886\u001b[0m         all_candidate_params, n_splits, all_out, all_more_results\n\u001b[0;32m    887\u001b[0m     )\n\u001b[0;32m    889\u001b[0m     \u001b[39mreturn\u001b[39;00m results\n\u001b[1;32m--> 891\u001b[0m \u001b[39mself\u001b[39;49m\u001b[39m.\u001b[39;49m_run_search(evaluate_candidates)\n\u001b[0;32m    893\u001b[0m \u001b[39m# multimetric is determined here because in the case of a callable\u001b[39;00m\n\u001b[0;32m    894\u001b[0m \u001b[39m# self.scoring the return type is only known after calling\u001b[39;00m\n\u001b[0;32m    895\u001b[0m first_test_score \u001b[39m=\u001b[39m all_out[\u001b[39m0\u001b[39m][\u001b[39m\"\u001b[39m\u001b[39mtest_scores\u001b[39m\u001b[39m\"\u001b[39m]\n",
      "File \u001b[1;32mc:\\Users\\dany0\\anaconda3\\lib\\site-packages\\sklearn\\model_selection\\_search.py:1392\u001b[0m, in \u001b[0;36mGridSearchCV._run_search\u001b[1;34m(self, evaluate_candidates)\u001b[0m\n\u001b[0;32m   1390\u001b[0m \u001b[39mdef\u001b[39;00m \u001b[39m_run_search\u001b[39m(\u001b[39mself\u001b[39m, evaluate_candidates):\n\u001b[0;32m   1391\u001b[0m     \u001b[39m\"\"\"Search all candidates in param_grid\"\"\"\u001b[39;00m\n\u001b[1;32m-> 1392\u001b[0m     evaluate_candidates(ParameterGrid(\u001b[39mself\u001b[39;49m\u001b[39m.\u001b[39;49mparam_grid))\n",
      "File \u001b[1;32mc:\\Users\\dany0\\anaconda3\\lib\\site-packages\\sklearn\\model_selection\\_search.py:838\u001b[0m, in \u001b[0;36mBaseSearchCV.fit.<locals>.evaluate_candidates\u001b[1;34m(candidate_params, cv, more_results)\u001b[0m\n\u001b[0;32m    830\u001b[0m \u001b[39mif\u001b[39;00m \u001b[39mself\u001b[39m\u001b[39m.\u001b[39mverbose \u001b[39m>\u001b[39m \u001b[39m0\u001b[39m:\n\u001b[0;32m    831\u001b[0m     \u001b[39mprint\u001b[39m(\n\u001b[0;32m    832\u001b[0m         \u001b[39m\"\u001b[39m\u001b[39mFitting \u001b[39m\u001b[39m{0}\u001b[39;00m\u001b[39m folds for each of \u001b[39m\u001b[39m{1}\u001b[39;00m\u001b[39m candidates,\u001b[39m\u001b[39m\"\u001b[39m\n\u001b[0;32m    833\u001b[0m         \u001b[39m\"\u001b[39m\u001b[39m totalling \u001b[39m\u001b[39m{2}\u001b[39;00m\u001b[39m fits\u001b[39m\u001b[39m\"\u001b[39m\u001b[39m.\u001b[39mformat(\n\u001b[0;32m    834\u001b[0m             n_splits, n_candidates, n_candidates \u001b[39m*\u001b[39m n_splits\n\u001b[0;32m    835\u001b[0m         )\n\u001b[0;32m    836\u001b[0m     )\n\u001b[1;32m--> 838\u001b[0m out \u001b[39m=\u001b[39m parallel(\n\u001b[0;32m    839\u001b[0m     delayed(_fit_and_score)(\n\u001b[0;32m    840\u001b[0m         clone(base_estimator),\n\u001b[0;32m    841\u001b[0m         X,\n\u001b[0;32m    842\u001b[0m         y,\n\u001b[0;32m    843\u001b[0m         train\u001b[39m=\u001b[39;49mtrain,\n\u001b[0;32m    844\u001b[0m         test\u001b[39m=\u001b[39;49mtest,\n\u001b[0;32m    845\u001b[0m         parameters\u001b[39m=\u001b[39;49mparameters,\n\u001b[0;32m    846\u001b[0m         split_progress\u001b[39m=\u001b[39;49m(split_idx, n_splits),\n\u001b[0;32m    847\u001b[0m         candidate_progress\u001b[39m=\u001b[39;49m(cand_idx, n_candidates),\n\u001b[0;32m    848\u001b[0m         \u001b[39m*\u001b[39;49m\u001b[39m*\u001b[39;49mfit_and_score_kwargs,\n\u001b[0;32m    849\u001b[0m     )\n\u001b[0;32m    850\u001b[0m     \u001b[39mfor\u001b[39;49;00m (cand_idx, parameters), (split_idx, (train, test)) \u001b[39min\u001b[39;49;00m product(\n\u001b[0;32m    851\u001b[0m         \u001b[39menumerate\u001b[39;49m(candidate_params), \u001b[39menumerate\u001b[39;49m(cv\u001b[39m.\u001b[39;49msplit(X, y, groups))\n\u001b[0;32m    852\u001b[0m     )\n\u001b[0;32m    853\u001b[0m )\n\u001b[0;32m    855\u001b[0m \u001b[39mif\u001b[39;00m \u001b[39mlen\u001b[39m(out) \u001b[39m<\u001b[39m \u001b[39m1\u001b[39m:\n\u001b[0;32m    856\u001b[0m     \u001b[39mraise\u001b[39;00m \u001b[39mValueError\u001b[39;00m(\n\u001b[0;32m    857\u001b[0m         \u001b[39m\"\u001b[39m\u001b[39mNo fits were performed. \u001b[39m\u001b[39m\"\u001b[39m\n\u001b[0;32m    858\u001b[0m         \u001b[39m\"\u001b[39m\u001b[39mWas the CV iterator empty? \u001b[39m\u001b[39m\"\u001b[39m\n\u001b[0;32m    859\u001b[0m         \u001b[39m\"\u001b[39m\u001b[39mWere there no candidates?\u001b[39m\u001b[39m\"\u001b[39m\n\u001b[0;32m    860\u001b[0m     )\n",
      "File \u001b[1;32mc:\\Users\\dany0\\anaconda3\\lib\\site-packages\\joblib\\parallel.py:1046\u001b[0m, in \u001b[0;36mParallel.__call__\u001b[1;34m(self, iterable)\u001b[0m\n\u001b[0;32m   1043\u001b[0m \u001b[39mif\u001b[39;00m \u001b[39mself\u001b[39m\u001b[39m.\u001b[39mdispatch_one_batch(iterator):\n\u001b[0;32m   1044\u001b[0m     \u001b[39mself\u001b[39m\u001b[39m.\u001b[39m_iterating \u001b[39m=\u001b[39m \u001b[39mself\u001b[39m\u001b[39m.\u001b[39m_original_iterator \u001b[39mis\u001b[39;00m \u001b[39mnot\u001b[39;00m \u001b[39mNone\u001b[39;00m\n\u001b[1;32m-> 1046\u001b[0m \u001b[39mwhile\u001b[39;00m \u001b[39mself\u001b[39;49m\u001b[39m.\u001b[39;49mdispatch_one_batch(iterator):\n\u001b[0;32m   1047\u001b[0m     \u001b[39mpass\u001b[39;00m\n\u001b[0;32m   1049\u001b[0m \u001b[39mif\u001b[39;00m pre_dispatch \u001b[39m==\u001b[39m \u001b[39m\"\u001b[39m\u001b[39mall\u001b[39m\u001b[39m\"\u001b[39m \u001b[39mor\u001b[39;00m n_jobs \u001b[39m==\u001b[39m \u001b[39m1\u001b[39m:\n\u001b[0;32m   1050\u001b[0m     \u001b[39m# The iterable was consumed all at once by the above for loop.\u001b[39;00m\n\u001b[0;32m   1051\u001b[0m     \u001b[39m# No need to wait for async callbacks to trigger to\u001b[39;00m\n\u001b[0;32m   1052\u001b[0m     \u001b[39m# consumption.\u001b[39;00m\n",
      "File \u001b[1;32mc:\\Users\\dany0\\anaconda3\\lib\\site-packages\\joblib\\parallel.py:861\u001b[0m, in \u001b[0;36mParallel.dispatch_one_batch\u001b[1;34m(self, iterator)\u001b[0m\n\u001b[0;32m    859\u001b[0m     \u001b[39mreturn\u001b[39;00m \u001b[39mFalse\u001b[39;00m\n\u001b[0;32m    860\u001b[0m \u001b[39melse\u001b[39;00m:\n\u001b[1;32m--> 861\u001b[0m     \u001b[39mself\u001b[39;49m\u001b[39m.\u001b[39;49m_dispatch(tasks)\n\u001b[0;32m    862\u001b[0m     \u001b[39mreturn\u001b[39;00m \u001b[39mTrue\u001b[39;00m\n",
      "File \u001b[1;32mc:\\Users\\dany0\\anaconda3\\lib\\site-packages\\joblib\\parallel.py:779\u001b[0m, in \u001b[0;36mParallel._dispatch\u001b[1;34m(self, batch)\u001b[0m\n\u001b[0;32m    777\u001b[0m \u001b[39mwith\u001b[39;00m \u001b[39mself\u001b[39m\u001b[39m.\u001b[39m_lock:\n\u001b[0;32m    778\u001b[0m     job_idx \u001b[39m=\u001b[39m \u001b[39mlen\u001b[39m(\u001b[39mself\u001b[39m\u001b[39m.\u001b[39m_jobs)\n\u001b[1;32m--> 779\u001b[0m     job \u001b[39m=\u001b[39m \u001b[39mself\u001b[39;49m\u001b[39m.\u001b[39;49m_backend\u001b[39m.\u001b[39;49mapply_async(batch, callback\u001b[39m=\u001b[39;49mcb)\n\u001b[0;32m    780\u001b[0m     \u001b[39m# A job can complete so quickly than its callback is\u001b[39;00m\n\u001b[0;32m    781\u001b[0m     \u001b[39m# called before we get here, causing self._jobs to\u001b[39;00m\n\u001b[0;32m    782\u001b[0m     \u001b[39m# grow. To ensure correct results ordering, .insert is\u001b[39;00m\n\u001b[0;32m    783\u001b[0m     \u001b[39m# used (rather than .append) in the following line\u001b[39;00m\n\u001b[0;32m    784\u001b[0m     \u001b[39mself\u001b[39m\u001b[39m.\u001b[39m_jobs\u001b[39m.\u001b[39minsert(job_idx, job)\n",
      "File \u001b[1;32mc:\\Users\\dany0\\anaconda3\\lib\\site-packages\\joblib\\_parallel_backends.py:208\u001b[0m, in \u001b[0;36mSequentialBackend.apply_async\u001b[1;34m(self, func, callback)\u001b[0m\n\u001b[0;32m    206\u001b[0m \u001b[39mdef\u001b[39;00m \u001b[39mapply_async\u001b[39m(\u001b[39mself\u001b[39m, func, callback\u001b[39m=\u001b[39m\u001b[39mNone\u001b[39;00m):\n\u001b[0;32m    207\u001b[0m     \u001b[39m\"\"\"Schedule a func to be run\"\"\"\u001b[39;00m\n\u001b[1;32m--> 208\u001b[0m     result \u001b[39m=\u001b[39m ImmediateResult(func)\n\u001b[0;32m    209\u001b[0m     \u001b[39mif\u001b[39;00m callback:\n\u001b[0;32m    210\u001b[0m         callback(result)\n",
      "File \u001b[1;32mc:\\Users\\dany0\\anaconda3\\lib\\site-packages\\joblib\\_parallel_backends.py:572\u001b[0m, in \u001b[0;36mImmediateResult.__init__\u001b[1;34m(self, batch)\u001b[0m\n\u001b[0;32m    569\u001b[0m \u001b[39mdef\u001b[39;00m \u001b[39m__init__\u001b[39m(\u001b[39mself\u001b[39m, batch):\n\u001b[0;32m    570\u001b[0m     \u001b[39m# Don't delay the application, to avoid keeping the input\u001b[39;00m\n\u001b[0;32m    571\u001b[0m     \u001b[39m# arguments in memory\u001b[39;00m\n\u001b[1;32m--> 572\u001b[0m     \u001b[39mself\u001b[39m\u001b[39m.\u001b[39mresults \u001b[39m=\u001b[39m batch()\n",
      "File \u001b[1;32mc:\\Users\\dany0\\anaconda3\\lib\\site-packages\\joblib\\parallel.py:262\u001b[0m, in \u001b[0;36mBatchedCalls.__call__\u001b[1;34m(self)\u001b[0m\n\u001b[0;32m    258\u001b[0m \u001b[39mdef\u001b[39;00m \u001b[39m__call__\u001b[39m(\u001b[39mself\u001b[39m):\n\u001b[0;32m    259\u001b[0m     \u001b[39m# Set the default nested backend to self._backend but do not set the\u001b[39;00m\n\u001b[0;32m    260\u001b[0m     \u001b[39m# change the default number of processes to -1\u001b[39;00m\n\u001b[0;32m    261\u001b[0m     \u001b[39mwith\u001b[39;00m parallel_backend(\u001b[39mself\u001b[39m\u001b[39m.\u001b[39m_backend, n_jobs\u001b[39m=\u001b[39m\u001b[39mself\u001b[39m\u001b[39m.\u001b[39m_n_jobs):\n\u001b[1;32m--> 262\u001b[0m         \u001b[39mreturn\u001b[39;00m [func(\u001b[39m*\u001b[39margs, \u001b[39m*\u001b[39m\u001b[39m*\u001b[39mkwargs)\n\u001b[0;32m    263\u001b[0m                 \u001b[39mfor\u001b[39;00m func, args, kwargs \u001b[39min\u001b[39;00m \u001b[39mself\u001b[39m\u001b[39m.\u001b[39mitems]\n",
      "File \u001b[1;32mc:\\Users\\dany0\\anaconda3\\lib\\site-packages\\joblib\\parallel.py:262\u001b[0m, in \u001b[0;36m<listcomp>\u001b[1;34m(.0)\u001b[0m\n\u001b[0;32m    258\u001b[0m \u001b[39mdef\u001b[39;00m \u001b[39m__call__\u001b[39m(\u001b[39mself\u001b[39m):\n\u001b[0;32m    259\u001b[0m     \u001b[39m# Set the default nested backend to self._backend but do not set the\u001b[39;00m\n\u001b[0;32m    260\u001b[0m     \u001b[39m# change the default number of processes to -1\u001b[39;00m\n\u001b[0;32m    261\u001b[0m     \u001b[39mwith\u001b[39;00m parallel_backend(\u001b[39mself\u001b[39m\u001b[39m.\u001b[39m_backend, n_jobs\u001b[39m=\u001b[39m\u001b[39mself\u001b[39m\u001b[39m.\u001b[39m_n_jobs):\n\u001b[1;32m--> 262\u001b[0m         \u001b[39mreturn\u001b[39;00m [func(\u001b[39m*\u001b[39margs, \u001b[39m*\u001b[39m\u001b[39m*\u001b[39mkwargs)\n\u001b[0;32m    263\u001b[0m                 \u001b[39mfor\u001b[39;00m func, args, kwargs \u001b[39min\u001b[39;00m \u001b[39mself\u001b[39m\u001b[39m.\u001b[39mitems]\n",
      "File \u001b[1;32mc:\\Users\\dany0\\anaconda3\\lib\\site-packages\\sklearn\\utils\\fixes.py:216\u001b[0m, in \u001b[0;36m_FuncWrapper.__call__\u001b[1;34m(self, *args, **kwargs)\u001b[0m\n\u001b[0;32m    214\u001b[0m \u001b[39mdef\u001b[39;00m \u001b[39m__call__\u001b[39m(\u001b[39mself\u001b[39m, \u001b[39m*\u001b[39margs, \u001b[39m*\u001b[39m\u001b[39m*\u001b[39mkwargs):\n\u001b[0;32m    215\u001b[0m     \u001b[39mwith\u001b[39;00m config_context(\u001b[39m*\u001b[39m\u001b[39m*\u001b[39m\u001b[39mself\u001b[39m\u001b[39m.\u001b[39mconfig):\n\u001b[1;32m--> 216\u001b[0m         \u001b[39mreturn\u001b[39;00m \u001b[39mself\u001b[39m\u001b[39m.\u001b[39mfunction(\u001b[39m*\u001b[39margs, \u001b[39m*\u001b[39m\u001b[39m*\u001b[39mkwargs)\n",
      "File \u001b[1;32mc:\\Users\\dany0\\anaconda3\\lib\\site-packages\\sklearn\\model_selection\\_validation.py:680\u001b[0m, in \u001b[0;36m_fit_and_score\u001b[1;34m(estimator, X, y, scorer, train, test, verbose, parameters, fit_params, return_train_score, return_parameters, return_n_test_samples, return_times, return_estimator, split_progress, candidate_progress, error_score)\u001b[0m\n\u001b[0;32m    678\u001b[0m         estimator\u001b[39m.\u001b[39mfit(X_train, \u001b[39m*\u001b[39m\u001b[39m*\u001b[39mfit_params)\n\u001b[0;32m    679\u001b[0m     \u001b[39melse\u001b[39;00m:\n\u001b[1;32m--> 680\u001b[0m         estimator\u001b[39m.\u001b[39mfit(X_train, y_train, \u001b[39m*\u001b[39m\u001b[39m*\u001b[39mfit_params)\n\u001b[0;32m    682\u001b[0m \u001b[39mexcept\u001b[39;00m \u001b[39mException\u001b[39;00m:\n\u001b[0;32m    683\u001b[0m     \u001b[39m# Note fit time as time until error\u001b[39;00m\n\u001b[0;32m    684\u001b[0m     fit_time \u001b[39m=\u001b[39m time\u001b[39m.\u001b[39mtime() \u001b[39m-\u001b[39m start_time\n",
      "File \u001b[1;32mc:\\Users\\dany0\\anaconda3\\lib\\site-packages\\sklearn\\linear_model\\_logistic.py:1528\u001b[0m, in \u001b[0;36mLogisticRegression.fit\u001b[1;34m(self, X, y, sample_weight)\u001b[0m\n\u001b[0;32m   1522\u001b[0m \u001b[39mif\u001b[39;00m effective_n_jobs(\u001b[39mself\u001b[39m\u001b[39m.\u001b[39mn_jobs) \u001b[39m!=\u001b[39m \u001b[39m1\u001b[39m:\n\u001b[0;32m   1523\u001b[0m     warnings\u001b[39m.\u001b[39mwarn(\n\u001b[0;32m   1524\u001b[0m         \u001b[39m\"\u001b[39m\u001b[39m'\u001b[39m\u001b[39mn_jobs\u001b[39m\u001b[39m'\u001b[39m\u001b[39m > 1 does not have any effect when\u001b[39m\u001b[39m\"\u001b[39m\n\u001b[0;32m   1525\u001b[0m         \u001b[39m\"\u001b[39m\u001b[39m \u001b[39m\u001b[39m'\u001b[39m\u001b[39msolver\u001b[39m\u001b[39m'\u001b[39m\u001b[39m is set to \u001b[39m\u001b[39m'\u001b[39m\u001b[39mliblinear\u001b[39m\u001b[39m'\u001b[39m\u001b[39m. Got \u001b[39m\u001b[39m'\u001b[39m\u001b[39mn_jobs\u001b[39m\u001b[39m'\u001b[39m\u001b[39m\"\u001b[39m\n\u001b[0;32m   1526\u001b[0m         \u001b[39m\"\u001b[39m\u001b[39m = \u001b[39m\u001b[39m{}\u001b[39;00m\u001b[39m.\u001b[39m\u001b[39m\"\u001b[39m\u001b[39m.\u001b[39mformat(effective_n_jobs(\u001b[39mself\u001b[39m\u001b[39m.\u001b[39mn_jobs))\n\u001b[0;32m   1527\u001b[0m     )\n\u001b[1;32m-> 1528\u001b[0m \u001b[39mself\u001b[39m\u001b[39m.\u001b[39mcoef_, \u001b[39mself\u001b[39m\u001b[39m.\u001b[39mintercept_, n_iter_ \u001b[39m=\u001b[39m _fit_liblinear(\n\u001b[0;32m   1529\u001b[0m     X,\n\u001b[0;32m   1530\u001b[0m     y,\n\u001b[0;32m   1531\u001b[0m     \u001b[39mself\u001b[39;49m\u001b[39m.\u001b[39;49mC,\n\u001b[0;32m   1532\u001b[0m     \u001b[39mself\u001b[39;49m\u001b[39m.\u001b[39;49mfit_intercept,\n\u001b[0;32m   1533\u001b[0m     \u001b[39mself\u001b[39;49m\u001b[39m.\u001b[39;49mintercept_scaling,\n\u001b[0;32m   1534\u001b[0m     \u001b[39mself\u001b[39;49m\u001b[39m.\u001b[39;49mclass_weight,\n\u001b[0;32m   1535\u001b[0m     \u001b[39mself\u001b[39;49m\u001b[39m.\u001b[39;49mpenalty,\n\u001b[0;32m   1536\u001b[0m     \u001b[39mself\u001b[39;49m\u001b[39m.\u001b[39;49mdual,\n\u001b[0;32m   1537\u001b[0m     \u001b[39mself\u001b[39;49m\u001b[39m.\u001b[39;49mverbose,\n\u001b[0;32m   1538\u001b[0m     \u001b[39mself\u001b[39;49m\u001b[39m.\u001b[39;49mmax_iter,\n\u001b[0;32m   1539\u001b[0m     \u001b[39mself\u001b[39;49m\u001b[39m.\u001b[39;49mtol,\n\u001b[0;32m   1540\u001b[0m     \u001b[39mself\u001b[39;49m\u001b[39m.\u001b[39;49mrandom_state,\n\u001b[0;32m   1541\u001b[0m     sample_weight\u001b[39m=\u001b[39;49msample_weight,\n\u001b[0;32m   1542\u001b[0m )\n\u001b[0;32m   1543\u001b[0m \u001b[39mself\u001b[39m\u001b[39m.\u001b[39mn_iter_ \u001b[39m=\u001b[39m np\u001b[39m.\u001b[39marray([n_iter_])\n\u001b[0;32m   1544\u001b[0m \u001b[39mreturn\u001b[39;00m \u001b[39mself\u001b[39m\n",
      "File \u001b[1;32mc:\\Users\\dany0\\anaconda3\\lib\\site-packages\\sklearn\\svm\\_base.py:1186\u001b[0m, in \u001b[0;36m_fit_liblinear\u001b[1;34m(X, y, C, fit_intercept, intercept_scaling, class_weight, penalty, dual, verbose, max_iter, tol, random_state, multi_class, loss, epsilon, sample_weight)\u001b[0m\n\u001b[0;32m   1183\u001b[0m sample_weight \u001b[39m=\u001b[39m _check_sample_weight(sample_weight, X, dtype\u001b[39m=\u001b[39mnp\u001b[39m.\u001b[39mfloat64)\n\u001b[0;32m   1185\u001b[0m solver_type \u001b[39m=\u001b[39m _get_liblinear_solver_type(multi_class, penalty, loss, dual)\n\u001b[1;32m-> 1186\u001b[0m raw_coef_, n_iter_ \u001b[39m=\u001b[39m liblinear\u001b[39m.\u001b[39;49mtrain_wrap(\n\u001b[0;32m   1187\u001b[0m     X,\n\u001b[0;32m   1188\u001b[0m     y_ind,\n\u001b[0;32m   1189\u001b[0m     sp\u001b[39m.\u001b[39;49misspmatrix(X),\n\u001b[0;32m   1190\u001b[0m     solver_type,\n\u001b[0;32m   1191\u001b[0m     tol,\n\u001b[0;32m   1192\u001b[0m     bias,\n\u001b[0;32m   1193\u001b[0m     C,\n\u001b[0;32m   1194\u001b[0m     class_weight_,\n\u001b[0;32m   1195\u001b[0m     max_iter,\n\u001b[0;32m   1196\u001b[0m     rnd\u001b[39m.\u001b[39;49mrandint(np\u001b[39m.\u001b[39;49miinfo(\u001b[39m\"\u001b[39;49m\u001b[39mi\u001b[39;49m\u001b[39m\"\u001b[39;49m)\u001b[39m.\u001b[39;49mmax),\n\u001b[0;32m   1197\u001b[0m     epsilon,\n\u001b[0;32m   1198\u001b[0m     sample_weight,\n\u001b[0;32m   1199\u001b[0m )\n\u001b[0;32m   1200\u001b[0m \u001b[39m# Regarding rnd.randint(..) in the above signature:\u001b[39;00m\n\u001b[0;32m   1201\u001b[0m \u001b[39m# seed for srand in range [0..INT_MAX); due to limitations in Numpy\u001b[39;00m\n\u001b[0;32m   1202\u001b[0m \u001b[39m# on 32-bit platforms, we can't get to the UINT_MAX limit that\u001b[39;00m\n\u001b[0;32m   1203\u001b[0m \u001b[39m# srand supports\u001b[39;00m\n\u001b[0;32m   1204\u001b[0m n_iter_ \u001b[39m=\u001b[39m \u001b[39mmax\u001b[39m(n_iter_)\n",
      "\u001b[1;31mKeyboardInterrupt\u001b[0m: "
     ]
    }
   ],
   "source": [
    "from sklearn.model_selection import GridSearchCV\n",
    "\n",
    "\n",
    "logreg = LogisticRegression(solver='liblinear', max_iter=1000)\n",
    "param_grid = {'C': [10, 100], 'penalty': ['l1', 'l2']}\n",
    "logreg_cv = GridSearchCV(logreg, param_grid, cv=10, scoring='f1')\n",
    "logreg_cv.fit(data_text, data_label)\n",
    "print(\"Tuned hyperparameters: \", logreg_cv.best_params_)\n",
    "print(\"Best score: \", logreg_cv.best_score_)"
   ]
  },
  {
   "cell_type": "code",
   "execution_count": null,
   "metadata": {},
   "outputs": [],
   "source": [
    "from sklearn.preprocessing import MaxAbsScaler\n",
    "from sklearn.preprocessing import KBinsDiscretizer\n",
    "\n",
    "discretizer = KBinsDiscretizer(n_bins=10, encode='ordinal', strategy='uniform')\n",
    "data_text['claim_est_payout'] = discretizer.fit_transform(data_text['claim_est_payout'].values.reshape(-1, 1))\n",
    "data_text['vehicle_price'] = discretizer.fit_transform(data_text['vehicle_price'].values.reshape(-1, 1))\n",
    "\n",
    "scaler = MaxAbsScaler()\n",
    "data_text = scaler.fit_transform(data_text)\n",
    "\n",
    "\n"
   ]
  },
  {
   "cell_type": "code",
   "execution_count": null,
   "metadata": {},
   "outputs": [
    {
     "name": "stdout",
     "output_type": "stream",
     "text": [
      "Tree:  0.21598660235860184\n",
      "Logreg:  0.024218024385331598\n",
      "Dummy:  0.0\n"
     ]
    }
   ],
   "source": [
    "scores_tree = cross_val_score(tree, data_text, data_label, cv=10, scoring='f1')\n",
    "scores_logreg = cross_val_score(logreg, data_text, data_label, cv=10, scoring='f1')\n",
    "scores_dummy = cross_val_score(dummy, data_text, data_label, cv=10, scoring='f1')\n",
    "\n",
    "print(\"Tree: \", scores_tree.mean())\n",
    "print(\"Logreg: \", scores_logreg.mean())\n",
    "print(\"Dummy: \", scores_dummy.mean())\n"
   ]
  },
  {
   "cell_type": "code",
   "execution_count": null,
   "metadata": {},
   "outputs": [
    {
     "data": {
      "text/html": [
       "<div>\n",
       "<style scoped>\n",
       "    .dataframe tbody tr th:only-of-type {\n",
       "        vertical-align: middle;\n",
       "    }\n",
       "\n",
       "    .dataframe tbody tr th {\n",
       "        vertical-align: top;\n",
       "    }\n",
       "\n",
       "    .dataframe thead th {\n",
       "        text-align: right;\n",
       "    }\n",
       "</style>\n",
       "<table border=\"1\" class=\"dataframe\">\n",
       "  <thead>\n",
       "    <tr style=\"text-align: right;\">\n",
       "      <th></th>\n",
       "      <th>age_of_driver</th>\n",
       "      <th>gender</th>\n",
       "      <th>annual_income</th>\n",
       "      <th>high_education_ind</th>\n",
       "      <th>address_change_ind</th>\n",
       "      <th>living_status</th>\n",
       "      <th>claim_day_of_week</th>\n",
       "      <th>accident_site</th>\n",
       "      <th>past_num_of_claims</th>\n",
       "      <th>channel</th>\n",
       "      <th>claim_est_payout</th>\n",
       "      <th>age_of_vehicle</th>\n",
       "      <th>vehicle_category</th>\n",
       "      <th>vehicle_price</th>\n",
       "    </tr>\n",
       "  </thead>\n",
       "  <tbody>\n",
       "    <tr>\n",
       "      <th>0</th>\n",
       "      <td>46</td>\n",
       "      <td>1</td>\n",
       "      <td>38301</td>\n",
       "      <td>1</td>\n",
       "      <td>1</td>\n",
       "      <td>1</td>\n",
       "      <td>0</td>\n",
       "      <td>1</td>\n",
       "      <td>1</td>\n",
       "      <td>0</td>\n",
       "      <td>7530.940993</td>\n",
       "      <td>9.0</td>\n",
       "      <td>0</td>\n",
       "      <td>12885.45235</td>\n",
       "    </tr>\n",
       "    <tr>\n",
       "      <th>1</th>\n",
       "      <td>21</td>\n",
       "      <td>0</td>\n",
       "      <td>30445</td>\n",
       "      <td>0</td>\n",
       "      <td>1</td>\n",
       "      <td>1</td>\n",
       "      <td>4</td>\n",
       "      <td>0</td>\n",
       "      <td>1</td>\n",
       "      <td>1</td>\n",
       "      <td>2966.024895</td>\n",
       "      <td>4.0</td>\n",
       "      <td>1</td>\n",
       "      <td>29429.45218</td>\n",
       "    </tr>\n",
       "    <tr>\n",
       "      <th>2</th>\n",
       "      <td>49</td>\n",
       "      <td>0</td>\n",
       "      <td>38923</td>\n",
       "      <td>0</td>\n",
       "      <td>1</td>\n",
       "      <td>0</td>\n",
       "      <td>5</td>\n",
       "      <td>1</td>\n",
       "      <td>0</td>\n",
       "      <td>0</td>\n",
       "      <td>6283.888333</td>\n",
       "      <td>3.0</td>\n",
       "      <td>0</td>\n",
       "      <td>21701.18195</td>\n",
       "    </tr>\n",
       "    <tr>\n",
       "      <th>3</th>\n",
       "      <td>58</td>\n",
       "      <td>0</td>\n",
       "      <td>40605</td>\n",
       "      <td>1</td>\n",
       "      <td>0</td>\n",
       "      <td>0</td>\n",
       "      <td>4</td>\n",
       "      <td>1</td>\n",
       "      <td>3</td>\n",
       "      <td>0</td>\n",
       "      <td>6169.747994</td>\n",
       "      <td>4.0</td>\n",
       "      <td>2</td>\n",
       "      <td>13198.27344</td>\n",
       "    </tr>\n",
       "    <tr>\n",
       "      <th>4</th>\n",
       "      <td>38</td>\n",
       "      <td>1</td>\n",
       "      <td>36380</td>\n",
       "      <td>1</td>\n",
       "      <td>0</td>\n",
       "      <td>1</td>\n",
       "      <td>5</td>\n",
       "      <td>0</td>\n",
       "      <td>0</td>\n",
       "      <td>0</td>\n",
       "      <td>4541.387150</td>\n",
       "      <td>7.0</td>\n",
       "      <td>2</td>\n",
       "      <td>38060.21122</td>\n",
       "    </tr>\n",
       "  </tbody>\n",
       "</table>\n",
       "</div>"
      ],
      "text/plain": [
       "   age_of_driver  gender  annual_income  high_education_ind  \\\n",
       "0             46       1          38301                   1   \n",
       "1             21       0          30445                   0   \n",
       "2             49       0          38923                   0   \n",
       "3             58       0          40605                   1   \n",
       "4             38       1          36380                   1   \n",
       "\n",
       "   address_change_ind  living_status  claim_day_of_week  accident_site  \\\n",
       "0                   1              1                  0              1   \n",
       "1                   1              1                  4              0   \n",
       "2                   1              0                  5              1   \n",
       "3                   0              0                  4              1   \n",
       "4                   0              1                  5              0   \n",
       "\n",
       "   past_num_of_claims  channel  claim_est_payout  age_of_vehicle  \\\n",
       "0                   1        0       7530.940993             9.0   \n",
       "1                   1        1       2966.024895             4.0   \n",
       "2                   0        0       6283.888333             3.0   \n",
       "3                   3        0       6169.747994             4.0   \n",
       "4                   0        0       4541.387150             7.0   \n",
       "\n",
       "   vehicle_category  vehicle_price  \n",
       "0                 0    12885.45235  \n",
       "1                 1    29429.45218  \n",
       "2                 0    21701.18195  \n",
       "3                 2    13198.27344  \n",
       "4                 2    38060.21122  "
      ]
     },
     "execution_count": 19,
     "metadata": {},
     "output_type": "execute_result"
    }
   ],
   "source": [
    "\n",
    "\n",
    "df =  pd.read_csv('./ClaimCars/training_set_fd.csv', delimiter=';')\n",
    "\n",
    "df = df.dropna()\n",
    "\n",
    "data_text=df.drop(['claim_number', 'vehicle_color', 'vehicle_weight', 'marital_status', 'fraud'], axis=1)\n",
    "\n",
    "data_label=df['fraud']\n",
    "categoricals = data_text.select_dtypes(include='object').columns\n",
    "for col in categoricals:\n",
    "    data_text[col] = le.fit_transform(data_text[col])\n",
    "\n",
    "data_text.head()"
   ]
  },
  {
   "cell_type": "code",
   "execution_count": null,
   "metadata": {},
   "outputs": [],
   "source": [
    "from sklearn.compose import ColumnTransformer\n",
    "from sklearn.preprocessing import KBinsDiscretizer\n",
    "from sklearn.preprocessing import FunctionTransformer\n",
    "from sklearn.pipeline import FeatureUnion\n",
    "from sklearn.pipeline import Pipeline\n",
    "\n",
    "def identity(X):\n",
    "  return X\n",
    "\n",
    "\n",
    "Identity = FunctionTransformer(identity, validate=True)\n",
    "\n",
    "transf = ColumnTransformer([('payout_discretizer', KBinsDiscretizer(n_bins=5, encode='ordinal', strategy='uniform'), ['claim_est_payout']),\n",
    "                            ('vehicle_price_discretizer', KBinsDiscretizer(n_bins=5, encode='ordinal', strategy='uniform'),['vehicle_price'])])\n",
    "\n",
    "union = FeatureUnion([('identity', Identity), ('transformer', transf)])\n"
   ]
  },
  {
   "cell_type": "code",
   "execution_count": null,
   "metadata": {},
   "outputs": [
    {
     "name": "stdout",
     "output_type": "stream",
     "text": [
      "Logreg:  0.0\n"
     ]
    }
   ],
   "source": [
    "from sklearn.metrics import f1_score\n",
    "pipe = Pipeline([('union', union), ('logreg', logreg)])\n",
    "\n",
    "pipe.fit(data_text, data_label)\n",
    "y_pred = pipe.predict(data_text)\n",
    "print(\"Logreg: \", f1_score(data_label, y_pred))"
   ]
  },
  {
   "cell_type": "code",
   "execution_count": null,
   "metadata": {},
   "outputs": [
    {
     "name": "stdout",
     "output_type": "stream",
     "text": [
      "Tuned hyperparameters:  {'feature_selection__k': 5, 'transformer__transformer__payout_discretizer__n_bins': 5, 'transformer__transformer__vehicle_price_discretizer__n_bins': 5}\n",
      "Best score:  0.02015659724234347\n"
     ]
    }
   ],
   "source": [
    "from sklearn.feature_selection import SelectKBest\n",
    "\n",
    "pipe = Pipeline([('transformer', union), ('feature_selection', SelectKBest(k=2)), ('logreg', logreg)])\n",
    "\n",
    "param_grid = { 'transformer__transformer__payout_discretizer__n_bins': [5, 10, 15],\n",
    "                'transformer__transformer__vehicle_price_discretizer__n_bins': [5, 10, 15],\n",
    "                'feature_selection__k': [1, 2, 3, 4, 5, 6, 7, 8, 9]}\n",
    "grid = GridSearchCV(pipe, param_grid, cv=10, scoring='f1')\n",
    "grid.fit(data_text, data_label)\n",
    "print(\"Tuned hyperparameters: \", grid.best_params_)\n",
    "print(\"Best score: \", grid.best_score_)"
   ]
  }
 ],
 "metadata": {
  "kernelspec": {
   "display_name": "base",
   "language": "python",
   "name": "python3"
  },
  "language_info": {
   "codemirror_mode": {
    "name": "ipython",
    "version": 3
   },
   "file_extension": ".py",
   "mimetype": "text/x-python",
   "name": "python",
   "nbconvert_exporter": "python",
   "pygments_lexer": "ipython3",
   "version": "3.9.12"
  },
  "orig_nbformat": 4
 },
 "nbformat": 4,
 "nbformat_minor": 2
}
