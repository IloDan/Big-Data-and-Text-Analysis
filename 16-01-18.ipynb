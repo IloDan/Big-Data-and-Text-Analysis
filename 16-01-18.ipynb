{
 "cells": [
  {
   "cell_type": "code",
   "execution_count": 114,
   "metadata": {},
   "outputs": [
    {
     "data": {
      "text/html": [
       "<div>\n",
       "<style scoped>\n",
       "    .dataframe tbody tr th:only-of-type {\n",
       "        vertical-align: middle;\n",
       "    }\n",
       "\n",
       "    .dataframe tbody tr th {\n",
       "        vertical-align: top;\n",
       "    }\n",
       "\n",
       "    .dataframe thead th {\n",
       "        text-align: right;\n",
       "    }\n",
       "</style>\n",
       "<table border=\"1\" class=\"dataframe\">\n",
       "  <thead>\n",
       "    <tr style=\"text-align: right;\">\n",
       "      <th></th>\n",
       "      <th>id</th>\n",
       "      <th>age</th>\n",
       "      <th>job</th>\n",
       "      <th>marital</th>\n",
       "      <th>education</th>\n",
       "      <th>default</th>\n",
       "      <th>housing</th>\n",
       "      <th>loan</th>\n",
       "      <th>emp.var.rate</th>\n",
       "      <th>cons.price.idx</th>\n",
       "      <th>cons.conf.idx</th>\n",
       "      <th>euribor3m</th>\n",
       "      <th>nr.employed</th>\n",
       "      <th>y</th>\n",
       "    </tr>\n",
       "  </thead>\n",
       "  <tbody>\n",
       "    <tr>\n",
       "      <th>0</th>\n",
       "      <td>1</td>\n",
       "      <td>30</td>\n",
       "      <td>blue-collar</td>\n",
       "      <td>married</td>\n",
       "      <td>basic.9y</td>\n",
       "      <td>no</td>\n",
       "      <td>yes</td>\n",
       "      <td>no</td>\n",
       "      <td>-1.8</td>\n",
       "      <td>92.893</td>\n",
       "      <td>-46.2</td>\n",
       "      <td>1.313</td>\n",
       "      <td>5099.1</td>\n",
       "      <td>no</td>\n",
       "    </tr>\n",
       "    <tr>\n",
       "      <th>1</th>\n",
       "      <td>2</td>\n",
       "      <td>39</td>\n",
       "      <td>services</td>\n",
       "      <td>single</td>\n",
       "      <td>high.school</td>\n",
       "      <td>no</td>\n",
       "      <td>no</td>\n",
       "      <td>no</td>\n",
       "      <td>1.1</td>\n",
       "      <td>93.994</td>\n",
       "      <td>-36.4</td>\n",
       "      <td>4.855</td>\n",
       "      <td>5191.0</td>\n",
       "      <td>no</td>\n",
       "    </tr>\n",
       "    <tr>\n",
       "      <th>2</th>\n",
       "      <td>3</td>\n",
       "      <td>25</td>\n",
       "      <td>services</td>\n",
       "      <td>married</td>\n",
       "      <td>high.school</td>\n",
       "      <td>no</td>\n",
       "      <td>yes</td>\n",
       "      <td>no</td>\n",
       "      <td>1.4</td>\n",
       "      <td>94.465</td>\n",
       "      <td>-41.8</td>\n",
       "      <td>4.962</td>\n",
       "      <td>5228.1</td>\n",
       "      <td>no</td>\n",
       "    </tr>\n",
       "    <tr>\n",
       "      <th>3</th>\n",
       "      <td>4</td>\n",
       "      <td>38</td>\n",
       "      <td>services</td>\n",
       "      <td>married</td>\n",
       "      <td>basic.9y</td>\n",
       "      <td>no</td>\n",
       "      <td>unknown</td>\n",
       "      <td>unknown</td>\n",
       "      <td>1.4</td>\n",
       "      <td>94.465</td>\n",
       "      <td>-41.8</td>\n",
       "      <td>4.959</td>\n",
       "      <td>5228.1</td>\n",
       "      <td>no</td>\n",
       "    </tr>\n",
       "    <tr>\n",
       "      <th>4</th>\n",
       "      <td>5</td>\n",
       "      <td>47</td>\n",
       "      <td>admin.</td>\n",
       "      <td>married</td>\n",
       "      <td>university.degree</td>\n",
       "      <td>no</td>\n",
       "      <td>yes</td>\n",
       "      <td>no</td>\n",
       "      <td>-0.1</td>\n",
       "      <td>93.200</td>\n",
       "      <td>-42.0</td>\n",
       "      <td>4.191</td>\n",
       "      <td>5195.8</td>\n",
       "      <td>no</td>\n",
       "    </tr>\n",
       "  </tbody>\n",
       "</table>\n",
       "</div>"
      ],
      "text/plain": [
       "   id  age          job  marital          education default  housing     loan  \\\n",
       "0   1   30  blue-collar  married           basic.9y      no      yes       no   \n",
       "1   2   39     services   single        high.school      no       no       no   \n",
       "2   3   25     services  married        high.school      no      yes       no   \n",
       "3   4   38     services  married           basic.9y      no  unknown  unknown   \n",
       "4   5   47       admin.  married  university.degree      no      yes       no   \n",
       "\n",
       "   emp.var.rate  cons.price.idx  cons.conf.idx  euribor3m  nr.employed   y  \n",
       "0          -1.8          92.893          -46.2      1.313       5099.1  no  \n",
       "1           1.1          93.994          -36.4      4.855       5191.0  no  \n",
       "2           1.4          94.465          -41.8      4.962       5228.1  no  \n",
       "3           1.4          94.465          -41.8      4.959       5228.1  no  \n",
       "4          -0.1          93.200          -42.0      4.191       5195.8  no  "
      ]
     },
     "execution_count": 114,
     "metadata": {},
     "output_type": "execute_result"
    }
   ],
   "source": [
    "import pandas as pd\n",
    "import numpy as np\n",
    "import matplotlib.pyplot as plt\n",
    "\n",
    "df = pd.read_csv('BankMarketing/BankMarketingDataSet.csv', sep=';')\n",
    "df.head()"
   ]
  },
  {
   "cell_type": "code",
   "execution_count": 115,
   "metadata": {},
   "outputs": [
    {
     "name": "stdout",
     "output_type": "stream",
     "text": [
      "Number of instances:  4119\n",
      "Any missing values:  False\n",
      "The dataset is balanced:  no     3668\n",
      "yes     451\n",
      "Name: y, dtype: int64\n"
     ]
    }
   ],
   "source": [
    "print(\"Number of instances: \", len(df))\n",
    "print(\"Any missing values: \", df.isnull().values.any())\n",
    "print(\"The dataset is balanced: \", df['y'].value_counts())"
   ]
  },
  {
   "cell_type": "code",
   "execution_count": 116,
   "metadata": {},
   "outputs": [
    {
     "data": {
      "text/plain": [
       "<AxesSubplot:>"
      ]
     },
     "execution_count": 116,
     "metadata": {},
     "output_type": "execute_result"
    },
    {
     "data": {
      "image/png": "[encoded data removed]",
      "text/plain": [
       "<Figure size 640x480 with 1 Axes>"
      ]
     },
     "metadata": {},
     "output_type": "display_data"
    }
   ],
   "source": [
    "#Show the age distribution\n",
    "df['age'].hist(bins=20)\n"
   ]
  },
  {
   "cell_type": "code",
   "execution_count": 117,
   "metadata": {},
   "outputs": [
    {
     "name": "stdout",
     "output_type": "stream",
     "text": [
      "y           no  yes\n",
      "marital            \n",
      "divorced   403   43\n",
      "married   2257  252\n",
      "single     998  155\n",
      "unknown     10    1\n"
     ]
    },
    {
     "data": {
      "image/png": "[encoded data removed]",
      "text/plain": [
       "<Figure size 640x480 with 1 Axes>"
      ]
     },
     "metadata": {},
     "output_type": "display_data"
    }
   ],
   "source": [
    "# Creazione di una tabella pivot per contare la frequenza di sottoscrizione del deposito per ciascuno stato civile\n",
    "pivot_table = df.pivot_table(index='marital', columns='y', aggfunc='size', fill_value=0)\n",
    "\n",
    "# Visualizza la tabella pivot\n",
    "print(pivot_table)\n",
    "\n",
    "# Crea un grafico a barre per mostrare la distribuzione di sottoscrizione del deposito rispetto allo stato civile\n",
    "pivot_table.plot(kind='bar', stacked=True)\n",
    "plt.xlabel('Stato civile')\n",
    "plt.ylabel('Frequenza')\n",
    "plt.title('Distribuzione di sottoscrizione del deposito rispetto allo stato civile')\n",
    "plt.show()\n"
   ]
  },
  {
   "cell_type": "code",
   "execution_count": 118,
   "metadata": {},
   "outputs": [
    {
     "data": {
      "image/png": "[encoded data removed]",
      "text/plain": [
       "<Figure size 640x480 with 1 Axes>"
      ]
     },
     "metadata": {},
     "output_type": "display_data"
    }
   ],
   "source": [
    "#Calcolare una serie che rappresenti per ogni età la percentuale delle persone che hanno sottoscritto un deposito. Calcolare poi una serie che rappresenti per ogni età la percentuale delle persone che non hanno sottoscritto un deposito. Rappresentare graficamente le due serie \n",
    "#Calcolo la percentuale di persone che hanno sottoscritto un deposito per ogni età\n",
    "age_deposit = df[df['y'] == 'yes']['age'].value_counts()\n",
    "age_deposit = age_deposit.sort_index()\n",
    "age_deposit = age_deposit / df['age'].value_counts() * 100\n",
    "\n",
    "#Calcolo la percentuale di persone che non hanno sottoscritto un deposito per ogni età\n",
    "age_no_deposit = df[df['y'] == 'no']['age'].value_counts()\n",
    "age_no_deposit = age_no_deposit.sort_index()\n",
    "age_no_deposit = age_no_deposit / df['age'].value_counts() * 100\n",
    "\n",
    "#Visualizzo i risultati\n",
    "plt.plot(age_deposit.index, age_deposit.values, label='Sottoscrizione del deposito')\n",
    "plt.plot(age_no_deposit.index, age_no_deposit.values, label='Nessuna sottoscrizione del deposito')\n",
    "plt.xlabel('Età')\n",
    "plt.ylabel('Percentuale')\n",
    "plt.title('Percentuale di sottoscrizione del deposito per ogni età')\n",
    "plt.legend()\n",
    "plt.show()\n"
   ]
  },
  {
   "cell_type": "code",
   "execution_count": 119,
   "metadata": {},
   "outputs": [],
   "source": [
    "from sklearn.preprocessing import LabelEncoder\n",
    "from sklearn.model_selection import train_test_split\n",
    "\n",
    "istanze_unknown = df[df.eq('unknown').any(axis=1)]\n",
    "istanze_unknown=istanze_unknown.index\n",
    "df=df.drop(istanze_unknown)\n",
    "\n",
    "categorical_data = df.select_dtypes(include=['object']).copy()\n",
    "numerical_data = df.select_dtypes(include=['number']).copy()\n",
    "# Codifica le variabili categoriche\n",
    "le = LabelEncoder()\n",
    "for col in categorical_data.columns:\n",
    "    categorical_data[col] = le.fit_transform(categorical_data[col])\n",
    "\n",
    "# Unisci le variabili categoriche e numeriche\n",
    "process_df = pd.concat([categorical_data, numerical_data], axis=1)\n",
    "\n",
    "data_labels = process_df['y']\n",
    "process_df = process_df.drop('y', axis=1)\n",
    "\n",
    "# Dividi il dataset in training set e test set\n",
    "X_train, X_test, y_train, y_test = train_test_split(process_df, data_labels, test_size=1/3, random_state=42)"
   ]
  },
  {
   "cell_type": "code",
   "execution_count": 120,
   "metadata": {},
   "outputs": [
    {
     "data": {
      "text/html": [
       "<div>\n",
       "<style scoped>\n",
       "    .dataframe tbody tr th:only-of-type {\n",
       "        vertical-align: middle;\n",
       "    }\n",
       "\n",
       "    .dataframe tbody tr th {\n",
       "        vertical-align: top;\n",
       "    }\n",
       "\n",
       "    .dataframe thead th {\n",
       "        text-align: right;\n",
       "    }\n",
       "</style>\n",
       "<table border=\"1\" class=\"dataframe\">\n",
       "  <thead>\n",
       "    <tr style=\"text-align: right;\">\n",
       "      <th></th>\n",
       "      <th>job</th>\n",
       "      <th>marital</th>\n",
       "      <th>education</th>\n",
       "      <th>default</th>\n",
       "      <th>housing</th>\n",
       "      <th>loan</th>\n",
       "      <th>y</th>\n",
       "    </tr>\n",
       "  </thead>\n",
       "  <tbody>\n",
       "    <tr>\n",
       "      <th>0</th>\n",
       "      <td>1</td>\n",
       "      <td>1</td>\n",
       "      <td>2</td>\n",
       "      <td>0</td>\n",
       "      <td>1</td>\n",
       "      <td>0</td>\n",
       "      <td>0</td>\n",
       "    </tr>\n",
       "    <tr>\n",
       "      <th>1</th>\n",
       "      <td>7</td>\n",
       "      <td>2</td>\n",
       "      <td>3</td>\n",
       "      <td>0</td>\n",
       "      <td>0</td>\n",
       "      <td>0</td>\n",
       "      <td>0</td>\n",
       "    </tr>\n",
       "    <tr>\n",
       "      <th>2</th>\n",
       "      <td>7</td>\n",
       "      <td>1</td>\n",
       "      <td>3</td>\n",
       "      <td>0</td>\n",
       "      <td>1</td>\n",
       "      <td>0</td>\n",
       "      <td>0</td>\n",
       "    </tr>\n",
       "    <tr>\n",
       "      <th>4</th>\n",
       "      <td>0</td>\n",
       "      <td>1</td>\n",
       "      <td>6</td>\n",
       "      <td>0</td>\n",
       "      <td>1</td>\n",
       "      <td>0</td>\n",
       "      <td>0</td>\n",
       "    </tr>\n",
       "    <tr>\n",
       "      <th>5</th>\n",
       "      <td>7</td>\n",
       "      <td>2</td>\n",
       "      <td>6</td>\n",
       "      <td>0</td>\n",
       "      <td>0</td>\n",
       "      <td>0</td>\n",
       "      <td>0</td>\n",
       "    </tr>\n",
       "  </tbody>\n",
       "</table>\n",
       "</div>"
      ],
      "text/plain": [
       "   job  marital  education  default  housing  loan  y\n",
       "0    1        1          2        0        1     0  0\n",
       "1    7        2          3        0        0     0  0\n",
       "2    7        1          3        0        1     0  0\n",
       "4    0        1          6        0        1     0  0\n",
       "5    7        2          6        0        0     0  0"
      ]
     },
     "execution_count": 120,
     "metadata": {},
     "output_type": "execute_result"
    }
   ],
   "source": [
    "categorical_data.head()"
   ]
  },
  {
   "cell_type": "code",
   "execution_count": 121,
   "metadata": {},
   "outputs": [
    {
     "data": {
      "text/html": [
       "<div>\n",
       "<style scoped>\n",
       "    .dataframe tbody tr th:only-of-type {\n",
       "        vertical-align: middle;\n",
       "    }\n",
       "\n",
       "    .dataframe tbody tr th {\n",
       "        vertical-align: top;\n",
       "    }\n",
       "\n",
       "    .dataframe thead th {\n",
       "        text-align: right;\n",
       "    }\n",
       "</style>\n",
       "<table border=\"1\" class=\"dataframe\">\n",
       "  <thead>\n",
       "    <tr style=\"text-align: right;\">\n",
       "      <th></th>\n",
       "      <th>job</th>\n",
       "      <th>marital</th>\n",
       "      <th>education</th>\n",
       "      <th>default</th>\n",
       "      <th>housing</th>\n",
       "      <th>loan</th>\n",
       "      <th>id</th>\n",
       "      <th>age</th>\n",
       "      <th>emp.var.rate</th>\n",
       "      <th>cons.price.idx</th>\n",
       "      <th>cons.conf.idx</th>\n",
       "      <th>euribor3m</th>\n",
       "      <th>nr.employed</th>\n",
       "    </tr>\n",
       "  </thead>\n",
       "  <tbody>\n",
       "    <tr>\n",
       "      <th>0</th>\n",
       "      <td>1</td>\n",
       "      <td>1</td>\n",
       "      <td>2</td>\n",
       "      <td>0</td>\n",
       "      <td>1</td>\n",
       "      <td>0</td>\n",
       "      <td>1</td>\n",
       "      <td>30</td>\n",
       "      <td>-1.8</td>\n",
       "      <td>92.893</td>\n",
       "      <td>-46.2</td>\n",
       "      <td>1.313</td>\n",
       "      <td>5099.1</td>\n",
       "    </tr>\n",
       "    <tr>\n",
       "      <th>1</th>\n",
       "      <td>7</td>\n",
       "      <td>2</td>\n",
       "      <td>3</td>\n",
       "      <td>0</td>\n",
       "      <td>0</td>\n",
       "      <td>0</td>\n",
       "      <td>2</td>\n",
       "      <td>39</td>\n",
       "      <td>1.1</td>\n",
       "      <td>93.994</td>\n",
       "      <td>-36.4</td>\n",
       "      <td>4.855</td>\n",
       "      <td>5191.0</td>\n",
       "    </tr>\n",
       "    <tr>\n",
       "      <th>2</th>\n",
       "      <td>7</td>\n",
       "      <td>1</td>\n",
       "      <td>3</td>\n",
       "      <td>0</td>\n",
       "      <td>1</td>\n",
       "      <td>0</td>\n",
       "      <td>3</td>\n",
       "      <td>25</td>\n",
       "      <td>1.4</td>\n",
       "      <td>94.465</td>\n",
       "      <td>-41.8</td>\n",
       "      <td>4.962</td>\n",
       "      <td>5228.1</td>\n",
       "    </tr>\n",
       "    <tr>\n",
       "      <th>4</th>\n",
       "      <td>0</td>\n",
       "      <td>1</td>\n",
       "      <td>6</td>\n",
       "      <td>0</td>\n",
       "      <td>1</td>\n",
       "      <td>0</td>\n",
       "      <td>5</td>\n",
       "      <td>47</td>\n",
       "      <td>-0.1</td>\n",
       "      <td>93.200</td>\n",
       "      <td>-42.0</td>\n",
       "      <td>4.191</td>\n",
       "      <td>5195.8</td>\n",
       "    </tr>\n",
       "    <tr>\n",
       "      <th>5</th>\n",
       "      <td>7</td>\n",
       "      <td>2</td>\n",
       "      <td>6</td>\n",
       "      <td>0</td>\n",
       "      <td>0</td>\n",
       "      <td>0</td>\n",
       "      <td>6</td>\n",
       "      <td>32</td>\n",
       "      <td>-1.1</td>\n",
       "      <td>94.199</td>\n",
       "      <td>-37.5</td>\n",
       "      <td>0.884</td>\n",
       "      <td>4963.6</td>\n",
       "    </tr>\n",
       "  </tbody>\n",
       "</table>\n",
       "</div>"
      ],
      "text/plain": [
       "   job  marital  education  default  housing  loan  id  age  emp.var.rate  \\\n",
       "0    1        1          2        0        1     0   1   30          -1.8   \n",
       "1    7        2          3        0        0     0   2   39           1.1   \n",
       "2    7        1          3        0        1     0   3   25           1.4   \n",
       "4    0        1          6        0        1     0   5   47          -0.1   \n",
       "5    7        2          6        0        0     0   6   32          -1.1   \n",
       "\n",
       "   cons.price.idx  cons.conf.idx  euribor3m  nr.employed  \n",
       "0          92.893          -46.2      1.313       5099.1  \n",
       "1          93.994          -36.4      4.855       5191.0  \n",
       "2          94.465          -41.8      4.962       5228.1  \n",
       "4          93.200          -42.0      4.191       5195.8  \n",
       "5          94.199          -37.5      0.884       4963.6  "
      ]
     },
     "execution_count": 121,
     "metadata": {},
     "output_type": "execute_result"
    }
   ],
   "source": [
    "process_df.head()"
   ]
  },
  {
   "cell_type": "code",
   "execution_count": 122,
   "metadata": {},
   "outputs": [
    {
     "name": "stdout",
     "output_type": "stream",
     "text": [
      "Accuracy train:  1.0\n",
      "Accuracy test:  0.8135922330097087\n"
     ]
    },
    {
     "data": {
      "image/png": "[encoded data removed]",
      "text/plain": [
       "<Figure size 640x480 with 2 Axes>"
      ]
     },
     "metadata": {},
     "output_type": "display_data"
    }
   ],
   "source": [
    "from sklearn.tree import DecisionTreeClassifier\n",
    "from sklearn.metrics import accuracy_score\n",
    "from sklearn.metrics import confusion_matrix\n",
    "import seaborn as sns\n",
    "# Crea un classificatore Decision Tree\n",
    "tree = DecisionTreeClassifier()\n",
    "tree.fit(X_train, y_train)\n",
    "\n",
    "# Effettua una predizione sul test set\n",
    "y_pred = tree.predict(X_test)\n",
    "\n",
    "# Calcola l'accuratezza\n",
    "accuracy_train = accuracy_score(y_train, tree.predict(X_train))\n",
    "print(\"Accuracy train: \", accuracy_train) \n",
    "accuracy_test = accuracy_score(y_test, y_pred)\n",
    "print(\"Accuracy test: \", accuracy_test)\n",
    "\n",
    "#Show the confusion matrix\n",
    "cm = confusion_matrix(y_test, y_pred, normalize='all')\n",
    "sns.heatmap(cm, annot=True)\n",
    "plt.ylabel('True')\n",
    "plt.xlabel('Predicted')\n",
    "plt.show()\n"
   ]
  },
  {
   "cell_type": "code",
   "execution_count": 123,
   "metadata": {},
   "outputs": [
    {
     "name": "stdout",
     "output_type": "stream",
     "text": [
      "Accuracy train:  0.8733009708737864\n",
      "Accuracy test:  0.8941747572815534\n"
     ]
    }
   ],
   "source": [
    "from sklearn.svm import SVC\n",
    "\n",
    "# Crea un classificatore SVM\n",
    "svm = SVC()\n",
    "svm.fit(X_train, y_train)\n",
    "\n",
    "# Effettua una predizione sul test set\n",
    "y_pred = svm.predict(X_test)\n",
    "\n",
    "# Calcola l'accuratezza\n",
    "accuracy_train = accuracy_score(y_train, svm.predict(X_train))\n",
    "print(\"Accuracy train: \", accuracy_train)\n",
    "accuracy_test = accuracy_score(y_test, y_pred)\n",
    "print(\"Accuracy test: \", accuracy_test)"
   ]
  },
  {
   "cell_type": "code",
   "execution_count": 124,
   "metadata": {},
   "outputs": [
    {
     "name": "stdout",
     "output_type": "stream",
     "text": [
      "Accuracy Decision Tree: 0.78 (+/- 0.22)\n",
      "Accuracy SVM: 0.88 (+/- 0.00)\n"
     ]
    }
   ],
   "source": [
    "from sklearn.model_selection import cross_val_score\n",
    "\n",
    "scores_tree = cross_val_score(tree, process_df, data_labels, cv=10)\n",
    "scores_svm = cross_val_score(svm, process_df, data_labels, cv=10)\n",
    "\n",
    "print(\"Accuracy Decision Tree: %0.2f (+/- %0.2f)\" % (scores_tree.mean(), scores_tree.std() * 2))\n",
    "print(\"Accuracy SVM: %0.2f (+/- %0.2f)\" % (scores_svm.mean(), scores_svm.std() * 2))"
   ]
  },
  {
   "cell_type": "code",
   "execution_count": 125,
   "metadata": {},
   "outputs": [
    {
     "name": "stdout",
     "output_type": "stream",
     "text": [
      "Accuracy train:  0.8733009708737864\n",
      "Accuracy test:  0.8941747572815534\n",
      "Accuracy train:  1.0\n",
      "Accuracy test:  0.8310679611650486\n"
     ]
    }
   ],
   "source": [
    "numeric = numerical_data\n",
    "numeric\n",
    "\n",
    "X_train, X_test, y_train, y_test = train_test_split(numeric, data_labels, test_size=1/3, random_state=42)\n",
    "\n",
    "#svm\n",
    "svm.fit(X_train, y_train)\n",
    "y_pred = svm.predict(X_test)\n",
    "accuracy_train = accuracy_score(y_train, svm.predict(X_train))\n",
    "print(\"Accuracy train: \", accuracy_train)\n",
    "accuracy_test = accuracy_score(y_test, y_pred)\n",
    "print(\"Accuracy test: \", accuracy_test)\n",
    "\n",
    "#tree\n",
    "tree.fit(X_train, y_train)\n",
    "y_pred = tree.predict(X_test)\n",
    "accuracy_train = accuracy_score(y_train, tree.predict(X_train))\n",
    "print(\"Accuracy train: \", accuracy_train)\n",
    "accuracy_test = accuracy_score(y_test, y_pred)\n",
    "print(\"Accuracy test: \", accuracy_test)\n"
   ]
  },
  {
   "cell_type": "code",
   "execution_count": 129,
   "metadata": {},
   "outputs": [
    {
     "name": "stdout",
     "output_type": "stream",
     "text": [
      "Accuracy train: SVM  0.8771844660194175\n",
      "Accuracy test: SVM  0.8864077669902912\n",
      "Accuracy train: tree  1.0\n",
      "Accuracy test: tree  0.8233009708737864\n"
     ]
    }
   ],
   "source": [
    "\n",
    "categorical = df.select_dtypes(include=['object']).copy()\n",
    "categorical = categorical.drop('y', axis=1)\n",
    "\n",
    "hot = pd.get_dummies(categorical)\n",
    "\n",
    "new_df= pd.concat([hot, numerical_data], axis=1)\n",
    "new_df.head()\n",
    "\n",
    "X_train, X_test, y_train, y_test = train_test_split(new_df, data_labels, test_size=1/3)\n",
    "\n",
    "#svm\n",
    "svm.fit(X_train, y_train)\n",
    "y_pred = svm.predict(X_test)\n",
    "accuracy_train = accuracy_score(y_train, svm.predict(X_train))\n",
    "print(\"Accuracy train: SVM \", accuracy_train)\n",
    "accuracy_test = accuracy_score(y_test, y_pred)\n",
    "print(\"Accuracy test: SVM \", accuracy_test)\n",
    "\n",
    "#tree\n",
    "tree.fit(X_train, y_train)\n",
    "y_pred = tree.predict(X_test)\n",
    "accuracy_train = accuracy_score(y_train, tree.predict(X_train))\n",
    "print(\"Accuracy train: tree \", accuracy_train)\n",
    "accuracy_test = accuracy_score(y_test, y_pred)\n",
    "print(\"Accuracy test: tree \", accuracy_test)\n"
   ]
  },
  {
   "cell_type": "code",
   "execution_count": 132,
   "metadata": {},
   "outputs": [
    {
     "name": "stdout",
     "output_type": "stream",
     "text": [
      "Accuracy train:  0.14258676924582736\n",
      "Accuracy test:  0.15516419625843336\n",
      "MSE:  0.10582524271844661\n"
     ]
    }
   ],
   "source": [
    "from sklearn.linear_model import LinearRegression\n",
    "from sklearn.metrics import mean_squared_error\n",
    "\n",
    "X_train, X_test, y_train, y_test = train_test_split(process_df, data_labels, test_size=1/3, random_state=42)\n",
    "# Crea un modello di regressione lineare\n",
    "lr = LinearRegression()\n",
    "\n",
    "# Addestra il modello sul training set\n",
    "lr.fit(X_train, y_train)\n",
    "\n",
    "# Effettua una predizione sul test set\n",
    "y_pred = lr.predict(X_test).round()\n",
    "\n",
    "print(\"Accuracy train: \", lr.score(X_train, y_train))\n",
    "print(\"Accuracy test: \", lr.score(X_test, y_test))\n",
    "# Calcola l'errore quadratico medio\n",
    "mse = mean_squared_error(y_test, y_pred)\n",
    "print(\"MSE: \", mse)\n"
   ]
  }
 ],
 "metadata": {
  "kernelspec": {
   "display_name": "base",
   "language": "python",
   "name": "python3"
  },
  "language_info": {
   "codemirror_mode": {
    "name": "ipython",
    "version": 3
   },
   "file_extension": ".py",
   "mimetype": "text/x-python",
   "name": "python",
   "nbconvert_exporter": "python",
   "pygments_lexer": "ipython3",
   "version": "3.9.15"
  },
  "orig_nbformat": 4
 },
 "nbformat": 4,
 "nbformat_minor": 2
}
